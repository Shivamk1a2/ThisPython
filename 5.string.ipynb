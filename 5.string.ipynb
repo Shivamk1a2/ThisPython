{
 "cells": [
  {
   "cell_type": "markdown",
   "metadata": {},
   "source": [
    "# String datatype\n",
    "> Strings in python are surrounded by either single quotation marks, or double quotation marks.\n",
    "1. String Constructor is str()\n",
    "2. String Literal is ' ',\" \",\"\"\" \"\"\",''' '''\n",
    "3. String is a set of squence of character\n",
    "4. stirng Support indexing\n",
    "5. String Support slicing\n",
    "6. String Support concatenation\n",
    "7. String is immutable of hashble datatype\n",
    "8. Stirng have various methods"
   ]
  },
  {
   "cell_type": "code",
   "execution_count": 5,
   "metadata": {},
   "outputs": [
    {
     "name": "stdout",
     "output_type": "stream",
     "text": [
      "this is shivam kashyap\n",
      "this is shivam kashyap\n",
      "this is shivam kashyap\n",
      "this is shivam kashyap\n"
     ]
    }
   ],
   "source": [
    "# you can write string with different types.\n",
    "a=\"this is shivam kashyap\"\n",
    "b='this is shivam kashyap'\n",
    "c=\"\"\"this is shivam kashyap\"\"\"\n",
    "d='''this is shivam kashyap'''\n",
    "print(a)\n",
    "print(b)\n",
    "print(c)\n",
    "print(d)"
   ]
  },
  {
   "cell_type": "code",
   "execution_count": 6,
   "metadata": {},
   "outputs": [
    {
     "name": "stdout",
     "output_type": "stream",
     "text": [
      "Krishna\n"
     ]
    },
    {
     "data": {
      "text/plain": [
       "'krishna'"
      ]
     },
     "execution_count": 6,
     "metadata": {},
     "output_type": "execute_result"
    }
   ],
   "source": [
    "print(\"Krishna\") \n",
    "\"krishna\"\n"
   ]
  },
  {
   "cell_type": "markdown",
   "metadata": {},
   "source": [
    "* How to create empty string?\n",
    "1. Using Constructor (constructor is str())\n",
    "2. Using Literal ('')"
   ]
  },
  {
   "cell_type": "code",
   "execution_count": 8,
   "metadata": {},
   "outputs": [
    {
     "name": "stdout",
     "output_type": "stream",
     "text": [
      "\n"
     ]
    }
   ],
   "source": [
    "# String Constructor is Str().\n",
    "\n",
    "a=str()\n",
    "print(a) # we can see empty output here. bcz print() funct is used to beautify your content so remove ' '(single quetes)."
   ]
  },
  {
   "cell_type": "code",
   "execution_count": 7,
   "metadata": {},
   "outputs": [
    {
     "data": {
      "text/plain": [
       "''"
      ]
     },
     "execution_count": 7,
     "metadata": {},
     "output_type": "execute_result"
    }
   ],
   "source": [
    "# using constructor str()\n",
    "b=str()\n",
    "b     # without print() function. you can use constructor for empty string datatype. we can see this output. like(' ')"
   ]
  },
  {
   "cell_type": "code",
   "execution_count": 9,
   "metadata": {},
   "outputs": [
    {
     "name": "stdout",
     "output_type": "stream",
     "text": [
      "\n"
     ]
    },
    {
     "data": {
      "text/plain": [
       "''"
      ]
     },
     "execution_count": 9,
     "metadata": {},
     "output_type": "execute_result"
    }
   ],
   "source": [
    "# using literal create empty string datatype.\n",
    "b=''\n",
    "c=''\n",
    "print(b) # print() function (output shows empty)\n",
    "c        # without print() fucntion (output shows ' '.)"
   ]
  },
  {
   "cell_type": "code",
   "execution_count": 11,
   "metadata": {},
   "outputs": [
    {
     "data": {
      "text/plain": [
       "''"
      ]
     },
     "execution_count": 11,
     "metadata": {},
     "output_type": "execute_result"
    }
   ],
   "source": [
    "#Literal different type.\n",
    "a=\"\"\n",
    "a"
   ]
  },
  {
   "cell_type": "code",
   "execution_count": 12,
   "metadata": {},
   "outputs": [
    {
     "data": {
      "text/plain": [
       "' '"
      ]
     },
     "execution_count": 12,
     "metadata": {},
     "output_type": "execute_result"
    }
   ],
   "source": [
    "#Literal different type.\n",
    "b=\"\"\" \"\"\"\n",
    "b"
   ]
  },
  {
   "cell_type": "code",
   "execution_count": 14,
   "metadata": {},
   "outputs": [
    {
     "data": {
      "text/plain": [
       "' '"
      ]
     },
     "execution_count": 14,
     "metadata": {},
     "output_type": "execute_result"
    }
   ],
   "source": [
    "#Literal different type.\n",
    "c=''' '''\n",
    "c"
   ]
  },
  {
   "cell_type": "markdown",
   "metadata": {},
   "source": [
    "Note: -\n",
    "* before indexing\n",
    "* Difference between \" \",' ',\"\"\" \"\"\",''' '''\n"
   ]
  },
  {
   "cell_type": "code",
   "execution_count": 15,
   "metadata": {},
   "outputs": [
    {
     "name": "stdout",
     "output_type": "stream",
     "text": [
      "<class 'str'>\n",
      "SHIVAM KASHYAP\n"
     ]
    }
   ],
   "source": [
    "a=\"SHIVAM KASHYAP\"\n",
    "print(type(a))\n",
    "print(a)"
   ]
  },
  {
   "cell_type": "code",
   "execution_count": 16,
   "metadata": {},
   "outputs": [
    {
     "name": "stdout",
     "output_type": "stream",
     "text": [
      "<class 'str'>\n",
      "ANKUR KASHYAP\n"
     ]
    }
   ],
   "source": [
    "a='ANKUR KASHYAP'\n",
    "print(type(a))\n",
    "print(a)"
   ]
  },
  {
   "cell_type": "code",
   "execution_count": 17,
   "metadata": {},
   "outputs": [
    {
     "name": "stdout",
     "output_type": "stream",
     "text": [
      "<class 'str'>\n",
      "Mr.SHIVAM KASHYAP\n"
     ]
    }
   ],
   "source": [
    "a=\"\"\"Mr.SHIVAM KASHYAP\"\"\"\n",
    "print(type(a))\n",
    "print(a)"
   ]
  },
  {
   "cell_type": "code",
   "execution_count": 18,
   "metadata": {},
   "outputs": [
    {
     "name": "stdout",
     "output_type": "stream",
     "text": [
      "<class 'str'>\n",
      "THIS IS SHIVAM KASHYAP\n"
     ]
    }
   ],
   "source": [
    "a='''THIS IS SHIVAM KASHYAP'''\n",
    "print(type(a))\n",
    "print(a)"
   ]
  },
  {
   "cell_type": "markdown",
   "metadata": {},
   "source": [
    "2. Difference \"\",'' and \"\"\" \"\"\",''' '''\n",
    "1. \" \" or ' '.\n",
    "2. \"\"\" \"\"\" or ''' '''\n"
   ]
  },
  {
   "cell_type": "code",
   "execution_count": 21,
   "metadata": {},
   "outputs": [
    {
     "name": "stdout",
     "output_type": "stream",
     "text": [
      "This is shivam kashyap\n",
      "This is shivam kashyap\n"
     ]
    }
   ],
   "source": [
    "a=\"This is shivam kashyap\"\n",
    "b='This is shivam kashyap'\n",
    "print(a)\n",
    "print(b)"
   ]
  },
  {
   "cell_type": "code",
   "execution_count": 22,
   "metadata": {},
   "outputs": [
    {
     "ename": "SyntaxError",
     "evalue": "unterminated string literal (detected at line 1) (3896595302.py, line 1)",
     "output_type": "error",
     "traceback": [
      "\u001b[1;36m  Cell \u001b[1;32mIn[22], line 1\u001b[1;36m\u001b[0m\n\u001b[1;33m    a=\"this is\u001b[0m\n\u001b[1;37m      ^\u001b[0m\n\u001b[1;31mSyntaxError\u001b[0m\u001b[1;31m:\u001b[0m unterminated string literal (detected at line 1)\n"
     ]
    }
   ],
   "source": [
    "# error in this condition.\n",
    "a=\"this is \n",
    "            shivam kashyap\"\n",
    "b='this is \n",
    "            shivam kashyap'\n",
    "print(a)\n",
    "print(b)"
   ]
  },
  {
   "cell_type": "code",
   "execution_count": 23,
   "metadata": {},
   "outputs": [
    {
     "name": "stdout",
     "output_type": "stream",
     "text": [
      "this is shivam kashyap\n",
      "this is shivam kashyap\n"
     ]
    }
   ],
   "source": [
    "a=\"\"\"this is shivam kashyap\"\"\"\n",
    "b='''this is shivam kashyap'''\n",
    "print(a)\n",
    "print(b)"
   ]
  },
  {
   "cell_type": "code",
   "execution_count": 24,
   "metadata": {},
   "outputs": [
    {
     "name": "stdout",
     "output_type": "stream",
     "text": [
      "This is \n",
      "             shivam\n",
      "                      kashyap\n",
      "This is \n",
      "             ankur\n",
      "                      kashyap\n"
     ]
    }
   ],
   "source": [
    "#but \"\"\" \"\"\" and ''' ''' isn't give error in this condition.\n",
    "a=\"\"\"This is \n",
    "             shivam\n",
    "                      kashyap\"\"\"\n",
    "b='''This is \n",
    "             ankur\n",
    "                      kashyap'''\n",
    "print(a)\n",
    "print(b)\n"
   ]
  },
  {
   "cell_type": "markdown",
   "metadata": {},
   "source": [
    "* this is main difference between \"\",'' and \"\"\" \"\"\",''' '''."
   ]
  },
  {
   "cell_type": "markdown",
   "metadata": {},
   "source": [
    "1. String is a set of sequence fo character.\n",
    " * Stirng support indexing :\n",
    "   >> Python uses zero-based indexing. which means that the index of the first element in a sequence [0] and the index of the second element is [1] same as other element. "
   ]
  },
  {
   "cell_type": "code",
   "execution_count": 1,
   "metadata": {},
   "outputs": [
    {
     "name": "stdout",
     "output_type": "stream",
     "text": [
      "K R I S H N A - K R I S H N A "
     ]
    }
   ],
   "source": [
    "#  Indexing of string\n",
    "a=\"KRISHNA\"\n",
    "print(a[0],end=\" \")\n",
    "print(a[1],end=\" \")\n",
    "print(a[2],end=\" \")\n",
    "print(a[3],end=\" \")\n",
    "print(a[4],end=\" \")\n",
    "print(a[5],end=\" \")\n",
    "print(a[6],end=\" - \")\n",
    "print(a[-7],end=\" \")\n",
    "print(a[-6],end=\" \")\n",
    "print(a[-5],end=\" \")\n",
    "print(a[-4],end=\" \")\n",
    "print(a[-3],end=\" \")\n",
    "print(a[-2],end=\" \")\n",
    "print(a[-1],end=\" \")"
   ]
  },
  {
   "cell_type": "markdown",
   "metadata": {},
   "source": [
    "you can also check index no from element using name.index() funtion."
   ]
  },
  {
   "cell_type": "code",
   "execution_count": 7,
   "metadata": {},
   "outputs": [
    {
     "name": "stdout",
     "output_type": "stream",
     "text": [
      "KRISHNASIR\n",
      "3\n"
     ]
    }
   ],
   "source": [
    "# for example :-\n",
    "a=\"KRISHNASIR\"\n",
    "print(a)\n",
    "b=a.index(\"S\")  #bugs\n",
    "print(b)"
   ]
  },
  {
   "cell_type": "markdown",
   "metadata": {},
   "source": [
    "* String support Slicing"
   ]
  },
  {
   "cell_type": "code",
   "execution_count": 16,
   "metadata": {},
   "outputs": [
    {
     "name": "stdout",
     "output_type": "stream",
     "text": [
      "KRISHNA\n",
      "ANHSIRK\n"
     ]
    }
   ],
   "source": [
    "a=\"KRISHNA\"\n",
    "b=a[0::1]\n",
    "c=a[-1::-1]\n",
    "print(b)\n",
    "print(c)"
   ]
  },
  {
   "cell_type": "markdown",
   "metadata": {},
   "source": [
    "Note : Slicing never gives an error.if It is syntactically correct."
   ]
  },
  {
   "cell_type": "code",
   "execution_count": 17,
   "metadata": {},
   "outputs": [
    {
     "name": "stdout",
     "output_type": "stream",
     "text": [
      "\n"
     ]
    }
   ],
   "source": [
    "print(a[14382:4234234:324632748])"
   ]
  },
  {
   "cell_type": "markdown",
   "metadata": {},
   "source": [
    "* Some slicing here."
   ]
  },
  {
   "cell_type": "code",
   "execution_count": 46,
   "metadata": {},
   "outputs": [
    {
     "name": "stdout",
     "output_type": "stream",
     "text": [
      "KRISHNA\n",
      "KRISHNA\n",
      "KRISHNA\n",
      "KRISHNA\n",
      "ANHSIRK\n",
      "ANHSIRK\n"
     ]
    }
   ],
   "source": [
    "print(a[0:7:1])\n",
    "print(a[0::1])  # by default\n",
    "print(a[0:])    # by default\n",
    "print(a[-7:])\n",
    "# Reverse Slicing string.\n",
    "print(a[-1::-1])  # -1 for increement indexing value.\n",
    "print(a[-1:-8:-1])"
   ]
  },
  {
   "cell_type": "code",
   "execution_count": 49,
   "metadata": {},
   "outputs": [
    {
     "name": "stdout",
     "output_type": "stream",
     "text": [
      "RISH\n",
      "RISH\n"
     ]
    }
   ],
   "source": [
    "#  KRIHSNA\n",
    "print(a[1:5])  # with pos+ (end) indexing.\n",
    "print(a[1:-2]) # with neg- (end) indexing."
   ]
  },
  {
   "cell_type": "markdown",
   "metadata": {},
   "source": [
    "Inreament steps in slicing."
   ]
  },
  {
   "cell_type": "code",
   "execution_count": 51,
   "metadata": {},
   "outputs": [
    {
     "name": "stdout",
     "output_type": "stream",
     "text": [
      "KIHA\n",
      "KSA\n"
     ]
    }
   ],
   "source": [
    "# KRISHNA\n",
    "print(a[0::2]) # increament of step-2.\n",
    "print(a[0::3]) # increament of step-3."
   ]
  },
  {
   "cell_type": "markdown",
   "metadata": {},
   "source": [
    "Usecases in slicing.\n",
    "* Print Full name"
   ]
  },
  {
   "cell_type": "code",
   "execution_count": 55,
   "metadata": {},
   "outputs": [
    {
     "name": "stdout",
     "output_type": "stream",
     "text": [
      "ANHSIRK\n",
      "ANHSIRK\n",
      "KRISHNA\n",
      "KRISHNA\n",
      "KRISHNA\n"
     ]
    }
   ],
   "source": [
    "# KRISHNA\n",
    "print(a[-1::-1])  # without end but reverse\n",
    "print(a[::-1])    # without start but reverse\n",
    "print(a[0::1])    # without end\n",
    "print(a[::1])     # without start\n",
    "print(a[::])      # without start/end\n"
   ]
  },
  {
   "cell_type": "markdown",
   "metadata": {},
   "source": [
    "* String Support Concatinations :-\n",
    "> Concatination sign (+)"
   ]
  },
  {
   "cell_type": "code",
   "execution_count": 12,
   "metadata": {},
   "outputs": [
    {
     "name": "stdout",
     "output_type": "stream",
     "text": [
      "SHIVAMKASHYAP\n",
      "SHIVAMKASHYAP\n"
     ]
    }
   ],
   "source": [
    "first_name=\"SHIVAM\"\n",
    "last_name=\"KASHYAP\"\n",
    "fullname=first_name + last_name\n",
    "print(fullname)\n",
    "print(first_name + last_name)\n",
    "\n",
    "# This is concatination. bcs we are using + sign. '+' sign define its concatination."
   ]
  },
  {
   "cell_type": "code",
   "execution_count": 10,
   "metadata": {},
   "outputs": [
    {
     "name": "stdout",
     "output_type": "stream",
     "text": [
      "Shivam Kashyap\n",
      "Shivam Kashyap\n"
     ]
    }
   ],
   "source": [
    "#usecase : look like concatination but its not a concatination. see\n",
    "print(\"Shivam \"\"Kashyap\")\n",
    "print(\"Shivam\",\"Kashyap\",sep=\" \")"
   ]
  },
  {
   "cell_type": "markdown",
   "metadata": {},
   "source": [
    "* String is immutable (hashable) :-\n",
    "> Immutable means that once a string is created. you cannot change is contents. if you want to   modify a string, you need to create a new string with the desired modification.\n",
    "e.g-"
   ]
  },
  {
   "cell_type": "code",
   "execution_count": 1,
   "metadata": {},
   "outputs": [
    {
     "name": "stdout",
     "output_type": "stream",
     "text": [
      "krishna  -  2044004344304\n"
     ]
    }
   ],
   "source": [
    "a=\"krishna\"\n",
    "print(a,\" - \",id(a)) # Address (2044004344304)"
   ]
  },
  {
   "cell_type": "code",
   "execution_count": 2,
   "metadata": {},
   "outputs": [
    {
     "name": "stdout",
     "output_type": "stream",
     "text": [
      "KRISHNA  -  2044004255152\n"
     ]
    }
   ],
   "source": [
    "b=a.upper()\n",
    "print(b,\" - \",id(b))  #This address has been changed.(2044004255152)"
   ]
  },
  {
   "cell_type": "markdown",
   "metadata": {},
   "source": [
    "* Stings Methods :-\n",
    "> Python has a set of built-in methods that you can use on strings."
   ]
  },
  {
   "cell_type": "markdown",
   "metadata": {},
   "source": [
    "* Note :-\n",
    "> All strings methods return new value, They don't change the original string."
   ]
  },
  {
   "cell_type": "code",
   "execution_count": 44,
   "metadata": {},
   "outputs": [
    {
     "name": "stdout",
     "output_type": "stream",
     "text": [
      "Name :- this is shivåm kashyap\n",
      "File located Address :- 2044004018544\n",
      "Datatype :- <class 'str'>\n"
     ]
    }
   ],
   "source": [
    "text=\"this is shivåm kashyap\"\n",
    "print(\"Name :-\",text)\n",
    "print(\"File located Address :-\",id(text))\n",
    "print(\"Datatype :-\",type(text))"
   ]
  },
  {
   "cell_type": "code",
   "execution_count": 45,
   "metadata": {},
   "outputs": [
    {
     "name": "stdout",
     "output_type": "stream",
     "text": [
      "This is shivåm kashyap  -  Change address -  2044009796624\n"
     ]
    }
   ],
   "source": [
    "# 1. capitalize():- convert first letter of string into uppercase.\n",
    "b=text.capitalize()\n",
    "print(b,\" -  Change address - \",id(b))"
   ]
  },
  {
   "cell_type": "code",
   "execution_count": 46,
   "metadata": {},
   "outputs": [
    {
     "name": "stdout",
     "output_type": "stream",
     "text": [
      "this is shivåm kashyap  -  Change address -  2044010066832\n"
     ]
    }
   ],
   "source": [
    "# 2. casefold() or lower() :- convert string into lowercase.\n",
    "b=text.casefold()\n",
    "# b=text.lower()\n",
    "print(b,\" -  Change address - \",id(b))"
   ]
  },
  {
   "cell_type": "code",
   "execution_count": 47,
   "metadata": {},
   "outputs": [
    {
     "name": "stdout",
     "output_type": "stream",
     "text": [
      "              this is shivåm kashyap                -  Change address -  2044006541488\n"
     ]
    }
   ],
   "source": [
    "# 3. center():- center string value.\n",
    "b=text.center(50)\n",
    "print(b,\" -  Change address - \",id(b))"
   ]
  },
  {
   "cell_type": "code",
   "execution_count": 42,
   "metadata": {},
   "outputs": [
    {
     "name": "stdout",
     "output_type": "stream",
     "text": [
      "4  -  Change address -  140735286403976\n"
     ]
    }
   ],
   "source": [
    "# 4. count():- \tReturns the number of times a specified text or character occurs in a string.\n",
    "b=text.count(\"s\")\n",
    "print(b,\" -  Change address - \",id(b))"
   ]
  },
  {
   "cell_type": "code",
   "execution_count": 50,
   "metadata": {},
   "outputs": [
    {
     "name": "stdout",
     "output_type": "stream",
     "text": [
      "b'this is shiv\\xc3\\xa5m kashyap'\n"
     ]
    }
   ],
   "source": [
    "# 5. encode() :- Returns an encoded version of the string\n",
    "b=text.encode() #encode of a = \\xc3\\xa5.\n",
    "print(b)"
   ]
  },
  {
   "cell_type": "code",
   "execution_count": 53,
   "metadata": {},
   "outputs": [
    {
     "name": "stdout",
     "output_type": "stream",
     "text": [
      "True  -  Change address -  140735284878184\n"
     ]
    }
   ],
   "source": [
    "# 6. endswith() :- \tReturns true if the string ends with the specified value\n",
    "b=text.endswith(\"kashyap\")\n",
    "print(b, \" -  Change address - \",id(b))"
   ]
  },
  {
   "cell_type": "code",
   "execution_count": 59,
   "metadata": {},
   "outputs": [
    {
     "name": "stdout",
     "output_type": "stream",
     "text": [
      "s  h  i  v  a  m  -  Change address -  2044010242624\n"
     ]
    }
   ],
   "source": [
    "# 7. expandtabs() :- Sets the tab size of the string\n",
    "name=\"s\\th\\ti\\tv\\ta\\tm\"\n",
    "b=name.expandtabs(3)\n",
    "print(b,\" -  Change address - \",id(b))"
   ]
  },
  {
   "cell_type": "code",
   "execution_count": null,
   "metadata": {},
   "outputs": [],
   "source": [
    "# 8. title() :-"
   ]
  },
  {
   "cell_type": "markdown",
   "metadata": {},
   "source": [
    "(Strings Methods) Link :- https://www.w3schools.com/python/python_strings_methods.asp  "
   ]
  }
 ],
 "metadata": {
  "kernelspec": {
   "display_name": "Python 3",
   "language": "python",
   "name": "python3"
  },
  "language_info": {
   "codemirror_mode": {
    "name": "ipython",
    "version": 3
   },
   "file_extension": ".py",
   "mimetype": "text/x-python",
   "name": "python",
   "nbconvert_exporter": "python",
   "pygments_lexer": "ipython3",
   "version": "3.11.4"
  },
  "orig_nbformat": 4
 },
 "nbformat": 4,
 "nbformat_minor": 2
}
