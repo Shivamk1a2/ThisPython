{
 "cells": [
  {
   "cell_type": "markdown",
   "metadata": {},
   "source": [
    "* # Print Fucntion in python\n"
   ]
  },
  {
   "cell_type": "markdown",
   "metadata": {},
   "source": [
    "1. Print is use to print something.."
   ]
  },
  {
   "cell_type": "code",
   "execution_count": 4,
   "metadata": {},
   "outputs": [
    {
     "name": "stdout",
     "output_type": "stream",
     "text": [
      "mango apple banana\n",
      "mango,apple,banana\n",
      "mango**apple**banana\n"
     ]
    }
   ],
   "source": [
    "print(\"mango\",\"apple\",\"banana\")\n",
    "print(\"mango\",\"apple\",\"banana\", sep=\",\")\n",
    "print(\"mango\",\"apple\",\"banana\",sep=\"**\")"
   ]
  },
  {
   "cell_type": "code",
   "execution_count": 5,
   "metadata": {},
   "outputs": [
    {
     "name": "stdout",
     "output_type": "stream",
     "text": [
      "mango banana apple\n",
      "mango banana apple\n",
      "mango banana apple\n",
      "mango banana apple\n",
      "mango banana apple mango banana apple\n"
     ]
    }
   ],
   "source": [
    "print(\"mango\",\"banana\",\"apple\");print(\"mango\",\"banana\",\"apple\");\n",
    "print(\"mango\",\"banana\",\"apple\", end=\"\\n\");print(\"mango\",\"banana\",\"apple\");\n",
    "print(\"mango\",\"banana\",\"apple\", end=\" \");print(\"mango\",\"banana\",\"apple\");"
   ]
  },
  {
   "cell_type": "code",
   "execution_count": 23,
   "metadata": {},
   "outputs": [
    {
     "name": "stdout",
     "output_type": "stream",
     "text": [
      "mango,apple,banana\tmango,apple,grapes\n",
      "mango,\n",
      "\tapple,\n",
      "\tgrapes,\n",
      "\torange,\n",
      "\tpine-apple\n"
     ]
    }
   ],
   "source": [
    "print(\"mango\",\"apple\",\"banana\",sep=\",\",end=\"\\t\")\n",
    "print(\"mango\",\"apple\",\"grapes\", sep=\",\")\n",
    "print(\"mango\",\"apple\",\"grapes\",\"orange\",\"pine-apple\",sep=\",\\n\\t\")"
   ]
  }
 ],
 "metadata": {
  "kernelspec": {
   "display_name": "Python 3",
   "language": "python",
   "name": "python3"
  },
  "language_info": {
   "codemirror_mode": {
    "name": "ipython",
    "version": 3
   },
   "file_extension": ".py",
   "mimetype": "text/x-python",
   "name": "python",
   "nbconvert_exporter": "python",
   "pygments_lexer": "ipython3",
   "version": "3.11.4"
  },
  "orig_nbformat": 4
 },
 "nbformat": 4,
 "nbformat_minor": 2
}
