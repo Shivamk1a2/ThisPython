{
 "cells": [
  {
   "cell_type": "markdown",
   "metadata": {},
   "source": [
    "# Conditional Programming"
   ]
  },
  {
   "cell_type": "markdown",
   "metadata": {},
   "source": [
    "* if statements :-"
   ]
  },
  {
   "cell_type": "code",
   "execution_count": 1,
   "metadata": {},
   "outputs": [
    {
     "name": "stdout",
     "output_type": "stream",
     "text": [
      "if condition is true.\n",
      "Python is a funny language.\n"
     ]
    }
   ],
   "source": [
    "if 10==10:\n",
    "        print(\"if condition is true.\")\n",
    "        print(\"Python is a funny language.\")"
   ]
  },
  {
   "cell_type": "markdown",
   "metadata": {},
   "source": []
  },
  {
   "cell_type": "code",
   "execution_count": 2,
   "metadata": {},
   "outputs": [
    {
     "name": "stdout",
     "output_type": "stream",
     "text": [
      "if 'if' condition is false then else part will be run.\n",
      "then this condition is true\n"
     ]
    }
   ],
   "source": [
    "if 10!=10:\n",
    "    print(\"if condition is wrong.\")\n",
    "else:\n",
    "    print(\"if 'if' condition is false then else part will be run.\")\n",
    "    print(\"then this condition is true\")"
   ]
  },
  {
   "cell_type": "markdown",
   "metadata": {},
   "source": [
    "* 'if' condition is not depending on else part."
   ]
  },
  {
   "cell_type": "code",
   "execution_count": 3,
   "metadata": {},
   "outputs": [],
   "source": [
    "if 10>30:\n",
    "    print(\"this is false\")"
   ]
  },
  {
   "cell_type": "markdown",
   "metadata": {},
   "source": [
    "* without else part output is empty."
   ]
  },
  {
   "cell_type": "markdown",
   "metadata": {},
   "source": [
    "* but else part is depending on 'if' condition. ( we can see )"
   ]
  },
  {
   "cell_type": "code",
   "execution_count": 4,
   "metadata": {},
   "outputs": [
    {
     "ename": "SyntaxError",
     "evalue": "invalid syntax (1535768064.py, line 1)",
     "output_type": "error",
     "traceback": [
      "\u001b[1;36m  Cell \u001b[1;32mIn[4], line 1\u001b[1;36m\u001b[0m\n\u001b[1;33m    else:\u001b[0m\n\u001b[1;37m    ^\u001b[0m\n\u001b[1;31mSyntaxError\u001b[0m\u001b[1;31m:\u001b[0m invalid syntax\n"
     ]
    }
   ],
   "source": [
    "else: \n",
    "     print(\"This is wrong condition.\")"
   ]
  },
  {
   "cell_type": "code",
   "execution_count": 42,
   "metadata": {},
   "outputs": [
    {
     "name": "stdout",
     "output_type": "stream",
     "text": [
      "Please choose option a or b\n"
     ]
    }
   ],
   "source": [
    "a=input(\"which path you want to choose? a or b\")\n",
    "if a==\"a\":\n",
    "    print(\"Banglore\")\n",
    "elif a==\"b\":\n",
    "    print(\"Noida\")\n",
    "else:\n",
    "    print(\"Please choose option a or b\")"
   ]
  },
  {
   "cell_type": "markdown",
   "metadata": {},
   "source": [
    "* simple calculator using if elif else."
   ]
  },
  {
   "cell_type": "code",
   "execution_count": 3,
   "metadata": {},
   "outputs": [
    {
     "name": "stdout",
     "output_type": "stream",
     "text": [
      "simple calculator using python.\n"
     ]
    },
    {
     "name": "stdout",
     "output_type": "stream",
     "text": [
      "Enter First Number :  22\n",
      "Enter Second Number :  22\n",
      "Calculate =  44\n"
     ]
    }
   ],
   "source": [
    "print(\"simple calculator using python.\")\n",
    "a=eval(input(\"Enter First Number\"))\n",
    "b=eval(input(\"Enter Second Number\"))\n",
    "print(\"Enter First Number : \",a)\n",
    "print(\"Enter Second Number : \",b)\n",
    "option=input(\"Choose Operator :- (+,-,*,/,//,%,**)\")\n",
    "if option=='+':\n",
    "    print(\"Calculate = \",a+b)\n",
    "elif option=='-':\n",
    "    print(\"Calculate = \",a-b)\n",
    "elif option=='*':\n",
    "    print(\"Calculate = \",a*b)\n",
    "elif option=='/':\n",
    "    print(\"Calculate = \",a/b)\n",
    "elif option=='%':\n",
    "    print(\"Calculate = \",a%b)\n",
    "elif option=='//':\n",
    "    print(\"Calculate = \",a//b)\n",
    "elif option=='**':\n",
    "    print(\"Calculate = \",a**b)\n",
    "else:\n",
    "    print(\"Please Choose a Correct operator to Calculate..\")"
   ]
  },
  {
   "cell_type": "markdown",
   "metadata": {},
   "source": [
    "* Nested If else and Nested if elif else"
   ]
  },
  {
   "cell_type": "code",
   "execution_count": 5,
   "metadata": {},
   "outputs": [
    {
     "name": "stdout",
     "output_type": "stream",
     "text": [
      "Enter Number :  -44\n",
      "-44  is negative Num.\n"
     ]
    }
   ],
   "source": [
    "a=int(input(\"Enter num\"))\n",
    "print(\"Enter Number : \",a)\n",
    "if a>=0:\n",
    "    print(a, \" is Positive num.\")\n",
    "    if a%2==0:\n",
    "        print(a, \" is odd number.\")\n",
    "    else:\n",
    "        print(a,\" is even number.\")\n",
    "else:\n",
    "    print(a,\" is negative Num.\")"
   ]
  },
  {
   "cell_type": "markdown",
   "metadata": {},
   "source": [
    "* String Formatting in Python"
   ]
  },
  {
   "cell_type": "code",
   "execution_count": 4,
   "metadata": {},
   "outputs": [
    {
     "name": "stdout",
     "output_type": "stream",
     "text": [
      "This food is not good.\n"
     ]
    }
   ],
   "source": [
    "# we can see\n",
    "a=\"This food is not good.\"\n",
    "print(a)"
   ]
  },
  {
   "cell_type": "code",
   "execution_count": 15,
   "metadata": {},
   "outputs": [
    {
     "name": "stdout",
     "output_type": "stream",
     "text": [
      "Th3is4234 fo00343od i@s no343279t go32od2\n",
      "This food is not good\n"
     ]
    }
   ],
   "source": [
    "a=\"Th3is4234 fo00343od i@s no343279t go32od2\"\n",
    "print(a)\n",
    "import re\n",
    "print(re.sub(\"[^A-z ]\",\"\",a))"
   ]
  },
  {
   "cell_type": "code",
   "execution_count": 17,
   "metadata": {},
   "outputs": [
    {
     "name": "stdout",
     "output_type": "stream",
     "text": [
      "This is shivam and I am 21.\n"
     ]
    }
   ],
   "source": [
    "# second way, we can use.\n",
    "b=\"This is shivam and I am 21.\"\n",
    "print(b)"
   ]
  },
  {
   "cell_type": "code",
   "execution_count": 5,
   "metadata": {},
   "outputs": [
    {
     "name": "stdout",
     "output_type": "stream",
     "text": [
      "This is Manish  and I am 34\n"
     ]
    }
   ],
   "source": [
    "name=input(\"Enter Your name : \")\n",
    "age=int(input(\"Enter your age : \"))\n",
    "#print('This is {} and I am {}'.format(name,age))\n",
    "print(f\"This is {name} and I am {age}\")"
   ]
  },
  {
   "cell_type": "code",
   "execution_count": 19,
   "metadata": {},
   "outputs": [
    {
     "name": "stdout",
     "output_type": "stream",
     "text": [
      "This is shivam and I am 21.\n"
     ]
    }
   ],
   "source": [
    "#using third way.\n",
    "a=\"This is shivam and I am 21.\"\n",
    "print(a)"
   ]
  },
  {
   "cell_type": "code",
   "execution_count": 22,
   "metadata": {},
   "outputs": [
    {
     "name": "stdout",
     "output_type": "stream",
     "text": [
      "This is Rajeev and I am 34\n"
     ]
    }
   ],
   "source": [
    "name=input(\"Enter Your Name : \")\n",
    "age=input(\"Enter Your age : \")\n",
    "print(f\"This is {name} and I am {age}\") # f is casesensitive (f,F)"
   ]
  },
  {
   "cell_type": "markdown",
   "metadata": {},
   "source": [
    "* String formatting using in condition"
   ]
  },
  {
   "cell_type": "code",
   "execution_count": 30,
   "metadata": {},
   "outputs": [
    {
     "name": "stdout",
     "output_type": "stream",
     "text": [
      "Enter number is : a = 43\n",
      "43 is positive number.\n",
      "43 is even number.\n"
     ]
    }
   ],
   "source": [
    "a=int(input(\"Enter Number\"))\n",
    "print(\"Enter number is : a =\",a)\n",
    "if a>=0:\n",
    "    print(f\"{a} is positive number.\")\n",
    "    if a%2==0:\n",
    "        print(\"{} is odd number.\".format(a))\n",
    "    else:\n",
    "        print(F\"{a} is even number.\")\n",
    "else:\n",
    "    print(\"{} is negetive number.\".format(a))"
   ]
  },
  {
   "cell_type": "code",
   "execution_count": 35,
   "metadata": {},
   "outputs": [
    {
     "name": "stdout",
     "output_type": "stream",
     "text": [
      "Enter number is : a = -362487\n",
      "-362487 is negetive number.\n",
      "362487  convert nagative to positive.\n"
     ]
    }
   ],
   "source": [
    "a=int(input(\"Enter Number\"))\n",
    "print(\"Enter number is : a =\",a)\n",
    "if a>=0:\n",
    "    print(f\"{a} is positive number.\")\n",
    "    if a%2==0:\n",
    "        print(\"{} is odd number.\".format(a))\n",
    "    else:\n",
    "        print(F\"{a} is even number.\")\n",
    "else:\n",
    "    print(\"{} is negetive number.\".format(a))\n",
    "    if a<=0:\n",
    "        print(abs(a),\" convert nagative to positive.\")"
   ]
  },
  {
   "cell_type": "markdown",
   "metadata": {},
   "source": [
    "* Nested If elif else"
   ]
  },
  {
   "cell_type": "code",
   "execution_count": 1,
   "metadata": {},
   "outputs": [
    {
     "name": "stdout",
     "output_type": "stream",
     "text": [
      "I will give you a Motorcycle.\n"
     ]
    }
   ],
   "source": [
    "user=int(input(\"Enter your age :- \"))\n",
    "if user>=0 and user<=5:\n",
    "    print(\"I will give you a Chocolate.\")\n",
    "elif user>5 and user<=15:\n",
    "    print(\"I will give you a Cycle.\")\n",
    "elif user>18 and user<=80:\n",
    "    print(\"I will give you a Motorcycle.\")\n",
    "else:\n",
    "    print(\"Over Age\")"
   ]
  },
  {
   "cell_type": "code",
   "execution_count": 18,
   "metadata": {},
   "outputs": [
    {
     "name": "stdout",
     "output_type": "stream",
     "text": [
      "Enter Your age :-  55\n",
      "I will give you a Scarpio.\n"
     ]
    }
   ],
   "source": [
    "user=int(input(\"Enter your age :- \"))\n",
    "print(\"Enter Your age :- \",user)\n",
    "if user>=0 and user<=5:\n",
    "    print(\"I will give you a Chocolate.\")\n",
    "elif user>5 and user<=18:\n",
    "    if user>5 and user<=10:\n",
    "        print(\"I will give you a Cycle.\")\n",
    "    elif user>10 and user<15:\n",
    "        print(\"I will give you a Guitar.\")\n",
    "    elif user>15 and user<18:\n",
    "        print(\"I will give you a Keypad phone\")\n",
    "elif user>18 and user<=60:\n",
    "    if user>18 and user<=35:\n",
    "        print(\"I will give you a h2r bike.\")\n",
    "    elif user>35 and user<=60:\n",
    "        print(\"I will give you a Scarpio.\")\n",
    "else:\n",
    "    print(\"Your age is over.\")"
   ]
  },
  {
   "cell_type": "markdown",
   "metadata": {},
   "source": [
    "# Program uing If else , If elif else and nested if else / nested if elif else"
   ]
  },
  {
   "cell_type": "markdown",
   "metadata": {},
   "source": [
    "1. write a program in python print largest amoung five nunbers.( using if elif else / using and operator)"
   ]
  },
  {
   "cell_type": "markdown",
   "metadata": {},
   "source": [
    "* using or operator"
   ]
  },
  {
   "cell_type": "code",
   "execution_count": 4,
   "metadata": {},
   "outputs": [
    {
     "name": "stdout",
     "output_type": "stream",
     "text": [
      "e is greater\n"
     ]
    }
   ],
   "source": [
    "a=int(input(\"Enter first number : \"))\n",
    "b=int(input(\"Enter second number : \"))\n",
    "c=int(input(\"Enter third number : \"))\n",
    "d=int(input(\"Enter forth number : \"))\n",
    "e=int(input(\"Enter five number : \"))\n",
    "if a>b and a>c and a>d and a>e:\n",
    "    print(\"a is greater\")\n",
    "elif b>a and b>c and b>d and b>e:\n",
    "    print(\"b is greater\")\n",
    "elif c>a and c>b and c>d and c>e:\n",
    "    print(\"c is greater\")\n",
    "elif d>a and d>b and d>c and d>e:\n",
    "    print(\"d is greater\")\n",
    "elif e>a and e>b and e>c and e>d:\n",
    "    print(\"e is greater\")"
   ]
  },
  {
   "cell_type": "markdown",
   "metadata": {},
   "source": [
    "* using if else"
   ]
  },
  {
   "cell_type": "code",
   "execution_count": 15,
   "metadata": {},
   "outputs": [
    {
     "name": "stdout",
     "output_type": "stream",
     "text": [
      "786 is greater.\n"
     ]
    }
   ],
   "source": [
    "a=int(input(\"Enter first number : \"))\n",
    "b=int(input(\"Enter second number : \"))\n",
    "c=int(input(\"Enter third number : \"))\n",
    "d=int(input(\"Enter forth number : \"))\n",
    "e=int(input(\"Enter five number : \"))\n",
    "if a>b:\n",
    "    if a>c:\n",
    "        if a>d:\n",
    "            if a>e:\n",
    "                print(f\"{a} is greater.\")\n",
    "            else:\n",
    "                print(f\"{e} is greater.\")\n",
    "        elif d>e:\n",
    "            print(f\"{d} is greater.\")\n",
    "        else:\n",
    "            print(f\"{e} is greater.\")\n",
    "    elif c>d:\n",
    "        if c>e:\n",
    "            print(f\"{c} is greater.\")\n",
    "        else:\n",
    "            print(f\"{e} is greater.\")\n",
    "    elif d>e:\n",
    "            print(f\"{d} is greater.\")\n",
    "    else:\n",
    "        print(f\"{e} is greater.\")\n",
    "elif b>c:\n",
    "    if b>d:\n",
    "        if b>e:\n",
    "             print(f\"{b} is greater.\")\n",
    "        else:\n",
    "             print(f\"{e} is greater.\")\n",
    "    elif d>e:\n",
    "            print(f\"{d} is greater.\")\n",
    "    else:\n",
    "        print(f\"{e} is greater.\")\n",
    "elif c>d:\n",
    "        if c>e:\n",
    "            print(f\"{c} is greater.\")\n",
    "        else:\n",
    "            print(f\"{e} is greater.\")\n",
    "elif d>e:\n",
    "            print(f\"{d} is greater.\")\n",
    "else:\n",
    "        print(f\"{e} is greater.\")      \n",
    "    \n"
   ]
  },
  {
   "cell_type": "markdown",
   "metadata": {},
   "source": [
    "2. Write a program in python print weekday no take weekday name"
   ]
  },
  {
   "cell_type": "code",
   "execution_count": 18,
   "metadata": {},
   "outputs": [
    {
     "name": "stdout",
     "output_type": "stream",
     "text": [
      "invalid weekday number.\n"
     ]
    }
   ],
   "source": [
    "num=int(input(\"Enter weekday number : \"))\n",
    "if num==1:\n",
    "    print(\"Monday\")\n",
    "elif num==2:\n",
    "    print(\"Tuesday\")\n",
    "elif num==3:\n",
    "    print(\"Wednesday\")\n",
    "elif num==4:\n",
    "    print(\"Thrusday\")\n",
    "elif num==5:\n",
    "    print(\"Friday\")\n",
    "elif num==6:\n",
    "    print(\"Saturday\")\n",
    "elif num==7:\n",
    "    print(\"Sunday\")\n",
    "else:\n",
    "    print(\"invalid weekday number.\")"
   ]
  },
  {
   "cell_type": "markdown",
   "metadata": {},
   "source": [
    "3. write a program in python accept phy,chem,math marks, marks can't be max 100 numbers and check average and print output."
   ]
  },
  {
   "cell_type": "code",
   "execution_count": 26,
   "metadata": {},
   "outputs": [
    {
     "name": "stdout",
     "output_type": "stream",
     "text": [
      "You are fail in Phy.\n"
     ]
    }
   ],
   "source": [
    "phy=int(input(\"Enter phy num : \"))\n",
    "chem=int(input(\"Enter chem num : \"))\n",
    "math=int(input(\"Enter math num : \"))\n",
    "avg=(phy+chem+math)/3\n",
    "if phy>33:\n",
    "    if chem>33:\n",
    "        if math>33:\n",
    "            if avg<33:\n",
    "             print(\"You are fail.\")\n",
    "            elif avg>=33 and avg<45:\n",
    "                print(\"You are III division.\")\n",
    "            elif avg>=45 and avg<60:\n",
    "                print(\"You are II division.\")\n",
    "            elif avg>=60:\n",
    "                print(\"You are I division.\")\n",
    "        else:\n",
    "            print(\"You are fail in Math.\")\n",
    "    else:\n",
    "        print(\"You are fail in Chem.\")\n",
    "else:\n",
    "    print(\"You are fail in Phy.\")\n"
   ]
  },
  {
   "cell_type": "markdown",
   "metadata": {},
   "source": [
    "3.. Wite a program in python accept total unit number and per unit is 4*unit rupees fixed given condition:-\n",
    "1. 1 to 200 - No tax\n",
    "2. 200 to 300 - 2%\n",
    "3. 300 to 400 - 4%\n",
    "4. 400 to 500 - 6%\n",
    "5. 500 above - 10%"
   ]
  },
  {
   "cell_type": "code",
   "execution_count": 5,
   "metadata": {},
   "outputs": [
    {
     "name": "stdout",
     "output_type": "stream",
     "text": [
      "=================================\n",
      "Enter Unit :-  350\n",
      "Total Unit :-  1400\n",
      "Unit in percentage :-  4\n",
      "Unit in rupees :-  56.0\n",
      "Count Total Unit :-  1456.0\n",
      "=================================\n"
     ]
    }
   ],
   "source": [
    "unit=int(input(\"Enter Unit number :\"))\n",
    "total=unit*4\n",
    "if unit>=1 and unit<=200:\n",
    "    unit_in_per=0\n",
    "    unit_in_rs=total*unit_in_per/100\n",
    "    Total_Unit=total+unit_in_rs\n",
    "    print(\"=================================\")\n",
    "    print(\"Enter Unit :- \",unit)\n",
    "    print(\"Total Unit :- \",total)\n",
    "    print(\"Unit in percentage :- \",unit_in_per)\n",
    "    print(\"Unit in rupees :- \",unit_in_rs)\n",
    "    print(\"Count Total Unit :- \",Total_Unit)\n",
    "    print(\"=================================\")\n",
    "\n",
    "elif unit>200 and unit<=300:\n",
    "    unit_in_per=2\n",
    "    unit_in_rs=total*unit_in_per/100\n",
    "    Total_Unit=total+unit_in_rs\n",
    "    print(\"=================================\")\n",
    "    print(\"Enter Unit :- \",unit)\n",
    "    print(\"Total Unit :- \",total)\n",
    "    print(\"Unit in percentage :- \",unit_in_per)\n",
    "    print(\"Unit in rupees :- \",unit_in_rs)\n",
    "    print(\"Count Total Unit :- \",Total_Unit)\n",
    "    print(\"=================================\")\n",
    "    \n",
    "elif unit>300 and unit<=400:\n",
    "    unit_in_per=4\n",
    "    unit_in_rs=total*unit_in_per/100\n",
    "    Total_Unit=total+unit_in_rs\n",
    "    print(\"=================================\")\n",
    "    print(\"Enter Unit :- \",unit)\n",
    "    print(\"Total Unit :- \",total)\n",
    "    print(\"Unit in percentage :- \",unit_in_per)\n",
    "    print(\"Unit in rupees :- \",unit_in_rs)\n",
    "    print(\"Count Total Unit :- \",Total_Unit)\n",
    "    print(\"=================================\")\n",
    "\n",
    "elif unit>400 and unit<=500:\n",
    "    unit_in_per=6\n",
    "    unit_in_rs=total*unit_in_per/100\n",
    "    Total_Unit=total+unit_in_rs\n",
    "    print(\"=================================\")\n",
    "    print(\"Enter Unit :- \",unit)\n",
    "    print(\"Total Unit :- \",total)\n",
    "    print(\"Unit in percentage :- \",unit_in_per)\n",
    "    print(\"Unit in rupees :- \",unit_in_rs)\n",
    "    print(\"Count Total Unit :- \",Total_Unit)\n",
    "    print(\"=================================\")\n",
    "\n",
    "elif unit>500:\n",
    "    unit_in_per=10\n",
    "    unit_in_rs=total*unit_in_per/100\n",
    "    Total_Unit=total+unit_in_rs\n",
    "    print(\"=================================\")\n",
    "    print(\"Enter Unit :- \",unit)\n",
    "    print(\"Total Unit :- \",total)\n",
    "    print(\"Unit in percentage :- \",unit_in_per)\n",
    "    print(\"Unit in rupees :- \",unit_in_rs)\n",
    "    print(\"Count Total Unit :- \",Total_Unit)\n",
    "    print(\"=================================\")\n"
   ]
  },
  {
   "cell_type": "markdown",
   "metadata": {},
   "source": [
    "4.. Write a program in python find Employee gross salary. given condition:-\n",
    "1. 10000 to 20000 - da=5% , hra=0%\n",
    "2. 20000 to 30000 - da=5% , hra=5%\n",
    "3. 30000 to 40000 - da=10% , hra=5%\n",
    "4. 40000 to 50000 - da=10% , hra=15%\n",
    "5. 50000 above    - da=15% , hra=20%"
   ]
  },
  {
   "cell_type": "code",
   "execution_count": 50,
   "metadata": {},
   "outputs": [
    {
     "name": "stdout",
     "output_type": "stream",
     "text": [
      "============================================\n",
      "Enter Emplooye Name :-  SHIVAM KASHYAP\n",
      "Enter Emplooye ID :-  7876\n",
      "Enter Basic Salary :-  56000\n",
      "------------------------------------\n",
      "da in percentage :-  15\n",
      "da in rupess :-  8400.0\n",
      "hra in percentage :-  20\n",
      "hra in rupess :-  11200.0\n",
      "------------------------------------\n",
      "Emplooyee Gross Salary is :-  75600.0\n",
      "============================================\n"
     ]
    }
   ],
   "source": [
    "name=input(\"Enter Emplooye Name :- \")\n",
    "Id=int(input(\"Enter Emplooye ID :- \"))\n",
    "sal=int(input(\"Enter Basic Salary :- \"))\n",
    "if sal>=10000 and sal<=20000:\n",
    "    da_in_per=5\n",
    "    da_in_rs=sal*da_in_per/100\n",
    "    hra_in_per=0\n",
    "    hra_in_rs=sal*hra_in_per/100\n",
    "    total_sal=sal+da_in_rs+hra_in_rs\n",
    "    print(\"============================================\")\n",
    "    print(\"Enter Emplooye Name :- \",name)\n",
    "    print(\"Enter Emplooye ID :- \",Id)\n",
    "    print(\"Enter Basic Salary :- \",sal)\n",
    "    print(\"------------------------------------\")\n",
    "    print(\"da in percentage :- \",da_in_per)\n",
    "    print(\"da in rupess :- \",da_in_rs)\n",
    "    print(\"hra in percentage :- \",hra_in_per)\n",
    "    print(\"hra in rupess :- \",hra_in_rs)\n",
    "    print(\"------------------------------------\")\n",
    "    print(\"Emplooyee Gross Salary is :- \",total_sal)\n",
    "    print(\"============================================\")\n",
    "\n",
    "elif sal>=20000 and sal<=30000:\n",
    "    da_in_per=5\n",
    "    da_in_rs=sal*da_in_per/100\n",
    "    hra_in_per=5\n",
    "    hra_in_rs=sal*hra_in_per/100\n",
    "    total_sal=sal+da_in_rs+hra_in_rs\n",
    "    print(\"============================================\")\n",
    "    print(\"Enter Emplooye Name :- \",name)\n",
    "    print(\"Enter Emplooye ID :- \",Id)\n",
    "    print(\"Enter Basic Salary :- \",sal)\n",
    "    print(\"------------------------------------\")\n",
    "    print(\"da in percentage :- \",da_in_per)\n",
    "    print(\"da in rupess :- \",da_in_rs)\n",
    "    print(\"hra in percentage :- \",hra_in_per)\n",
    "    print(\"hra in rupess :- \",hra_in_rs)\n",
    "    print(\"------------------------------------\")\n",
    "    print(\"Emplooyee Gross Salary is :- \",total_sal)\n",
    "    print(\"============================================\")\n",
    "\n",
    "elif sal>=30000 and sal<=40000:\n",
    "    da_in_per=5\n",
    "    da_in_rs=sal*da_in_per/100\n",
    "    hra_in_per=10\n",
    "    hra_in_rs=sal*hra_in_per/100\n",
    "    total_sal=sal+da_in_rs+hra_in_rs\n",
    "    print(\"============================================\")\n",
    "    print(\"Enter Emplooye Name :- \",name)\n",
    "    print(\"Enter Emplooye ID :- \",Id)\n",
    "    print(\"Enter Basic Salary :- \",sal)\n",
    "    print(\"------------------------------------\")\n",
    "    print(\"da in percentage :- \",da_in_per)\n",
    "    print(\"da in rupess :- \",da_in_rs)\n",
    "    print(\"hra in percentage :- \",hra_in_per)\n",
    "    print(\"hra in rupess :- \",hra_in_rs)\n",
    "    print(\"------------------------------------\")\n",
    "    print(\"Emplooyee Gross Salary is :- \",total_sal)\n",
    "    print(\"============================================\")\n",
    "\n",
    "elif sal>=40000 and sal<=50000:\n",
    "    da_in_per=10\n",
    "    da_in_rs=sal*da_in_per/100\n",
    "    hra_in_per=15\n",
    "    hra_in_rs=sal*hra_in_per/100\n",
    "    total_sal=sal+da_in_rs+hra_in_rs\n",
    "    print(\"============================================\")\n",
    "    print(\"Enter Emplooye Name :- \",name)\n",
    "    print(\"Enter Emplooye ID :- \",Id)\n",
    "    print(\"Enter Basic Salary :- \",sal)\n",
    "    print(\"------------------------------------\")\n",
    "    print(\"da in percentage :- \",da_in_per)\n",
    "    print(\"da in rupess :- \",da_in_rs)\n",
    "    print(\"hra in percentage :- \",hra_in_per)\n",
    "    print(\"hra in rupess :- \",hra_in_rs)\n",
    "    print(\"------------------------------------\")\n",
    "    print(\"Emplooyee Gross Salary is :- \",total_sal)\n",
    "    print(\"============================================\")\n",
    "\n",
    "elif sal>=50000:\n",
    "    da_in_per=15\n",
    "    da_in_rs=sal*da_in_per/100\n",
    "    hra_in_per=20\n",
    "    hra_in_rs=sal*hra_in_per/100\n",
    "    total_sal=sal+da_in_rs+hra_in_rs\n",
    "    print(\"============================================\")\n",
    "    print(\"Enter Emplooye Name :- \",name)\n",
    "    print(\"Enter Emplooye ID :- \",Id)\n",
    "    print(\"Enter Basic Salary :- \",sal)\n",
    "    print(\"------------------------------------\")\n",
    "    print(\"da in percentage :- \",da_in_per)\n",
    "    print(\"da in rupess :- \",da_in_rs)\n",
    "    print(\"hra in percentage :- \",hra_in_per)\n",
    "    print(\"hra in rupess :- \",hra_in_rs)\n",
    "    print(\"------------------------------------\")\n",
    "    print(\"Emplooyee Gross Salary is :- \",total_sal)\n",
    "    print(\"============================================\")\n",
    "\n"
   ]
  },
  {
   "cell_type": "markdown",
   "metadata": {},
   "source": [
    "5. Write a program in python check leap year."
   ]
  },
  {
   "cell_type": "code",
   "execution_count": 20,
   "metadata": {},
   "outputs": [
    {
     "name": "stdout",
     "output_type": "stream",
     "text": [
      "2056 is a Lear year.\n"
     ]
    }
   ],
   "source": [
    "year=int(input(\"Enter Year :- \"))\n",
    "if year%4==0:\n",
    "    if year%100==0:\n",
    "        if year%400==0:\n",
    "            print(f\"{year} is a Lear year.\")\n",
    "        else:\n",
    "            print(f\"{year} is not a Lear year.\")\n",
    "    else: \n",
    "        print(f\"{year} is a Lear year.\")\n",
    "else:\n",
    "    print(f\"{year} is not a Lear year.\")"
   ]
  },
  {
   "cell_type": "markdown",
   "metadata": {},
   "source": [
    "6. write a program to display \"hello world\" if number entered by the user is a multiple of 5, otherwise Print \"Bye\"."
   ]
  },
  {
   "cell_type": "code",
   "execution_count": 4,
   "metadata": {},
   "outputs": [
    {
     "name": "stdout",
     "output_type": "stream",
     "text": [
      "Hello Guys!\n"
     ]
    }
   ],
   "source": [
    "a=int(input(\"Enter numbers : - \"))\n",
    "if a%5==0:\n",
    "    print(\"Hello Guys!\")\n",
    "else:\n",
    "    print(\"Bye Guys\")"
   ]
  },
  {
   "cell_type": "markdown",
   "metadata": {},
   "source": [
    "7.. write a program in python to calculate electricity bill (accept of unit from the user)\n",
    "according the following criteria :\n",
    "1. unit == 100  - no charge\n",
    "2. unit  > 100  - 5% charge\n",
    "3. unit  > 200  - 10% charge"
   ]
  },
  {
   "cell_type": "code",
   "execution_count": 10,
   "metadata": {},
   "outputs": [
    {
     "name": "stdout",
     "output_type": "stream",
     "text": [
      "Amount to pay :-  250\n"
     ]
    }
   ],
   "source": [
    "amount=0\n",
    "unit=int(input(\"Enter Unit :- \"))\n",
    "if unit<=100:\n",
    "    amount=0\n",
    "if unit>100 and unit<=200:\n",
    "    amount=(unit-100)*5\n",
    "    print(\"Amount to pay :- \",amount)\n",
    "if unit>200:\n",
    "    amount=500+(unit-200)*10\n",
    "    print(\"Amount to pay :- \",amount)"
   ]
  },
  {
   "cell_type": "markdown",
   "metadata": {},
   "source": [
    "8. write a program to display the last digit of a number."
   ]
  },
  {
   "cell_type": "code",
   "execution_count": 18,
   "metadata": {},
   "outputs": [
    {
     "name": "stdout",
     "output_type": "stream",
     "text": [
      "Last digit not divisible by 3.\n"
     ]
    }
   ],
   "source": [
    "num=int(input(\"Enter number :- \"))\n",
    "if num%10:\n",
    "    if num%3==0:\n",
    "        print(\"The last digit of a number is divisible by 3.\")\n",
    "    else:\n",
    "        print(\"Last digit is not divisible by 3.\")"
   ]
  },
  {
   "cell_type": "markdown",
   "metadata": {},
   "source": [
    "9.. write a program to accept the cost price of a bike and display the road tax to be paid according to the following criteria :-\n",
    "1. pr>100000 - 15% tax\n",
    "2. pr(50000 > and <= 100000) - 10% tax\n",
    "3. pr<= 50000 - 5% tax"
   ]
  },
  {
   "cell_type": "code",
   "execution_count": 21,
   "metadata": {},
   "outputs": [
    {
     "name": "stdout",
     "output_type": "stream",
     "text": [
      "225000.0\n"
     ]
    }
   ],
   "source": [
    "bikeprice=int(input(\"Enter Bike Price :- \"))\n",
    "if bikeprice>100000:\n",
    "    tax=15/100*bikeprice\n",
    "    print(tax)\n",
    "elif bikeprice>50000 and bikeprice<=100000:\n",
    "    tax=10/100*bikeprice\n",
    "    print(tax)\n",
    "elif bikeprice<=50000:\n",
    "    tax=5/100*bikeprice\n",
    "    print(tax)"
   ]
  },
  {
   "cell_type": "markdown",
   "metadata": {},
   "source": [
    "10.. A Company decided to give bonus to employee according to following criteria.\n",
    "1. more than 10 years  -  10% bonus\n",
    "2. greater than 6 and <=10  - 8% bonus\n",
    "3. less than 6 years  - 5% bonus"
   ]
  },
  {
   "cell_type": "code",
   "execution_count": 3,
   "metadata": {},
   "outputs": [
    {
     "name": "stdout",
     "output_type": "stream",
     "text": [
      "950.0\n"
     ]
    }
   ],
   "source": [
    "sal=int(input(\"Enter sal\"))\n",
    "year=int(input(\"Enter details\"))\n",
    "if year>10:\n",
    "    bonus=10/100*sal\n",
    "    print(bonus)\n",
    "elif year>6 and year<=10:\n",
    "    bonus=8/100*sal\n",
    "    print(bonus)\n",
    "elif year<=6:\n",
    "    bonus=5/100*sal\n",
    "    print(bonus)"
   ]
  },
  {
   "cell_type": "markdown",
   "metadata": {},
   "source": [
    "12.. Wap to check weather a number is prime or not."
   ]
  },
  {
   "cell_type": "code",
   "execution_count": 28,
   "metadata": {},
   "outputs": [
    {
     "name": "stdout",
     "output_type": "stream",
     "text": [
      "6 is not a prime num.\n"
     ]
    }
   ],
   "source": [
    "k=0\n",
    "num=int(input(\"Enter num\"))\n",
    "if num==0 or num==1:\n",
    "    k=1\n",
    "for i in range(2,num):\n",
    "    if num%i==0:\n",
    "        k=1\n",
    "if k==1:\n",
    "    print(f\"{num} is not a prime num.\")\n",
    "else:\n",
    "    print(F\"{num} is a prime num.\")"
   ]
  }
 ],
 "metadata": {
  "kernelspec": {
   "display_name": "Python 3",
   "language": "python",
   "name": "python3"
  },
  "language_info": {
   "codemirror_mode": {
    "name": "ipython",
    "version": 3
   },
   "file_extension": ".py",
   "mimetype": "text/x-python",
   "name": "python",
   "nbconvert_exporter": "python",
   "pygments_lexer": "ipython3",
   "version": "3.11.4"
  },
  "orig_nbformat": 4
 },
 "nbformat": 4,
 "nbformat_minor": 2
}
