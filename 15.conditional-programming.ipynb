{
 "cells": [
  {
   "cell_type": "markdown",
   "metadata": {},
   "source": [
    "# Conditional Programming"
   ]
  },
  {
   "cell_type": "markdown",
   "metadata": {},
   "source": [
    "* if statements :-"
   ]
  },
  {
   "cell_type": "code",
   "execution_count": 1,
   "metadata": {},
   "outputs": [
    {
     "name": "stdout",
     "output_type": "stream",
     "text": [
      "if condition is true.\n",
      "Python is a funny language.\n"
     ]
    }
   ],
   "source": [
    "if 10==10:\n",
    "        print(\"if condition is true.\")\n",
    "        print(\"Python is a funny language.\")"
   ]
  },
  {
   "cell_type": "code",
   "execution_count": 2,
   "metadata": {},
   "outputs": [
    {
     "name": "stdout",
     "output_type": "stream",
     "text": [
      "if 'if' condition is false then else part will be run.\n",
      "then this condition is true\n"
     ]
    }
   ],
   "source": [
    "if 10!=10:\n",
    "    print(\"if condition is wrong.\")\n",
    "else:\n",
    "    print(\"if 'if' condition is false then else part will be run.\")\n",
    "    print(\"then this condition is true\")"
   ]
  },
  {
   "cell_type": "markdown",
   "metadata": {},
   "source": [
    "* 'if' condition is not depending on else part."
   ]
  },
  {
   "cell_type": "code",
   "execution_count": 3,
   "metadata": {},
   "outputs": [],
   "source": [
    "if 10>30:\n",
    "    print(\"this is false\")"
   ]
  },
  {
   "cell_type": "markdown",
   "metadata": {},
   "source": [
    "* without else part output is empty."
   ]
  },
  {
   "cell_type": "markdown",
   "metadata": {},
   "source": [
    "* but else part is depending on 'if' condition. ( we can see )"
   ]
  },
  {
   "cell_type": "code",
   "execution_count": 4,
   "metadata": {},
   "outputs": [
    {
     "ename": "SyntaxError",
     "evalue": "invalid syntax (1535768064.py, line 1)",
     "output_type": "error",
     "traceback": [
      "\u001b[1;36m  Cell \u001b[1;32mIn[4], line 1\u001b[1;36m\u001b[0m\n\u001b[1;33m    else:\u001b[0m\n\u001b[1;37m    ^\u001b[0m\n\u001b[1;31mSyntaxError\u001b[0m\u001b[1;31m:\u001b[0m invalid syntax\n"
     ]
    }
   ],
   "source": [
    "else: \n",
    "     print(\"This is wrong condition.\")"
   ]
  },
  {
   "cell_type": "code",
   "execution_count": null,
   "metadata": {},
   "outputs": [
    {
     "name": "stdout",
     "output_type": "stream",
     "text": [
      "Banglore\n"
     ]
    }
   ],
   "source": [
    "a=input(\"which path you want to choose? A or B\")\n",
    "if a==\"A\":\n",
    "    print(\"Banglore\")\n",
    "else:\n",
    "    print(\"Noida\")"
   ]
  },
  {
   "cell_type": "markdown",
   "metadata": {},
   "source": [
    "* simple calculator using if elif else."
   ]
  },
  {
   "cell_type": "code",
   "execution_count": 18,
   "metadata": {},
   "outputs": [
    {
     "name": "stdout",
     "output_type": "stream",
     "text": [
      "24\n"
     ]
    }
   ],
   "source": [
    "num1=eval(input(\"Enter your first no. : \"))\n",
    "num2=eval(input(\"Enter second first no. : \"))\n",
    "option=input(\"choose operator :- (+ , - , * , / )\")\n",
    "if(option=='+'):\n",
    "    print(num1+num2)\n",
    "elif(option=='-'):\n",
    "    print(num1-num2)\n",
    "elif(option=='*'):\n",
    "    print(num1*num2)\n",
    "elif(option=='/'):\n",
    "    print(num1/num2)\n",
    "else:\n",
    "    print(\"Please choose operator.\")"
   ]
  }
 ],
 "metadata": {
  "kernelspec": {
   "display_name": "Python 3",
   "language": "python",
   "name": "python3"
  },
  "language_info": {
   "codemirror_mode": {
    "name": "ipython",
    "version": 3
   },
   "file_extension": ".py",
   "mimetype": "text/x-python",
   "name": "python",
   "nbconvert_exporter": "python",
   "pygments_lexer": "ipython3",
   "version": "3.11.4"
  },
  "orig_nbformat": 4
 },
 "nbformat": 4,
 "nbformat_minor": 2
}
