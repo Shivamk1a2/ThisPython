{
 "cells": [
  {
   "cell_type": "markdown",
   "metadata": {},
   "source": [
    "# List in Python\n",
    "> List are used to store multiple items in a single variable. list are mutable , which means you can modify them by adding , removing ,  or changing elements."
   ]
  },
  {
   "cell_type": "markdown",
   "metadata": {},
   "source": [
    "1. List constructor is list().\n",
    "2. List literal is [ ].\n",
    "3. List is a set of squence of element.\n",
    "4. List support indexing.\n",
    "5. List support nesting.\n",
    "6. List support concatianaiton.\n",
    "7. List is mutable and unhashable.\n",
    "8. List has various methods."
   ]
  },
  {
   "cell_type": "code",
   "execution_count": 4,
   "metadata": {},
   "outputs": [
    {
     "name": "stdout",
     "output_type": "stream",
     "text": [
      "[12, 12.32, 'shivam']\n",
      "['Shivam', 23, 4.32, ['Rahul', 43, 2.42]]\n"
     ]
    }
   ],
   "source": [
    "# List are :-\n",
    "mylist=[12,12.32,'shivam']\n",
    "#or\n",
    "mylist1=['Shivam',23,4.32,['Rahul',43,2.42]]\n",
    "print(mylist)\n",
    "print(mylist1)"
   ]
  },
  {
   "cell_type": "code",
   "execution_count": 14,
   "metadata": {},
   "outputs": [
    {
     "name": "stdout",
     "output_type": "stream",
     "text": [
      "['krishan', 'Raghav', 'Dia', 12, 14.5, ['Vishal', 3.4, 54]]\n",
      "<class 'list'>\n",
      "1929592649600\n"
     ]
    }
   ],
   "source": [
    "a=[\"krishan\",\"Raghav\",\"Dia\",12,14.5,[\"Vishal\",3.4,54]]\n",
    "print(a)\n",
    "print(type(a))  # check datatype.(<class 'list'>)\n",
    "print(id(a))    # check file located address.(1929592708480)"
   ]
  },
  {
   "cell_type": "markdown",
   "metadata": {},
   "source": [
    "* How to create empty list datatype?\n",
    "1. Using constructor is list()\n",
    "2. Using literal is [ ]"
   ]
  },
  {
   "cell_type": "code",
   "execution_count": 22,
   "metadata": {},
   "outputs": [
    {
     "name": "stdout",
     "output_type": "stream",
     "text": [
      "[]\n",
      "<class 'list'>\n",
      "1929592578240\n"
     ]
    }
   ],
   "source": [
    "# Using constructor\n",
    "a=list()\n",
    "print(a)\n",
    "print(type(a))\n",
    "print(id(a))"
   ]
  },
  {
   "cell_type": "code",
   "execution_count": 20,
   "metadata": {},
   "outputs": [
    {
     "name": "stdout",
     "output_type": "stream",
     "text": [
      "[]\n",
      "<class 'list'>\n",
      "1929592694400\n"
     ]
    }
   ],
   "source": [
    "# Using literal\n",
    "a=[]\n",
    "print(a)\n",
    "print(type(a))\n",
    "print(id(a))"
   ]
  },
  {
   "cell_type": "markdown",
   "metadata": {},
   "source": [
    "* Note :- There are three types of Programming in Python.\n",
    "> * Top line programming (Analyst).\n",
    "> * Procedural / Fucntional programming (Programmer).\n",
    "> * Object Oriented Programming language (OOps-95%)\n",
    "* Example :-"
   ]
  },
  {
   "cell_type": "code",
   "execution_count": 56,
   "metadata": {},
   "outputs": [
    {
     "name": "stdout",
     "output_type": "stream",
     "text": [
      "Hello Python\n"
     ]
    }
   ],
   "source": [
    "# Top Line programming.\n",
    "print(\"Hello Python\")"
   ]
  },
  {
   "cell_type": "code",
   "execution_count": 60,
   "metadata": {},
   "outputs": [
    {
     "name": "stdout",
     "output_type": "stream",
     "text": [
      "This is Python.\n"
     ]
    }
   ],
   "source": [
    "# Procedural/Function type Programming.\n",
    "def myfucn():\n",
    "    print(\"This is Python.\")\n",
    "myfucn()"
   ]
  },
  {
   "cell_type": "code",
   "execution_count": 1,
   "metadata": {},
   "outputs": [
    {
     "name": "stdout",
     "output_type": "stream",
     "text": [
      "Javascript is client-side as well as server-side porgramming language. Its is used to build dynamic type website.\n"
     ]
    }
   ],
   "source": [
    "# Class base(Object Oreinted Programming.)\n",
    "class A:\n",
    "    def mydef(self):\n",
    "        print(\"Javascript is client-side as well as server-side porgramming language. Its is used to build dynamic type website.\")\n",
    "a=A()\n",
    "a.mydef()\n",
    "\n"
   ]
  },
  {
   "cell_type": "markdown",
   "metadata": {},
   "source": [
    "* List support Indexing."
   ]
  },
  {
   "cell_type": "code",
   "execution_count": 28,
   "metadata": {},
   "outputs": [
    {
     "name": "stdout",
     "output_type": "stream",
     "text": [
      "12\n",
      "32.2\n",
      "Shivam\n",
      "[4, 6.4, 'vijay']\n",
      "65\n",
      "55\n"
     ]
    }
   ],
   "source": [
    "list=[12,32.2,\"Shivam\",[4,6.4,\"vijay\"],65,55]\n",
    "print(list[0])\n",
    "print(list[1])\n",
    "print(list[2])\n",
    "print(list[3])\n",
    "print(list[4])\n",
    "print(list[5])"
   ]
  },
  {
   "cell_type": "markdown",
   "metadata": {},
   "source": [
    "* List support Slicing."
   ]
  },
  {
   "cell_type": "code",
   "execution_count": 89,
   "metadata": {},
   "outputs": [
    {
     "name": "stdout",
     "output_type": "stream",
     "text": [
      "['Shivam', [4, 6.4, ['shivash', 34, [22, 33.4, 'Shree Ram', 77, 108], 98.3, 'vishal'], 'vijay'], 65, 55, 'shrishti']\n",
      "['Shivam', [4, 6.4, ['shivash', 34, [22, 33.4, 'Shree Ram', 77, 108], 98.3, 'vishal'], 'vijay'], 65, 55, 'shrishti']\n",
      "['Shivam', [4, 6.4, ['shivash', 34, [22, 33.4, 'Shree Ram', 77, 108], 98.3, 'vishal'], 'vijay'], 65, 55, 'shrishti']\n",
      "[12, 32.2, 'Shivam', [4, 6.4, ['shivash', 34, [22, 33.4, 'Shree Ram', 77, 108], 98.3, 'vishal'], 'vijay'], 65, 55, 'shrishti', 45.8, 90]\n",
      "[90, 45.8, 'shrishti', 55, 65, [4, 6.4, ['shivash', 34, [22, 33.4, 'Shree Ram', 77, 108], 98.3, 'vishal'], 'vijay'], 'Shivam', 32.2, 12]\n",
      "['shivash', 34, [22, 33.4, 'Shree Ram', 77, 108], 98.3, 'vishal']\n",
      "[22, 33.4, 'Shree Ram', 77, 108]\n",
      "Shree Ram\n",
      "108\n",
      "[6.4, ['shivash', 34, [22, 33.4, 'Shree Ram', 77, 108], 98.3, 'vishal']]\n",
      "[12, 'Shivam', 65, 'shrishti', 90]\n"
     ]
    }
   ],
   "source": [
    "list1=[12,32.2,\"Shivam\",[4,6.4,[\"shivash\",34,[22,33.4,\"Shree Ram\",77,108],98.3,\"vishal\"],\"vijay\"],65,55,'shrishti',45.8,90]\n",
    "print(list1[2:7:1])    # slicing.\n",
    "print(list1[-7:-2:1])  # slicing.\n",
    "print(list1[2:-2:1])   # slicing.\n",
    "print(list1[0::1])     # slicing.\n",
    "print(list1[-1::-1])   # slicing.\n",
    "print(list1[3][2])     # nested slicing.\n",
    "print(list1[3][2][2])  # nested slicing.\n",
    "print(list1[3][2][2][2]) # nested slicing.\n",
    "print(list1[3][2][2][4]) # nested slicing.\n",
    "print(list1[3][1:3:1])   # nested slicing.\n",
    "print(list1[0::2])       # steping-2 slicing."
   ]
  },
  {
   "cell_type": "markdown",
   "metadata": {},
   "source": [
    "* List support Concatination."
   ]
  },
  {
   "cell_type": "code",
   "execution_count": 51,
   "metadata": {},
   "outputs": [
    {
     "name": "stdout",
     "output_type": "stream",
     "text": [
      "[12, 43, 53, 'java', 35, 6.4, 'python', 78, 89, 65, 98, 76.87, 94]\n",
      "[12, 43, 53, 'java', 35, 6.4, 'python', 78, 89, 65, 98, 76.87, 94]\n"
     ]
    }
   ],
   "source": [
    "List1=[12,43,53,'java',35,6.4]\n",
    "List2=['python',78,89,65,98,76.87,94]\n",
    "List3=List1+List2\n",
    "print(List3)\n",
    "print(List1+List2)\n",
    "# This is concatinations."
   ]
  },
  {
   "cell_type": "markdown",
   "metadata": {},
   "source": [
    "* Lists has various methods."
   ]
  },
  {
   "cell_type": "code",
   "execution_count": 68,
   "metadata": {},
   "outputs": [
    {
     "name": "stdout",
     "output_type": "stream",
     "text": [
      "[1, 2, 3, 4, 5, 6, 7]\n",
      "Address - 1608171957120  - (Mutable datatype)\n"
     ]
    }
   ],
   "source": [
    "a=[1,2,3,4,5,6,7]\n",
    "print(a)\n",
    "print(\"Address -\",id(a),\" - (Mutable datatype)\")"
   ]
  },
  {
   "cell_type": "code",
   "execution_count": 70,
   "metadata": {},
   "outputs": [
    {
     "name": "stdout",
     "output_type": "stream",
     "text": [
      "[1, 2, 3, 4, 5]\n",
      "1608171957120\n"
     ]
    }
   ],
   "source": [
    "a.pop() # Removes the element at the specified position\n",
    "print(a)\n",
    "print(id(a))"
   ]
  },
  {
   "cell_type": "code",
   "execution_count": 73,
   "metadata": {},
   "outputs": [
    {
     "name": "stdout",
     "output_type": "stream",
     "text": [
      "[1, 2, 3, 4, 5, 6, 6]\n",
      "1608171957120\n"
     ]
    }
   ],
   "source": [
    "a.append(6) # Adds an element at the end of the list\n",
    "print(a)\n",
    "print(id(a))"
   ]
  },
  {
   "cell_type": "code",
   "execution_count": 78,
   "metadata": {},
   "outputs": [
    {
     "name": "stdout",
     "output_type": "stream",
     "text": [
      "[]\n",
      "1608171957120\n"
     ]
    }
   ],
   "source": [
    "a.clear() # Removes all the elements from the list\n",
    "print(a)\n",
    "print(id(a))"
   ]
  },
  {
   "cell_type": "code",
   "execution_count": 79,
   "metadata": {},
   "outputs": [
    {
     "name": "stdout",
     "output_type": "stream",
     "text": [
      "[1, 2, 3, 4, 4, 5, 6, 7, 8]\n",
      "1608171957120\n"
     ]
    }
   ],
   "source": [
    "a.extend([1,2,3,4,4,5,6,7,8]) # Add the elements of a list (or any iterable), to the end of the current list\n",
    "print(a)\n",
    "print(id(a))"
   ]
  },
  {
   "cell_type": "code",
   "execution_count": 80,
   "metadata": {},
   "outputs": [
    {
     "name": "stdout",
     "output_type": "stream",
     "text": [
      "[1, 2, 3, 4, 5, 6, 7, 8]\n",
      "1608171957120\n"
     ]
    }
   ],
   "source": [
    "a.remove(4) # Removes the item with the specified value\n",
    "print(a)\n",
    "print(id(a))"
   ]
  },
  {
   "cell_type": "code",
   "execution_count": 81,
   "metadata": {},
   "outputs": [
    {
     "name": "stdout",
     "output_type": "stream",
     "text": [
      "[1, 2, 3, 4, 5, 'Krishna', 6, 7, 8]\n",
      "1608171957120\n"
     ]
    }
   ],
   "source": [
    "a.insert(5,\"Krishna\") # Adds an element at the specified position.\n",
    "print(a)\n",
    "print(id(a))"
   ]
  },
  {
   "cell_type": "code",
   "execution_count": 85,
   "metadata": {},
   "outputs": [
    {
     "name": "stdout",
     "output_type": "stream",
     "text": [
      "[1, 2, 3, 4, 5, 6, 7, 8]\n"
     ]
    }
   ],
   "source": [
    "a.remove(\"Krishna\")\n",
    "print(a)"
   ]
  },
  {
   "cell_type": "code",
   "execution_count": 87,
   "metadata": {},
   "outputs": [
    {
     "name": "stdout",
     "output_type": "stream",
     "text": [
      "[]\n"
     ]
    }
   ],
   "source": [
    "a.clear()\n",
    "print(a)"
   ]
  },
  {
   "cell_type": "code",
   "execution_count": 89,
   "metadata": {},
   "outputs": [
    {
     "name": "stdout",
     "output_type": "stream",
     "text": [
      "[1, 4, 2, 3, 5, 8, 6, 9, 7]\n"
     ]
    }
   ],
   "source": [
    "a.extend([1,4,2,3,5,8,6,9,7])\n",
    "print(a)"
   ]
  },
  {
   "cell_type": "code",
   "execution_count": 90,
   "metadata": {},
   "outputs": [
    {
     "name": "stdout",
     "output_type": "stream",
     "text": [
      "[1, 2, 3, 4, 5, 6, 7, 8, 9]\n",
      "1608171957120\n"
     ]
    }
   ],
   "source": [
    "a.sort() # Sorts the list\n",
    "print(a)\n",
    "print(id(a))"
   ]
  },
  {
   "cell_type": "code",
   "execution_count": 91,
   "metadata": {},
   "outputs": [
    {
     "name": "stdout",
     "output_type": "stream",
     "text": [
      "[9, 8, 7, 6, 5, 4, 3, 2, 1]\n",
      "1608171957120\n"
     ]
    }
   ],
   "source": [
    "a.reverse() # reverse lists.\n",
    "print(a)\n",
    "print(id(a))"
   ]
  },
  {
   "cell_type": "code",
   "execution_count": 92,
   "metadata": {},
   "outputs": [
    {
     "name": "stdout",
     "output_type": "stream",
     "text": [
      "[1, 2, 3, 4, 5, 6, 7, 8, 9]\n"
     ]
    }
   ],
   "source": [
    "a.reverse()\n",
    "print(a)"
   ]
  },
  {
   "cell_type": "code",
   "execution_count": 4,
   "metadata": {},
   "outputs": [
    {
     "name": "stdout",
     "output_type": "stream",
     "text": [
      "[5, 4, 3, 2, 2, 1]\n"
     ]
    }
   ],
   "source": [
    "b=[5,4,3,2,2,1]\n",
    "print(b)"
   ]
  },
  {
   "cell_type": "code",
   "execution_count": 5,
   "metadata": {},
   "outputs": [
    {
     "name": "stdout",
     "output_type": "stream",
     "text": [
      "[1, 2, 2, 3, 4, 5]\n"
     ]
    }
   ],
   "source": [
    "b.reverse()\n",
    "print(b)"
   ]
  },
  {
   "cell_type": "code",
   "execution_count": 6,
   "metadata": {},
   "outputs": [
    {
     "data": {
      "text/plain": [
       "3"
      ]
     },
     "execution_count": 6,
     "metadata": {},
     "output_type": "execute_result"
    }
   ],
   "source": [
    "b.index(3)"
   ]
  },
  {
   "cell_type": "code",
   "execution_count": 7,
   "metadata": {},
   "outputs": [
    {
     "data": {
      "text/plain": [
       "2"
      ]
     },
     "execution_count": 7,
     "metadata": {},
     "output_type": "execute_result"
    }
   ],
   "source": [
    "b.count(2)"
   ]
  },
  {
   "cell_type": "markdown",
   "metadata": {},
   "source": [
    ">condition :- "
   ]
  },
  {
   "cell_type": "code",
   "execution_count": 100,
   "metadata": {},
   "outputs": [
    {
     "name": "stdout",
     "output_type": "stream",
     "text": [
      "[1, 2, 3, 4, 5, 6, 7, 8, 9]\n",
      "1608171957120\n"
     ]
    }
   ],
   "source": [
    "b=a\n",
    "print(b)\n",
    "print(id(b))"
   ]
  },
  {
   "cell_type": "code",
   "execution_count": 101,
   "metadata": {},
   "outputs": [
    {
     "name": "stdout",
     "output_type": "stream",
     "text": [
      "[1, 2, 3, 4, 5, 6, 7, 8, 9, 10]  address -  1608171957120\n"
     ]
    }
   ],
   "source": [
    "a.append(10)\n",
    "print(a,\" address - \", id(a))"
   ]
  },
  {
   "cell_type": "code",
   "execution_count": 102,
   "metadata": {},
   "outputs": [
    {
     "name": "stdout",
     "output_type": "stream",
     "text": [
      "[1, 2, 3, 4, 5, 6, 7, 8, 9, 10] address -  1608171957120\n"
     ]
    }
   ],
   "source": [
    "print(b, \"address - \",id(b))"
   ]
  },
  {
   "cell_type": "markdown",
   "metadata": {},
   "source": [
    "bcz id will be same."
   ]
  },
  {
   "cell_type": "code",
   "execution_count": 103,
   "metadata": {},
   "outputs": [
    {
     "name": "stdout",
     "output_type": "stream",
     "text": [
      "[1, 2, 3, 4, 5, 6, 7, 8, 9, 10]\n",
      "1608171449920\n"
     ]
    }
   ],
   "source": [
    "c=a.copy()\n",
    "print(c)\n",
    "print(id(c))"
   ]
  },
  {
   "cell_type": "code",
   "execution_count": 105,
   "metadata": {},
   "outputs": [
    {
     "name": "stdout",
     "output_type": "stream",
     "text": [
      "[1, 2, 3, 4, 5, 6, 7, 8]\n",
      "[1, 2, 3, 4, 5, 6, 7, 8, 9, 10]\n"
     ]
    }
   ],
   "source": [
    "a.pop()\n",
    "print(a)\n",
    "print(c)"
   ]
  }
 ],
 "metadata": {
  "kernelspec": {
   "display_name": "Python 3",
   "language": "python",
   "name": "python3"
  },
  "language_info": {
   "codemirror_mode": {
    "name": "ipython",
    "version": 3
   },
   "file_extension": ".py",
   "mimetype": "text/x-python",
   "name": "python",
   "nbconvert_exporter": "python",
   "pygments_lexer": "ipython3",
   "version": "3.11.4"
  },
  "orig_nbformat": 4
 },
 "nbformat": 4,
 "nbformat_minor": 2
}
