{
 "cells": [
  {
   "cell_type": "markdown",
   "metadata": {},
   "source": [
    "# Casting in Python\n",
    "> Casting is a process to convert one datatype to another datatype."
   ]
  },
  {
   "cell_type": "markdown",
   "metadata": {},
   "source": [
    "* Conversion of integer datatype to float datatype."
   ]
  },
  {
   "cell_type": "code",
   "execution_count": 1,
   "metadata": {},
   "outputs": [
    {
     "name": "stdout",
     "output_type": "stream",
     "text": [
      "12.0\n",
      "<class 'float'>\n"
     ]
    }
   ],
   "source": [
    "a=12\n",
    "b=float(a)\n",
    "print(b)\n",
    "print(type(b))"
   ]
  },
  {
   "cell_type": "markdown",
   "metadata": {},
   "source": [
    "* Conversion of integer datatype to string datatype."
   ]
  },
  {
   "cell_type": "code",
   "execution_count": 8,
   "metadata": {},
   "outputs": [
    {
     "name": "stdout",
     "output_type": "stream",
     "text": [
      "12\n",
      "<class 'str'>\n"
     ]
    }
   ],
   "source": [
    "a=12\n",
    "b=str(a)\n",
    "print(b)\n",
    "print(type(b))"
   ]
  },
  {
   "cell_type": "markdown",
   "metadata": {},
   "source": [
    "* Conversion of float datatype to integer datatype."
   ]
  },
  {
   "cell_type": "code",
   "execution_count": 9,
   "metadata": {},
   "outputs": [
    {
     "name": "stdout",
     "output_type": "stream",
     "text": [
      "12\n",
      "<class 'int'>\n"
     ]
    }
   ],
   "source": [
    "a=12.54\n",
    "b=int(a)\n",
    "print(b)\n",
    "print(type(b))"
   ]
  },
  {
   "cell_type": "markdown",
   "metadata": {},
   "source": [
    "* Conversion of float datatype to string datatype."
   ]
  },
  {
   "cell_type": "code",
   "execution_count": 10,
   "metadata": {},
   "outputs": [
    {
     "name": "stdout",
     "output_type": "stream",
     "text": [
      "12.56\n",
      "<class 'str'>\n"
     ]
    }
   ],
   "source": [
    "a=12.56\n",
    "b=str(a)\n",
    "print(b)\n",
    "print(type(b))"
   ]
  },
  {
   "cell_type": "markdown",
   "metadata": {},
   "source": [
    "* Conversion of string datatype to integer datatype."
   ]
  },
  {
   "cell_type": "code",
   "execution_count": 12,
   "metadata": {},
   "outputs": [
    {
     "name": "stdout",
     "output_type": "stream",
     "text": [
      "123\n",
      "<class 'int'>\n"
     ]
    }
   ],
   "source": [
    "a='123'\n",
    "b=int(a)\n",
    "print(b)\n",
    "print(type(b))"
   ]
  },
  {
   "cell_type": "code",
   "execution_count": 13,
   "metadata": {},
   "outputs": [
    {
     "ename": "ValueError",
     "evalue": "invalid literal for int() with base 10: '12.25'",
     "output_type": "error",
     "traceback": [
      "\u001b[1;31m---------------------------------------------------------------------------\u001b[0m",
      "\u001b[1;31mValueError\u001b[0m                                Traceback (most recent call last)",
      "Cell \u001b[1;32mIn[13], line 2\u001b[0m\n\u001b[0;32m      1\u001b[0m a\u001b[39m=\u001b[39m\u001b[39m'\u001b[39m\u001b[39m12.25\u001b[39m\u001b[39m'\u001b[39m\n\u001b[1;32m----> 2\u001b[0m b\u001b[39m=\u001b[39m\u001b[39mint\u001b[39;49m(a)\n\u001b[0;32m      3\u001b[0m \u001b[39mprint\u001b[39m(b)\n",
      "\u001b[1;31mValueError\u001b[0m: invalid literal for int() with base 10: '12.25'"
     ]
    }
   ],
   "source": [
    "a='12.25'\n",
    "b=int(a)\n",
    "print(b)"
   ]
  },
  {
   "cell_type": "markdown",
   "metadata": {},
   "source": [
    "> If the value in the string is a float, it cannot be converted to a direct value into integer.\n",
    ">> For this first you have to convert to float and then to integer."
   ]
  },
  {
   "cell_type": "code",
   "execution_count": 19,
   "metadata": {},
   "outputs": [
    {
     "name": "stdout",
     "output_type": "stream",
     "text": [
      "12 <class 'int'>\n"
     ]
    }
   ],
   "source": [
    "a='12.25'\n",
    "# b=float(a)\n",
    "# print(b, type(b))\n",
    "# c=int(b)\n",
    "# print(c, type(c))\n",
    "b=int(float(a))  # shorthand\n",
    "print(b,type(b))"
   ]
  },
  {
   "cell_type": "markdown",
   "metadata": {},
   "source": [
    "* Conversion of string datatype to float datatype."
   ]
  },
  {
   "cell_type": "code",
   "execution_count": 21,
   "metadata": {},
   "outputs": [
    {
     "name": "stdout",
     "output_type": "stream",
     "text": [
      "12.25 <class 'float'>\n"
     ]
    }
   ],
   "source": [
    "a='12.25'\n",
    "b=float(a)\n",
    "print(b,type(b))"
   ]
  },
  {
   "cell_type": "markdown",
   "metadata": {},
   "source": [
    "# eval() function"
   ]
  },
  {
   "cell_type": "markdown",
   "metadata": {},
   "source": [
    "> Eval() fucntion is use for converesion of string to float and integer (both)."
   ]
  },
  {
   "cell_type": "code",
   "execution_count": 22,
   "metadata": {},
   "outputs": [
    {
     "name": "stdout",
     "output_type": "stream",
     "text": [
      "1232 <class 'int'>\n"
     ]
    }
   ],
   "source": [
    "# using eval() function is used to convert string value to integer.\n",
    "a='1232'\n",
    "b=eval(a)\n",
    "print(b,type(b))"
   ]
  },
  {
   "cell_type": "code",
   "execution_count": 24,
   "metadata": {},
   "outputs": [
    {
     "name": "stdout",
     "output_type": "stream",
     "text": [
      "12.3258 <class 'float'>\n"
     ]
    }
   ],
   "source": [
    "# using eval() function is used to convert string value to float.\n",
    "a='12.3258'\n",
    "b=eval(a)\n",
    "print(b,type(b))\n"
   ]
  },
  {
   "cell_type": "markdown",
   "metadata": {},
   "source": [
    "* Casting on collection kind datatype ( List , Tuple , Set , Frozenset)\n"
   ]
  },
  {
   "cell_type": "markdown",
   "metadata": {},
   "source": [
    "1. List to ( Tuple , Set , Frozenset ) :-"
   ]
  },
  {
   "cell_type": "code",
   "execution_count": 5,
   "metadata": {},
   "outputs": [
    {
     "name": "stdout",
     "output_type": "stream",
     "text": [
      "['Krishan', 'Shivam', 'Vishal', 'Rahul', 'Neha', 'Krishna']\n",
      "<class 'list'>\n"
     ]
    }
   ],
   "source": [
    "a=['Krishan','Shivam','Vishal','Rahul','Neha','Krishna']\n",
    "print(a)\n",
    "print(type(a))"
   ]
  },
  {
   "cell_type": "code",
   "execution_count": 4,
   "metadata": {},
   "outputs": [
    {
     "name": "stdout",
     "output_type": "stream",
     "text": [
      "('Krishan', 'Shivam', 'Vishal', 'Rahul', 'Neha', 'Krishna')\n",
      "<class 'tuple'>\n"
     ]
    }
   ],
   "source": [
    "#list to tuple :-\n",
    "b=tuple(a)\n",
    "print(b)\n",
    "print(type(b))"
   ]
  },
  {
   "cell_type": "code",
   "execution_count": 9,
   "metadata": {},
   "outputs": [
    {
     "name": "stdout",
     "output_type": "stream",
     "text": [
      "{'Rahul', 'Krishna', 'Vishal', 'Neha', 'Shivam'}\n",
      "<class 'set'>\n"
     ]
    }
   ],
   "source": [
    "#list to set :-\n",
    "a=['Krishna','Shivam','Vishal','Rahul','Neha','Krishna']\n",
    "b=set(a)\n",
    "print(b)\n",
    "print(type(b))"
   ]
  },
  {
   "cell_type": "code",
   "execution_count": 11,
   "metadata": {},
   "outputs": [
    {
     "name": "stdout",
     "output_type": "stream",
     "text": [
      "frozenset({'Rahul', 'Krishna', 'Vishal', 'Neha', 'Shivam'})\n",
      "<class 'frozenset'>\n"
     ]
    }
   ],
   "source": [
    "#list tp frozenset :-\n",
    "a=['Krishna','Shivam','Vishal','Rahul','Neha','Krishna']\n",
    "b=frozenset(a)\n",
    "print(b)\n",
    "print(type(b))"
   ]
  },
  {
   "cell_type": "markdown",
   "metadata": {},
   "source": [
    "2. Tuple to ( List , Set , Frozenset ) :-"
   ]
  },
  {
   "cell_type": "code",
   "execution_count": 12,
   "metadata": {},
   "outputs": [
    {
     "name": "stdout",
     "output_type": "stream",
     "text": [
      "('Krishna', 'Shivam', 'Vishal', 'Rahul', 'Neha', 'Krishna')\n",
      "<class 'tuple'>\n"
     ]
    }
   ],
   "source": [
    "a=('Krishna', 'Shivam', 'Vishal', 'Rahul', 'Neha', 'Krishna')\n",
    "print(a)\n",
    "print(type(a))"
   ]
  },
  {
   "cell_type": "code",
   "execution_count": 14,
   "metadata": {},
   "outputs": [
    {
     "name": "stdout",
     "output_type": "stream",
     "text": [
      "['Krishna', 'Shivam', 'Vishal', 'Rahul', 'Neha', 'Krishna']\n",
      "<class 'list'>\n"
     ]
    }
   ],
   "source": [
    "# Tuple to List :-\n",
    "a=('Krishna', 'Shivam', 'Vishal', 'Rahul', 'Neha', 'Krishna')\n",
    "b=list(a)\n",
    "print(b)\n",
    "print(type(b))"
   ]
  },
  {
   "cell_type": "code",
   "execution_count": 15,
   "metadata": {},
   "outputs": [
    {
     "name": "stdout",
     "output_type": "stream",
     "text": [
      "{'Rahul', 'Krishna', 'Vishal', 'Neha', 'Shivam'}\n",
      "<class 'set'>\n"
     ]
    }
   ],
   "source": [
    "# Tuple to Set :-\n",
    "a=('Krishna', 'Shivam', 'Vishal', 'Rahul', 'Neha', 'Krishna')\n",
    "b=set(a)\n",
    "print(b)\n",
    "print(type(b))"
   ]
  },
  {
   "cell_type": "code",
   "execution_count": 18,
   "metadata": {},
   "outputs": [
    {
     "name": "stdout",
     "output_type": "stream",
     "text": [
      "frozenset({'Rahul', 'Krishna', 'Vishal', 'Neha', 'Shivam'})\n",
      "<class 'frozenset'>\n"
     ]
    }
   ],
   "source": [
    "# Tuple to Frozenset :-\n",
    "a=('Krishna', 'Shivam', 'Vishal', 'Rahul', 'Neha', 'Krishna')\n",
    "b=frozenset(a)\n",
    "print(b)\n",
    "print(type(b))"
   ]
  },
  {
   "cell_type": "markdown",
   "metadata": {},
   "source": [
    "3. Frozenset to ( List , Set , Tuple ) :-"
   ]
  },
  {
   "cell_type": "code",
   "execution_count": 19,
   "metadata": {},
   "outputs": [
    {
     "name": "stdout",
     "output_type": "stream",
     "text": [
      "frozenset({'Neha', 'Vishal', 'Krishna', 'Rahul', 'Shivam'})\n",
      "<class 'frozenset'>\n"
     ]
    }
   ],
   "source": [
    "a=frozenset({'Rahul', 'Krishna', 'Vishal', 'Neha', 'Shivam'})\n",
    "print(a)\n",
    "print(type(a))"
   ]
  },
  {
   "cell_type": "code",
   "execution_count": 20,
   "metadata": {},
   "outputs": [
    {
     "name": "stdout",
     "output_type": "stream",
     "text": [
      "['Neha', 'Vishal', 'Krishna', 'Rahul', 'Shivam']\n",
      "<class 'list'>\n"
     ]
    }
   ],
   "source": [
    "# frozenset to list :-\n",
    "a=frozenset({'Rahul', 'Krishna', 'Vishal', 'Neha', 'Shivam'})\n",
    "b=list(a)\n",
    "print(b)\n",
    "print(type(b))"
   ]
  },
  {
   "cell_type": "code",
   "execution_count": 21,
   "metadata": {},
   "outputs": [
    {
     "name": "stdout",
     "output_type": "stream",
     "text": [
      "('Neha', 'Vishal', 'Krishna', 'Rahul', 'Shivam')\n",
      "<class 'tuple'>\n"
     ]
    }
   ],
   "source": [
    "# frozenset to tuple :-\n",
    "a=frozenset({'Rahul', 'Krishna', 'Vishal', 'Neha', 'Shivam'})\n",
    "b=tuple(a)\n",
    "print(b)\n",
    "print(type(b))"
   ]
  },
  {
   "cell_type": "code",
   "execution_count": 22,
   "metadata": {},
   "outputs": [
    {
     "name": "stdout",
     "output_type": "stream",
     "text": [
      "{'Neha', 'Vishal', 'Krishna', 'Rahul', 'Shivam'}\n",
      "<class 'set'>\n"
     ]
    }
   ],
   "source": [
    "# frozenset to set :-\n",
    "a=frozenset({'Rahul', 'Krishna', 'Vishal', 'Neha', 'Shivam'})\n",
    "b=set(a)\n",
    "print(b)\n",
    "print(type(b))"
   ]
  }
 ],
 "metadata": {
  "kernelspec": {
   "display_name": "Python 3",
   "language": "python",
   "name": "python3"
  },
  "language_info": {
   "codemirror_mode": {
    "name": "ipython",
    "version": 3
   },
   "file_extension": ".py",
   "mimetype": "text/x-python",
   "name": "python",
   "nbconvert_exporter": "python",
   "pygments_lexer": "ipython3",
   "version": "3.11.4"
  },
  "orig_nbformat": 4
 },
 "nbformat": 4,
 "nbformat_minor": 2
}
