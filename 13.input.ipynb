{
 "cells": [
  {
   "cell_type": "markdown",
   "metadata": {},
   "source": [
    "# Input() function in Python\n",
    "> The Input() fucntion allows user input.\n",
    "> The input() function is used to read input from the user through the console or commond line."
   ]
  },
  {
   "cell_type": "code",
   "execution_count": 37,
   "metadata": {},
   "outputs": [
    {
     "name": "stdout",
     "output_type": "stream",
     "text": [
      "32\n",
      "<class 'str'>\n"
     ]
    }
   ],
   "source": [
    "a=input()\n",
    "print(a)\n",
    "print(type(a))"
   ]
  },
  {
   "cell_type": "code",
   "execution_count": 38,
   "metadata": {},
   "outputs": [
    {
     "name": "stdout",
     "output_type": "stream",
     "text": [
      "Enter A : 32 <class 'str'>\n",
      "Enter B : 23 <class 'str'>\n",
      "3223\n"
     ]
    }
   ],
   "source": [
    "a=input(\"Enter A :\")\n",
    "b=input(\"Enter B :\")\n",
    "print(\"Enter A :\",a,type(a))\n",
    "print(\"Enter B :\",b,type(b))\n",
    "print(a+b)   # concatination( input use bydefault string value.)"
   ]
  },
  {
   "cell_type": "code",
   "execution_count": 39,
   "metadata": {},
   "outputs": [
    {
     "name": "stdout",
     "output_type": "stream",
     "text": [
      "Enter A : 12 <class 'int'>\n",
      "Enter B : 12 <class 'int'>\n",
      "24\n"
     ]
    }
   ],
   "source": [
    "a=int(input(\"Enter A :\"))\n",
    "b=int(input(\"Enter b :\"))\n",
    "print(\"Enter A :\",a,type(a))\n",
    "print(\"Enter B :\",b,type(b))\n",
    "print(a+b)"
   ]
  },
  {
   "cell_type": "markdown",
   "metadata": {},
   "source": [
    "* using eval() fucntion"
   ]
  },
  {
   "cell_type": "code",
   "execution_count": 40,
   "metadata": {},
   "outputs": [
    {
     "name": "stdout",
     "output_type": "stream",
     "text": [
      "Enter first value : 12 <class 'str'>\n",
      "Eval : 12 <class 'int'>\n",
      "Enter second value : 12 <class 'str'>\n",
      "Eval : 12 <class 'int'>\n",
      "24\n"
     ]
    }
   ],
   "source": [
    "a=input(\"Enter value\")\n",
    "print(\"Enter first value :\",a,type(a))\n",
    "b=eval(a)\n",
    "print(\"Eval :\",b,type(b))\n",
    "c=input(\"Enter value\")\n",
    "print(\"Enter second value :\",c,type(c))\n",
    "d=eval(c)\n",
    "print(\"Eval :\",d,type(d))\n",
    "print(b+d)\n"
   ]
  },
  {
   "cell_type": "code",
   "execution_count": 41,
   "metadata": {},
   "outputs": [
    {
     "name": "stdout",
     "output_type": "stream",
     "text": [
      "42\n"
     ]
    }
   ],
   "source": [
    "print(eval(input(\"Enter no. \"))+eval(input(\"Enter se no.\"))) # single line addition using eval , input fucntion."
   ]
  },
  {
   "cell_type": "code",
   "execution_count": 51,
   "metadata": {},
   "outputs": [
    {
     "name": "stdout",
     "output_type": "stream",
     "text": [
      "Enter value :  32\n",
      "<class 'int'>\n"
     ]
    }
   ],
   "source": [
    "a=input(\"Enter value\")\n",
    "b=eval(a)\n",
    "print(\"Enter value : \",b)\n",
    "print(type(b))\n"
   ]
  }
 ],
 "metadata": {
  "kernelspec": {
   "display_name": "Python 3",
   "language": "python",
   "name": "python3"
  },
  "language_info": {
   "codemirror_mode": {
    "name": "ipython",
    "version": 3
   },
   "file_extension": ".py",
   "mimetype": "text/x-python",
   "name": "python",
   "nbconvert_exporter": "python",
   "pygments_lexer": "ipython3",
   "version": "3.11.4"
  },
  "orig_nbformat": 4
 },
 "nbformat": 4,
 "nbformat_minor": 2
}
