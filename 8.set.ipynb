{
 "cells": [
  {
   "cell_type": "markdown",
   "metadata": {},
   "source": [
    "# Set Datatype\n",
    "> Set are used to store multiple datatype in a single varaible. set items are unchangeble, but you can remove item and add new item. sets are written with curly breaces. { }\n"
   ]
  },
  {
   "cell_type": "markdown",
   "metadata": {},
   "source": [
    "1. Set Constructor is Set().\n",
    "2. Set Literals is not available.\n",
    "3. Set is unordered to set of sequence of element.\n",
    "4. Set create hashing tables to remove deblicate value.\n",
    "5. Set is mutable and unhashable and changeble.\n",
    "6. Set does not allow dublicate value.\n",
    "7. Set does not support nested set.\n",
    "8. Set does not support concatination.\n",
    "9. Set does not allow mutable datatype.\n",
    "10. Set has various methods."
   ]
  },
  {
   "cell_type": "code",
   "execution_count": 10,
   "metadata": {},
   "outputs": [
    {
     "name": "stdout",
     "output_type": "stream",
     "text": [
      "{1, 2, 4.3, 'strings', (1, 4, 5, 6)}\n",
      "<class 'set'>\n"
     ]
    }
   ],
   "source": [
    "# Set are written with curly braces { }.\n",
    "# set support immutable datatype.\n",
    "set={1,2,4.3,'strings',(1,4,5,6)}\n",
    "print(set)\n",
    "print(type(set))"
   ]
  },
  {
   "cell_type": "code",
   "execution_count": 2,
   "metadata": {},
   "outputs": [
    {
     "ename": "TypeError",
     "evalue": "unhashable type: 'list'",
     "output_type": "error",
     "traceback": [
      "\u001b[1;31m---------------------------------------------------------------------------\u001b[0m",
      "\u001b[1;31mTypeError\u001b[0m                                 Traceback (most recent call last)",
      "Cell \u001b[1;32mIn[2], line 2\u001b[0m\n\u001b[0;32m      1\u001b[0m \u001b[39m# Set does not allow mutable datatype.\u001b[39;00m\n\u001b[1;32m----> 2\u001b[0m a\u001b[39m=\u001b[39m{\u001b[39m1\u001b[39m,\u001b[39m2\u001b[39m,[\u001b[39m3\u001b[39m,\u001b[39m4\u001b[39m,\u001b[39m5\u001b[39m,\u001b[39m6\u001b[39m,\u001b[39m7\u001b[39m],{\u001b[39m3\u001b[39m,\u001b[39m6.5\u001b[39m,\u001b[39m'\u001b[39m\u001b[39mVishal\u001b[39m\u001b[39m'\u001b[39m}}\n\u001b[0;32m      3\u001b[0m \u001b[39mprint\u001b[39m(a)\n",
      "\u001b[1;31mTypeError\u001b[0m: unhashable type: 'list'"
     ]
    }
   ],
   "source": [
    "# Set does not allow mutable datatype.\n",
    "a={1,2,[3,4,5,6,7],{3,6.5,'Vishal'}}\n",
    "print(a)"
   ]
  },
  {
   "cell_type": "markdown",
   "metadata": {},
   "source": [
    "* How to create empty set datatype.\n",
    "\n",
    "> Please note that using curly braces { } to create an empty set can be a bit ambiguous because it can also be used to create an empty dictionary. In Python, an empty set and an empty dictionary both use curly braces, so it's essential to be cautious when using this method. so set() returns only constructor."
   ]
  },
  {
   "cell_type": "code",
   "execution_count": 4,
   "metadata": {},
   "outputs": [
    {
     "name": "stdout",
     "output_type": "stream",
     "text": [
      "{}\n"
     ]
    }
   ],
   "source": [
    "a={}\n",
    "print(a)"
   ]
  },
  {
   "cell_type": "markdown",
   "metadata": {},
   "source": [
    "> * Set Literals not available.\n"
   ]
  },
  {
   "cell_type": "markdown",
   "metadata": {},
   "source": [
    "* Set does not support Concatination.\n"
   ]
  },
  {
   "cell_type": "code",
   "execution_count": 6,
   "metadata": {},
   "outputs": [
    {
     "ename": "TypeError",
     "evalue": "unsupported operand type(s) for +: 'set' and 'set'",
     "output_type": "error",
     "traceback": [
      "\u001b[1;31m---------------------------------------------------------------------------\u001b[0m",
      "\u001b[1;31mTypeError\u001b[0m                                 Traceback (most recent call last)",
      "Cell \u001b[1;32mIn[6], line 3\u001b[0m\n\u001b[0;32m      1\u001b[0m x\u001b[39m=\u001b[39m{\u001b[39m1\u001b[39m,\u001b[39m2\u001b[39m,\u001b[39m3\u001b[39m,\u001b[39m4\u001b[39m,\u001b[39m5\u001b[39m}\n\u001b[0;32m      2\u001b[0m y\u001b[39m=\u001b[39m{\u001b[39m6\u001b[39m,\u001b[39m7\u001b[39m,\u001b[39m8\u001b[39m,\u001b[39m9\u001b[39m,\u001b[39m2\u001b[39m}\n\u001b[1;32m----> 3\u001b[0m z\u001b[39m=\u001b[39mx\u001b[39m+\u001b[39;49my\n\u001b[0;32m      4\u001b[0m \u001b[39mprint\u001b[39m(z)\n\u001b[0;32m      5\u001b[0m \u001b[39mprint\u001b[39m(x\u001b[39m+\u001b[39my)\n",
      "\u001b[1;31mTypeError\u001b[0m: unsupported operand type(s) for +: 'set' and 'set'"
     ]
    }
   ],
   "source": [
    "x={1,2,3,4,5}\n",
    "y={6,7,8,9,2}\n",
    "# z=x+y\n",
    "# print(z)\n",
    "print(x+y)"
   ]
  },
  {
   "cell_type": "markdown",
   "metadata": {},
   "source": [
    "* Sets Methods\n"
   ]
  },
  {
   "cell_type": "code",
   "execution_count": 14,
   "metadata": {},
   "outputs": [
    {
     "name": "stdout",
     "output_type": "stream",
     "text": [
      "{1, 2, 3, 4, 5}\n",
      "<class 'set'>\n",
      "2553769970368\n"
     ]
    }
   ],
   "source": [
    "s={1,2,3,4,5}\n",
    "print(s)\n",
    "print(type(s))\n",
    "print(id(s))"
   ]
  },
  {
   "cell_type": "code",
   "execution_count": 24,
   "metadata": {},
   "outputs": [
    {
     "name": "stdout",
     "output_type": "stream",
     "text": [
      "{1, (2, 4, 6, 7, 9, 8, 45, 32)}\n",
      "2553769970368\n"
     ]
    }
   ],
   "source": [
    "# add() methods\n",
    "s.add((2,4,6,7,9,8,45,32))  # Adds an element to the set.(Set support only Immutable datatype.)\n",
    "print(s)\n",
    "print(id(s))"
   ]
  },
  {
   "cell_type": "code",
   "execution_count": 33,
   "metadata": {},
   "outputs": [
    {
     "name": "stdout",
     "output_type": "stream",
     "text": [
      "set()\n"
     ]
    }
   ],
   "source": [
    "# clear() methods\n",
    "s.clear()  # Removes all the elements from the set\n",
    "print(s)   # return constructor is set()."
   ]
  },
  {
   "cell_type": "code",
   "execution_count": 38,
   "metadata": {},
   "outputs": [
    {
     "name": "stdout",
     "output_type": "stream",
     "text": [
      "{1, 2, 3, 4, 5, 6, 7, 8}\n"
     ]
    }
   ],
   "source": [
    "# update() methods\n",
    "s.update([1,2,3,4,5,6,7,8]) # Adds an element with list,set,tuple etc.\n",
    "print(s)"
   ]
  },
  {
   "cell_type": "code",
   "execution_count": 72,
   "metadata": {},
   "outputs": [
    {
     "name": "stdout",
     "output_type": "stream",
     "text": [
      "A : {1, 2, 3, 4, 5, 6, 7, 8}\n",
      "B : {5, 6, 7, 8, 9, 10, 11, 12, 13, 14}\n",
      "C : {8, 5, 6, 7}\n"
     ]
    }
   ],
   "source": [
    "# intersectin() methods\n",
    "a={1,2,3,4,5,6,7,8}\n",
    "b={5,6,7,8,9,10,11,12,13,14}\n",
    "c=a.intersection(b) # Returns a set, that is the intersection of two other sets\n",
    "print(\"A :\" ,a)\n",
    "print(\"B :\" ,b)\n",
    "print(\"C :\",c)"
   ]
  },
  {
   "cell_type": "code",
   "execution_count": 73,
   "metadata": {},
   "outputs": [
    {
     "name": "stdout",
     "output_type": "stream",
     "text": [
      "A : {1, 2, 3, 4, 5, 9, 11}\n",
      "B : {3, 4, 5, 6, 7}\n",
      "C : {1, 2, 11, 9}\n"
     ]
    }
   ],
   "source": [
    "# diffrence() methods\n",
    "x={1,2,3,4,5,9,11} \n",
    "y={3,4,5,6,7}\n",
    "z=x.difference(y)  # Returns a set containing the difference between two or more sets\n",
    "# z=x-y   \n",
    "print(\"A :\" ,x)\n",
    "print(\"B :\" ,y)\n",
    "print(\"C :\",z)"
   ]
  },
  {
   "cell_type": "code",
   "execution_count": 74,
   "metadata": {},
   "outputs": [
    {
     "name": "stdout",
     "output_type": "stream",
     "text": [
      "A : {'php', 'ruby', 'python'}\n",
      "B : {'java', 'matlab', 'python', 'C#'}\n",
      "C : {'php', 'matlab', 'java', 'ruby', 'python', 'C#'}\n"
     ]
    }
   ],
   "source": [
    "# union() methods\n",
    "a={'python','ruby','php'}\n",
    "b={'C#','matlab','python','java'}\n",
    "c=a.union(b)                    # Return a set containing the union of sets\n",
    "print(\"A :\" ,a)\n",
    "print(\"B :\" ,b)\n",
    "print(\"C :\",c)"
   ]
  },
  {
   "cell_type": "code",
   "execution_count": 102,
   "metadata": {},
   "outputs": [
    {
     "name": "stdout",
     "output_type": "stream",
     "text": [
      "A : {'php', 'ruby', 'python'}\n",
      "B : {'php', 'java', 'pascal', 'ruby', 'python'}\n",
      "C : True\n",
      "------------------------------------------------\n",
      "A : {'react', 'php', 'ruby', 'python'}\n",
      "B : {'php', 'java', 'pascal', 'ruby', 'python'}\n",
      "C : False\n"
     ]
    }
   ],
   "source": [
    "# issubset() methods\n",
    "a={'python','ruby','php'}\n",
    "b={'php','python','ruby','java','pascal'}\n",
    "z=a.issubset(b)               #Returns whether another set contains this set or not\n",
    "print(\"A :\" ,a)\n",
    "print(\"B :\" ,b)\n",
    "print(\"C :\",z)\n",
    "print(\"------------------------------------------------\")\n",
    "a={'python','ruby','php','react'}\n",
    "b={'php','python','ruby','java','pascal'}\n",
    "z=a.issubset(b)               \n",
    "print(\"A :\" ,a)\n",
    "print(\"B :\" ,b)\n",
    "print(\"C :\",z)"
   ]
  },
  {
   "cell_type": "code",
   "execution_count": null,
   "metadata": {},
   "outputs": [
    {
     "name": "stdout",
     "output_type": "stream",
     "text": [
      "A : {1, 2, 3, 4, 5, 9, 11}\n",
      "B : {3, 4, 5, 6, 7}\n",
      "C : {1, 2, 11, 9}\n"
     ]
    }
   ],
   "source": [
    "# diffrence() methods\n",
    "x={1,2,3,4,5,9,11} \n",
    "y={3,4,5,6,7}\n",
    "z=x.difference(y)  # Returns a set containing the difference between two or more sets\n",
    "# z=x-y   \n",
    "print(\"A :\" ,x)\n",
    "print(\"B :\" ,y)\n",
    "print(\"C :\",z)"
   ]
  },
  {
   "cell_type": "code",
   "execution_count": 104,
   "metadata": {},
   "outputs": [
    {
     "name": "stdout",
     "output_type": "stream",
     "text": [
      "A : {'php', 'java', 'pascal', 'ruby', 'python'}\n",
      "B : {'php', 'ruby', 'python'}\n",
      "C : True\n",
      "------------------------------------------------\n",
      "A : {'php', 'java', 'pascal', 'ruby', 'python'}\n",
      "B : {'php', 'ruby', 'python', 'angular'}\n",
      "C : False\n"
     ]
    }
   ],
   "source": [
    "# issuperset() methods\n",
    "a={'php','python','ruby','java','pascal'}\n",
    "b={'python','ruby','php'}\n",
    "z=a.issuperset(b)          # Returns whether this set contains another set or not\n",
    "print(\"A :\" ,a)\n",
    "print(\"B :\" ,b)\n",
    "print(\"C :\",z)\n",
    "print(\"------------------------------------------------\")\n",
    "a={'php','python','ruby','java','pascal'}\n",
    "b={'python','ruby','php','angular'}\n",
    "z=a.issuperset(b)        \n",
    "print(\"A :\" ,a)\n",
    "print(\"B :\" ,b)\n",
    "print(\"C :\",z)"
   ]
  },
  {
   "cell_type": "code",
   "execution_count": 114,
   "metadata": {},
   "outputs": [
    {
     "name": "stdout",
     "output_type": "stream",
     "text": [
      "A :  {1, 2, 3, 4, 5, 6}\n",
      "B :  {2, 5, 6, 7, 8, 9}\n",
      "C :  False\n",
      "------------------------\n",
      "A :  {1, 2, 3, 4, 5, 6}\n",
      "B :  {7, 8, 9, 10, 11}\n",
      "C :  True\n"
     ]
    }
   ],
   "source": [
    "# isdisjoint() methods\n",
    "a={1,2,3,4,5,6}\n",
    "b={2,5,6,7,9,8}\n",
    "z=a.isdisjoint(b)   # Returns whether two sets have a intersection or not\n",
    "print(\"A : \",a)\n",
    "print(\"B : \",b)\n",
    "print(\"C : \",z)\n",
    "print(\"------------------------\")\n",
    "a={1,2,3,4,5,6}\n",
    "b={7,9,8,10,11}\n",
    "z=a.isdisjoint(b) \n",
    "print(\"A : \",a)\n",
    "print(\"B : \",b)\n",
    "print(\"C : \",z)\n"
   ]
  },
  {
   "cell_type": "code",
   "execution_count": 128,
   "metadata": {},
   "outputs": [
    {
     "name": "stdout",
     "output_type": "stream",
     "text": [
      "A :  {2, 3, 4, 5}\n",
      "result z =  1\n"
     ]
    }
   ],
   "source": [
    "# pop() methods\n",
    "a={1,2,3,4,5}\n",
    "z=a.pop()       # Removes an element from the set\n",
    "print(\"A : \",a)\n",
    "print(\"result z = \",z)"
   ]
  },
  {
   "cell_type": "code",
   "execution_count": 137,
   "metadata": {},
   "outputs": [
    {
     "name": "stdout",
     "output_type": "stream",
     "text": [
      "a :  {1, 2, 3, 4, 5, 6, 'remove'}\n"
     ]
    }
   ],
   "source": [
    "a={1,2,3,4,5,6,'remove'}\n",
    "print(\"a : \",a)"
   ]
  },
  {
   "cell_type": "code",
   "execution_count": 136,
   "metadata": {},
   "outputs": [
    {
     "name": "stdout",
     "output_type": "stream",
     "text": [
      "A :  {1, 2, 3, 4, 5, 6}\n"
     ]
    }
   ],
   "source": [
    "# remove() methods\n",
    "a={1,2,3,4,5,6,'remove'}\n",
    "z=a.remove('remove')       # Removes the specified element\n",
    "print(\"A : \",a)\n"
   ]
  },
  {
   "cell_type": "code",
   "execution_count": 143,
   "metadata": {},
   "outputs": [
    {
     "name": "stdout",
     "output_type": "stream",
     "text": [
      "{1, 2, 3, 4, 5, 6, 7, 8}\n",
      "{1, 2, 3, 4, 5, 6, 7, 8}\n",
      "{2, 3, 4, 5, 6, 7, 8}\n",
      "{2, 3, 4, 5, 6, 7, 8}\n"
     ]
    }
   ],
   "source": [
    "# before copy() methods\n",
    "a={1,2,3,4,5,6,7,8}\n",
    "print(a)\n",
    "b=a\n",
    "print(b)\n",
    "#if you will change in a.\n",
    "a.pop()\n",
    "print(a)\n",
    "# automatic change in b.\n",
    "print(b)"
   ]
  },
  {
   "cell_type": "code",
   "execution_count": 149,
   "metadata": {},
   "outputs": [
    {
     "name": "stdout",
     "output_type": "stream",
     "text": [
      "B :  {1, 2, 3, 4, 5}\n",
      "B :  {2, 3, 4, 5}\n",
      "A :  {1, 2, 3, 4, 5}\n"
     ]
    }
   ],
   "source": [
    "# copy() methods\n",
    "a={1,2,3,4,5}\n",
    "b=a.copy()\n",
    "print(\"B : \",b)\n",
    "# if you will change in b.\n",
    "b.pop()\n",
    "print(\"B : \",b)\n",
    "print(\"A : \",a)"
   ]
  }
 ],
 "metadata": {
  "kernelspec": {
   "display_name": "Python 3",
   "language": "python",
   "name": "python3"
  },
  "language_info": {
   "codemirror_mode": {
    "name": "ipython",
    "version": 3
   },
   "file_extension": ".py",
   "mimetype": "text/x-python",
   "name": "python",
   "nbconvert_exporter": "python",
   "pygments_lexer": "ipython3",
   "version": "3.11.4"
  },
  "orig_nbformat": 4
 },
 "nbformat": 4,
 "nbformat_minor": 2
}
