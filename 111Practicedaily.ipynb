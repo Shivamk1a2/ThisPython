{
 "cells": [
  {
   "cell_type": "markdown",
   "metadata": {},
   "source": [
    "# Python Function:\n",
    ">> 1. Def (Function) :- \n",
    ">> >> 1. Local variable\n",
    ">> >> 2. Global variable\n",
    ">> >> 2. Return\n",
    ">> >> 3. Arguments :-\n",
    ">> >> >>   1. Positional Arguments\n",
    ">> >> >>   2. Default (keyword) Arguments\n",
    ">> >> >>   3. Keyword Arguments\n",
    ">> >> >>   4. Arbitrary Arguments\n",
    ">> 2. Lambda (anonymous fucntion, (<=) fat arrow fucntion)\n",
    ">> 3. Decoder\n",
    ">> 4. Gererator"
   ]
  },
  {
   "cell_type": "code",
   "execution_count": 24,
   "metadata": {},
   "outputs": [
    {
     "name": "stdout",
     "output_type": "stream",
     "text": [
      "Hello World\n",
      "Hello World\n",
      "Hello World\n",
      "Hello World\n",
      "Hello World\n"
     ]
    }
   ],
   "source": [
    "#  Fucntion\n",
    "def hello():\n",
    "    n=int(input(\"Enter range : - \"))\n",
    "    for i in range(n):\n",
    "        print(\"Hello World\")\n",
    "hello()"
   ]
  },
  {
   "cell_type": "code",
   "execution_count": 19,
   "metadata": {},
   "outputs": [
    {
     "name": "stdout",
     "output_type": "stream",
     "text": [
      "Hello World\n",
      "Hello World\n",
      "Hello World\n",
      "Hello World\n",
      "Hello World\n"
     ]
    }
   ],
   "source": [
    "# Positional Arguments\n",
    "def hello(n):\n",
    "    for i in range(n):\n",
    "        print(\"Hello World\")\n",
    "hello(5)"
   ]
  },
  {
   "cell_type": "code",
   "execution_count": 38,
   "metadata": {},
   "outputs": [
    {
     "name": "stdout",
     "output_type": "stream",
     "text": [
      "10 Hello World\n",
      "9 Hello World\n",
      "8 Hello World\n",
      "7 Hello World\n",
      "6 Hello World\n",
      "5 Hello World\n",
      "4 Hello World\n",
      "3 Hello World\n",
      "2 Hello World\n",
      "1 Hello World\n",
      "0 Hello World\n"
     ]
    }
   ],
   "source": [
    "# Positional Arguments\n",
    "def hello(a,n,b):\n",
    "    for i in range(a,-n,b):\n",
    "        print(i,\"Hello World\")\n",
    "hello(10,1,-1)"
   ]
  },
  {
   "cell_type": "code",
   "execution_count": 57,
   "metadata": {},
   "outputs": [
    {
     "name": "stdout",
     "output_type": "stream",
     "text": [
      "10 : Hello World\n",
      "9 : Hello World\n",
      "8 : Hello World\n",
      "7 : Hello World\n",
      "6 : Hello World\n",
      "5 : Hello World\n"
     ]
    }
   ],
   "source": [
    "# Positional Arguments\n",
    "def hello(a,n,b):\n",
    "    for i in range(a,n-1,-b):\n",
    "        print(i,': Hello World')\n",
    "hello(10,5,1)"
   ]
  },
  {
   "cell_type": "markdown",
   "metadata": {},
   "source": [
    "Fucntion syntax: def fucntion name( ):\n",
    "> def myfunction():"
   ]
  },
  {
   "cell_type": "code",
   "execution_count": 6,
   "metadata": {},
   "outputs": [
    {
     "name": "stdout",
     "output_type": "stream",
     "text": [
      "python is a server side scripting language. It is used to for machine learning, artificial intelligence, data science, data analytics\n"
     ]
    }
   ],
   "source": [
    "# Simple Function : -\n",
    "def hello():\n",
    "    print(\"python is a server side scripting language. It is used to for machine learning, artificial intelligence, data science, data analytics\")\n",
    "\n",
    "hello()"
   ]
  },
  {
   "cell_type": "code",
   "execution_count": 10,
   "metadata": {},
   "outputs": [
    {
     "name": "stdout",
     "output_type": "stream",
     "text": [
      "30\n"
     ]
    }
   ],
   "source": [
    "# Function with arguments :-\n",
    "def add(a,b):\n",
    "    print(a+b)\n",
    "\n",
    "add(10,20)"
   ]
  }
 ],
 "metadata": {
  "kernelspec": {
   "display_name": "Python 3",
   "language": "python",
   "name": "python3"
  },
  "language_info": {
   "codemirror_mode": {
    "name": "ipython",
    "version": 3
   },
   "file_extension": ".py",
   "mimetype": "text/x-python",
   "name": "python",
   "nbconvert_exporter": "python",
   "pygments_lexer": "ipython3",
   "version": "3.11.4"
  },
  "orig_nbformat": 4
 },
 "nbformat": 4,
 "nbformat_minor": 2
}
