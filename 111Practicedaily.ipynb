{
 "cells": [
  {
   "cell_type": "markdown",
   "metadata": {},
   "source": [
    "* Casting in python\n",
    "1. Casting is a process to convert one datatype to another data type."
   ]
  },
  {
   "cell_type": "markdown",
   "metadata": {},
   "source": [
    "1. Conversion of integer datatype to float datatype."
   ]
  },
  {
   "cell_type": "code",
   "execution_count": null,
   "metadata": {},
   "outputs": [],
   "source": [
    "a=12\n",
    "print(a)\n",
    "print(type(a))\n",
    "b=float(a)   #conversion of integer datatype to float datatype.\n",
    "print(b)\n",
    "print(type(b))"
   ]
  },
  {
   "cell_type": "markdown",
   "metadata": {},
   "source": [
    "Conversion of integer to string\n"
   ]
  },
  {
   "cell_type": "code",
   "execution_count": null,
   "metadata": {},
   "outputs": [],
   "source": [
    "a=15\n",
    "print(a)\n",
    "print(type(a))\n",
    "b=str(a)   # conversion of integer to string.\n",
    "print(b)\n",
    "print(type(b))\n",
    "b"
   ]
  },
  {
   "cell_type": "markdown",
   "metadata": {},
   "source": [
    "Conversion of float to integer or str\n"
   ]
  },
  {
   "cell_type": "code",
   "execution_count": null,
   "metadata": {},
   "outputs": [],
   "source": [
    "a=20.25\n",
    "print(a,type(a))\n",
    "b=int(a)         #conversion of float to integer.\n",
    "print(b, type(b))\n",
    "c=str(a)         #conversion of float to string.\n",
    "print(c, type(c))\n",
    "c"
   ]
  },
  {
   "cell_type": "markdown",
   "metadata": {},
   "source": [
    "Conversion of string to integer or float\n"
   ]
  },
  {
   "cell_type": "code",
   "execution_count": null,
   "metadata": {},
   "outputs": [],
   "source": [
    "a=\"100\"\n",
    "print(a,type(a))\n",
    "b=int(a)\n",
    "print(b,type(b))\n",
    "c=float(a)\n",
    "print(c,type(c))"
   ]
  },
  {
   "cell_type": "code",
   "execution_count": null,
   "metadata": {},
   "outputs": [],
   "source": [
    "j=\"12.23\"\n",
    "print(j,type(j))\n",
    "i=float(j)   # first of all you can do conversion of string to float.\n",
    "print(i,type(i))\n",
    "k=int(i)     # and than conversion of flaot to integer.\n",
    "print(k,type(k))"
   ]
  },
  {
   "cell_type": "code",
   "execution_count": null,
   "metadata": {},
   "outputs": [],
   "source": [
    "#easy way to conversion of string to integer.\n",
    "a=\"12.23\"\n",
    "print(a,type(a))\n",
    "b=int(float(a))\n",
    "print(b,type(b))"
   ]
  },
  {
   "cell_type": "markdown",
   "metadata": {},
   "source": [
    " eval() : eval() function is use for conversion fo string to float and int (both)"
   ]
  },
  {
   "cell_type": "code",
   "execution_count": null,
   "metadata": {},
   "outputs": [],
   "source": [
    "z=\"23.24\"\n",
    "n=eval(z)\n",
    "print(n,type(n))"
   ]
  },
  {
   "cell_type": "code",
   "execution_count": null,
   "metadata": {},
   "outputs": [],
   "source": [
    "y=\"123\"\n",
    "n=eval(y)\n",
    "print(n,type(n))"
   ]
  },
  {
   "cell_type": "code",
   "execution_count": null,
   "metadata": {},
   "outputs": [],
   "source": [
    "a=\"krishna\"\n",
    "print(a,\" - \",id(a))\n",
    "b=a.upper()\n",
    "print(b,\" - \",id(b))\n",
    "#It is immutable.\n"
   ]
  },
  {
   "cell_type": "code",
   "execution_count": null,
   "metadata": {},
   "outputs": [],
   "source": [
    "a=dict()\n",
    "print(a)"
   ]
  },
  {
   "cell_type": "code",
   "execution_count": null,
   "metadata": {},
   "outputs": [],
   "source": [
    "a={}\n",
    "print(a)"
   ]
  },
  {
   "cell_type": "code",
   "execution_count": null,
   "metadata": {},
   "outputs": [],
   "source": [
    "dict1 = {'a': 1, 'b': 2}\n",
    "dict2 = {'b': 3, 'd': 4}\n",
    "dict1.update(dict2)\n",
    "print(dict1)"
   ]
  },
  {
   "cell_type": "markdown",
   "metadata": {},
   "source": [
    "# Operator in Python"
   ]
  },
  {
   "cell_type": "markdown",
   "metadata": {},
   "source": [
    "* Identity Operator"
   ]
  },
  {
   "cell_type": "code",
   "execution_count": null,
   "metadata": {},
   "outputs": [],
   "source": [
    "'python' is 'python'\n"
   ]
  },
  {
   "cell_type": "code",
   "execution_count": null,
   "metadata": {},
   "outputs": [],
   "source": [
    "print('python'=='python')"
   ]
  },
  {
   "cell_type": "code",
   "execution_count": null,
   "metadata": {},
   "outputs": [],
   "source": [
    "10 is not 10\n"
   ]
  },
  {
   "cell_type": "code",
   "execution_count": null,
   "metadata": {},
   "outputs": [],
   "source": [
    "print('python'!='java')\n",
    "print('python'!='python')"
   ]
  },
  {
   "cell_type": "markdown",
   "metadata": {},
   "source": [
    "* Membership Operator ( in , not in)"
   ]
  },
  {
   "cell_type": "code",
   "execution_count": null,
   "metadata": {},
   "outputs": [],
   "source": [
    "'python' in 'python is funny language.'"
   ]
  },
  {
   "cell_type": "code",
   "execution_count": null,
   "metadata": {},
   "outputs": [],
   "source": [
    "'python' in 'Python is funny language.'"
   ]
  },
  {
   "cell_type": "code",
   "execution_count": null,
   "metadata": {},
   "outputs": [],
   "source": [
    "'python' not in 'Python is funny language.'\n"
   ]
  },
  {
   "cell_type": "markdown",
   "metadata": {},
   "source": [
    "* Conditional Operator "
   ]
  },
  {
   "cell_type": "code",
   "execution_count": null,
   "metadata": {},
   "outputs": [],
   "source": [
    "num1=eval(input(\"Enter your first number\"))\n",
    "num2=eval(input(\"Enter your second number\"))\n",
    "option=input(\"Choose operator to perform operation.\")\n",
    "if option=='+':\n",
    "    print(num1+num2)\n",
    "elif option=='-':\n",
    "    print(num1-num2)\n",
    "elif option=='*':\n",
    "    print(num1*num2)\n",
    "elif option=='/':\n",
    "    print(num1/num2)\n",
    "else:\n",
    "    print(\"kindly choose operator.\")\n"
   ]
  },
  {
   "cell_type": "code",
   "execution_count": null,
   "metadata": {},
   "outputs": [],
   "source": [
    "a=eval(input(\"Enter number: \"))\n",
    "if a>0:\n",
    "    print(\" a is postive number. \")\n",
    "else:\n",
    "    print(\"a is negative number\")"
   ]
  },
  {
   "cell_type": "code",
   "execution_count": null,
   "metadata": {},
   "outputs": [],
   "source": [
    "num=int(input(\"Enter Your number: \"))\n",
    "if num%2==0:\n",
    "    print(\"numbers is odd\")\n",
    "else:\n",
    "    print(\"numbers is even\")"
   ]
  },
  {
   "cell_type": "code",
   "execution_count": null,
   "metadata": {},
   "outputs": [],
   "source": [
    "a=int(input(\"Enter your num.\"))\n",
    "if a>=0:\n",
    "    print(\"number is positve.\")\n",
    "    if a%2==0:\n",
    "        print(\"number is odd.\")\n",
    "    else:\n",
    "        print(\"numbers is even\")\n",
    "else:\n",
    "    print(\"number is negative\")"
   ]
  },
  {
   "cell_type": "code",
   "execution_count": null,
   "metadata": {},
   "outputs": [],
   "source": [
    "print(\"simple calculator using python.\")\n",
    "a=eval(input(\"Enter First Number\"))\n",
    "b=eval(input(\"Enter Second Number\"))\n",
    "print(\"Enter First Number : \",a)\n",
    "print(\"Enter Second Number : \",b)\n",
    "option=input(\"Choose Operator :- (+,-,*,/,//,%,**)\")\n",
    "if option=='+':\n",
    "    print(\"Calculate = \",a+b)\n",
    "elif option=='-':\n",
    "    print(\"Calculate = \",a-b)\n",
    "elif option=='*':\n",
    "    print(\"Calculate = \",a*b)\n",
    "elif option=='/':\n",
    "    print(\"Calculate = \",a/b)\n",
    "elif option=='%':\n",
    "    print(\"Calculate = \",a%b)\n",
    "elif option=='//':\n",
    "    print(\"Calculate = \",a//b)\n",
    "elif option=='**':\n",
    "    print(\"Calculate = \",a**b)\n",
    "else:\n",
    "    print(\"Please Choose a Correct operator to Calculate..\")"
   ]
  },
  {
   "cell_type": "code",
   "execution_count": null,
   "metadata": {},
   "outputs": [],
   "source": [
    "#list\n",
    "list=[1,2,3,4,[2,3,4,[54,76,56,65],5,32,2],43,4,65,3,53] #list support nested list\n",
    "print(list)"
   ]
  },
  {
   "cell_type": "code",
   "execution_count": null,
   "metadata": {},
   "outputs": [],
   "source": [
    "#tuple\n",
    "tuple=(1,2,3,4,(2,3,4,(54,76,56,65),5,32,2),43,4,65,3,53) #ltuple support nested tuple\n",
    "print(tuple)"
   ]
  },
  {
   "cell_type": "code",
   "execution_count": null,
   "metadata": {},
   "outputs": [],
   "source": [
    "#set\n",
    "set={1,2,3,4,{2,3,4,{54,76,56,65},5,32,2},43,4,65,3,53} # set does not support nesting.\n",
    "print(set)"
   ]
  },
  {
   "cell_type": "code",
   "execution_count": null,
   "metadata": {},
   "outputs": [],
   "source": [
    "#frozenset\n",
    "frozenset=({1,2,3,4,{2,3,4,{54,76,56,65},5,32,2},43,4,65,3,53}) #frozenset does not support nesting.\n",
    "print(frozenset)"
   ]
  },
  {
   "cell_type": "markdown",
   "metadata": {},
   "source": [
    "* pratice condtiontios (if, if else, if elif, if elif else, nested if else, nested if elif else)"
   ]
  },
  {
   "cell_type": "code",
   "execution_count": null,
   "metadata": {},
   "outputs": [],
   "source": [
    "a=\"Thi2343242s i$@#$@#s Shi243432va&$%m\"\n",
    "print(a)\n",
    "import re\n",
    "print(re.sub(\"[^A-z ]\",\"\",a))"
   ]
  },
  {
   "cell_type": "code",
   "execution_count": null,
   "metadata": {},
   "outputs": [],
   "source": [
    "a=int(input(\"Enter First num.\"))\n",
    "b=int(input(\"Enter second num.\"))\n",
    "c=int(input(\"Enter third num.\"))\n",
    "if a>b:\n",
    "    if a>c:\n",
    "        print(f\"{a} is greater.\")\n",
    "    else:\n",
    "        print(f\"{c} is greater.\")\n",
    "elif b>c:\n",
    "    print(f\"{b} is greater.\")\n",
    "else:\n",
    "    print(f\"{c} is greater.\")"
   ]
  },
  {
   "cell_type": "code",
   "execution_count": null,
   "metadata": {},
   "outputs": [],
   "source": [
    "a=[1,3,3,53,63,634,2,623,542]\n",
    "i=0\n",
    "while i<len(a):\n",
    "    print(a[i])\n",
    "    i+=1"
   ]
  },
  {
   "cell_type": "code",
   "execution_count": null,
   "metadata": {},
   "outputs": [],
   "source": [
    "i=1\n",
    "while i<=10:\n",
    "    print(i)\n",
    "    i+=1"
   ]
  },
  {
   "cell_type": "code",
   "execution_count": 11,
   "metadata": {},
   "outputs": [
    {
     "name": "stdout",
     "output_type": "stream",
     "text": [
      "1 = Hello World\n",
      "2 = Hello World\n",
      "3 = Hello World\n",
      "4 = Hello World\n",
      "5 = Hello World\n",
      "6 = Hello World\n",
      "7 = Hello World\n",
      "8 = Hello World\n",
      "9 = Hello World\n",
      "10 = Hello World\n"
     ]
    }
   ],
   "source": [
    "a=1\n",
    "while a<=10:\n",
    "    if a!=3:\n",
    "       print(a,\"=\",'Hello World')\n",
    "    a+=1;"
   ]
  },
  {
   "cell_type": "code",
   "execution_count": 11,
   "metadata": {},
   "outputs": [
    {
     "name": "stdout",
     "output_type": "stream",
     "text": [
      "    *\n",
      "   **\n",
      "  ***\n",
      " ****\n",
      "*****\n"
     ]
    }
   ],
   "source": [
    "i=1\n",
    "while i<=5:\n",
    "    print(\" \"*(5-i)+ \"*\"*i)\n",
    "    i+=1"
   ]
  },
  {
   "cell_type": "code",
   "execution_count": 12,
   "metadata": {},
   "outputs": [
    {
     "name": "stdout",
     "output_type": "stream",
     "text": [
      "    * \n",
      "   * * \n",
      "  * * * \n",
      " * * * * \n",
      "* * * * * \n"
     ]
    }
   ],
   "source": [
    "i=1\n",
    "while i<=5:\n",
    "    print(\" \"*(5-i)+ \"* \"*i)\n",
    "    i+=1"
   ]
  },
  {
   "cell_type": "code",
   "execution_count": 46,
   "metadata": {},
   "outputs": [
    {
     "name": "stdout",
     "output_type": "stream",
     "text": [
      "     \n",
      "    *\n",
      "   ***\n",
      "  *****\n",
      " *******\n",
      "*********\n"
     ]
    }
   ],
   "source": [
    "i=0;\n",
    "while i<=5:\n",
    "    print(\" \"*(5-i)+\"*\"*(2*i-1))\n",
    "    i+=1"
   ]
  },
  {
   "cell_type": "code",
   "execution_count": 55,
   "metadata": {},
   "outputs": [
    {
     "name": "stdout",
     "output_type": "stream",
     "text": [
      "*********\n",
      " *******\n",
      "  *****\n",
      "   ***\n",
      "    *\n",
      "     \n"
     ]
    }
   ],
   "source": [
    "i=5;\n",
    "while i>=0:\n",
    "    print(\" \"*(5-i)+\"*\"*(2*i-1))\n",
    "    i-=1"
   ]
  },
  {
   "cell_type": "code",
   "execution_count": 5,
   "metadata": {},
   "outputs": [
    {
     "name": "stdout",
     "output_type": "stream",
     "text": [
      "*\n",
      "**\n",
      "***\n",
      "****\n",
      "*****\n",
      "******\n",
      "*******\n",
      "********\n",
      "*********\n",
      "**********\n"
     ]
    }
   ],
   "source": [
    "i=1\n",
    "while i<=10:\n",
    "    print(\"*\"*i)\n",
    "    i+=1;"
   ]
  },
  {
   "cell_type": "code",
   "execution_count": 45,
   "metadata": {},
   "outputs": [
    {
     "name": "stdout",
     "output_type": "stream",
     "text": [
      "         *\n",
      "        **\n",
      "       ***\n",
      "      ****\n",
      "     *****\n",
      "    ******\n",
      "   *******\n",
      "  ********\n",
      " *********\n",
      "**********\n"
     ]
    }
   ],
   "source": [
    "i=1\n",
    "while i<=10:\n",
    "    print(\" \"*(10-i)+\"*\"*i)\n",
    "    i+=1"
   ]
  },
  {
   "cell_type": "code",
   "execution_count": 29,
   "metadata": {},
   "outputs": [
    {
     "name": "stdout",
     "output_type": "stream",
     "text": [
      "         * \n",
      "        * * \n",
      "       * * * \n",
      "      * * * * \n",
      "     * * * * * \n",
      "    * * * * * * \n",
      "   * * * * * * * \n",
      "  * * * * * * * * \n",
      " * * * * * * * * * \n",
      "* * * * * * * * * * \n"
     ]
    }
   ],
   "source": [
    "i=1\n",
    "while i<=10:\n",
    "    print(\" \"*(10-i)+\"* \"*i)\n",
    "    i+=1;"
   ]
  },
  {
   "cell_type": "code",
   "execution_count": 48,
   "metadata": {},
   "outputs": [
    {
     "name": "stdout",
     "output_type": "stream",
     "text": [
      "* * * * * * * * * \n",
      "* * * * * * * * \n",
      "* * * * * * * \n",
      "* * * * * * \n",
      "* * * * * \n",
      "* * * * \n",
      "* * * \n",
      "* * \n",
      "* \n",
      "\n"
     ]
    }
   ],
   "source": [
    "i=1\n",
    "while i<=10:\n",
    "    print(\"* \"*(10-i))\n",
    "    i+=1;"
   ]
  },
  {
   "cell_type": "code",
   "execution_count": 53,
   "metadata": {},
   "outputs": [
    {
     "name": "stdout",
     "output_type": "stream",
     "text": [
      " * * * * * * * * * \n",
      "  * * * * * * * * \n",
      "   * * * * * * * \n",
      "    * * * * * * \n",
      "     * * * * * \n",
      "      * * * * \n",
      "       * * * \n",
      "        * * \n",
      "         * \n",
      "          \n"
     ]
    }
   ],
   "source": [
    "i=1\n",
    "while i<=10:\n",
    "    print(\" \"*i+\"* \"*(10-i))\n",
    "    i+=1;"
   ]
  },
  {
   "cell_type": "code",
   "execution_count": 66,
   "metadata": {},
   "outputs": [
    {
     "name": "stdout",
     "output_type": "stream",
     "text": [
      "         *\n",
      "        ***\n",
      "       *****\n",
      "      *******\n",
      "     *********\n",
      "    ***********\n",
      "   *************\n",
      "  ***************\n",
      " *****************\n",
      "*******************\n"
     ]
    }
   ],
   "source": [
    "i=1\n",
    "while i<=10:\n",
    "    print(\" \"*(10-i)+\"*\"*(2*i-1))\n",
    "    i+=1;"
   ]
  },
  {
   "cell_type": "code",
   "execution_count": 113,
   "metadata": {},
   "outputs": [
    {
     "name": "stdout",
     "output_type": "stream",
     "text": [
      "*******************\n",
      " *****************\n",
      "  ***************\n",
      "   *************\n",
      "    ***********\n",
      "     *********\n",
      "      *******\n",
      "       *****\n",
      "        ***\n",
      "         *\n",
      "          \n"
     ]
    }
   ],
   "source": [
    "i=0\n",
    "while i<=10:\n",
    "    print(\" \"*(i)+\"*\"*(2*(10-i)-1))\n",
    "    i+=1"
   ]
  },
  {
   "cell_type": "markdown",
   "metadata": {},
   "source": [
    "pattern using nested while loop"
   ]
  },
  {
   "cell_type": "code",
   "execution_count": 146,
   "metadata": {},
   "outputs": [
    {
     "name": "stdout",
     "output_type": "stream",
     "text": [
      "* \n",
      "* * \n",
      "* * * \n",
      "* * * * \n",
      "* * * * * \n"
     ]
    }
   ],
   "source": [
    "i=0\n",
    "while i<5:\n",
    "    j=0\n",
    "    while j<=i:\n",
    "        print(\"*\",end=\" \")\n",
    "        j+=1;\n",
    "    print()                  # by default backslash \\n\n",
    "    i+=1;\n"
   ]
  },
  {
   "cell_type": "code",
   "execution_count": 178,
   "metadata": {},
   "outputs": [
    {
     "name": "stdout",
     "output_type": "stream",
     "text": [
      "* * * * * \n",
      "* * * * \n",
      "* * * \n",
      "* * \n",
      "* \n"
     ]
    }
   ],
   "source": [
    "i=0\n",
    "while i<5:\n",
    "    j=5\n",
    "    while j>i:\n",
    "        print(\"*\",end=\" \")\n",
    "        j-=1;\n",
    "    print()                  # by default backslash \\n\n",
    "    i+=1;"
   ]
  },
  {
   "cell_type": "code",
   "execution_count": 191,
   "metadata": {},
   "outputs": [
    {
     "name": "stdout",
     "output_type": "stream",
     "text": [
      "* \n",
      "* * \n",
      "* * * \n",
      "* * * * \n",
      "* * * * * \n"
     ]
    }
   ],
   "source": [
    "i=0\n",
    "while i<5:\n",
    "    j=0\n",
    "    while j<=i:\n",
    "        print(\"*\",end=\" \")\n",
    "        j+=1;\n",
    "    print()                  # by default backslash \\n\n",
    "    i+=1;"
   ]
  },
  {
   "cell_type": "code",
   "execution_count": 6,
   "metadata": {},
   "outputs": [
    {
     "name": "stdout",
     "output_type": "stream",
     "text": [
      "-8 Negative.\n"
     ]
    }
   ],
   "source": [
    "n=int(input(\"Enter no.\"))\n",
    "if n>0:\n",
    "    print(f\"{n} Positive no.\")\n",
    "    if n%2==0:\n",
    "        print((\" {} Number is odd\").format(n))\n",
    "    else:\n",
    "        print(F\"{n} Number is even\")\n",
    "else:\n",
    "    print((\"{} Negative.\").format(n))"
   ]
  },
  {
   "cell_type": "code",
   "execution_count": 17,
   "metadata": {},
   "outputs": [
    {
     "name": "stdout",
     "output_type": "stream",
     "text": [
      "This food is not Good\n"
     ]
    }
   ],
   "source": [
    "# String Formatting.\n",
    "a='T93@$#his fo))od i3324s n$$ot G324ood'\n",
    "import re\n",
    "print(re.sub(\"[^A-z ]\",\"\",a))"
   ]
  },
  {
   "cell_type": "code",
   "execution_count": 27,
   "metadata": {},
   "outputs": [
    {
     "name": "stdout",
     "output_type": "stream",
     "text": [
      "2000\n"
     ]
    }
   ],
   "source": [
    "unit=int(input(\"Enter Unit\"))\n",
    "if unit<=100:\n",
    "    amt=0\n",
    "    print(\"Charge -\",amt)\n",
    "elif unit>100 and unit <=200:\n",
    "    amt=(unit-100)*5\n",
    "    print(amt)\n",
    "elif unit>200:\n",
    "    amt=500+(unit-200)*10\n",
    "    print(amt)"
   ]
  },
  {
   "cell_type": "code",
   "execution_count": null,
   "metadata": {},
   "outputs": [],
   "source": [
    "price=int(input(\"Enter bike price\"))\n",
    "if price>100000:\n",
    "    tax=15/100*price\n",
    "    print(tax)\n",
    "elif price>50000 and price<=100000:\n",
    "    tax=10/100*price\n",
    "    print(tax)\n",
    "elif price<=50000:\n",
    "    tax=5/100*price\n",
    "    print(tax)"
   ]
  }
 ],
 "metadata": {
  "kernelspec": {
   "display_name": "Python 3",
   "language": "python",
   "name": "python3"
  },
  "language_info": {
   "codemirror_mode": {
    "name": "ipython",
    "version": 3
   },
   "file_extension": ".py",
   "mimetype": "text/x-python",
   "name": "python",
   "nbconvert_exporter": "python",
   "pygments_lexer": "ipython3",
   "version": "3.11.4"
  },
  "orig_nbformat": 4
 },
 "nbformat": 4,
 "nbformat_minor": 2
}
