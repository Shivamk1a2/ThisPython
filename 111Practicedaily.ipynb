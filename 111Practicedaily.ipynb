{
 "cells": [
  {
   "cell_type": "markdown",
   "metadata": {},
   "source": [
    "* Casting in python\n",
    "1. Casting is a process to convert one datatype to another data type."
   ]
  },
  {
   "cell_type": "markdown",
   "metadata": {},
   "source": [
    "1. Conversion of integer datatype to float datatype."
   ]
  },
  {
   "cell_type": "code",
   "execution_count": 9,
   "metadata": {},
   "outputs": [
    {
     "name": "stdout",
     "output_type": "stream",
     "text": [
      "12\n",
      "<class 'int'>\n",
      "12.0\n",
      "<class 'float'>\n"
     ]
    }
   ],
   "source": [
    "a=12\n",
    "print(a)\n",
    "print(type(a))\n",
    "b=float(a)   #conversion of integer datatype to float datatype.\n",
    "print(b)\n",
    "print(type(b))"
   ]
  },
  {
   "cell_type": "markdown",
   "metadata": {},
   "source": [
    "Conversion of integer to string\n"
   ]
  },
  {
   "cell_type": "code",
   "execution_count": 12,
   "metadata": {},
   "outputs": [
    {
     "name": "stdout",
     "output_type": "stream",
     "text": [
      "15\n",
      "<class 'int'>\n",
      "15\n",
      "<class 'str'>\n"
     ]
    },
    {
     "data": {
      "text/plain": [
       "'15'"
      ]
     },
     "execution_count": 12,
     "metadata": {},
     "output_type": "execute_result"
    }
   ],
   "source": [
    "a=15\n",
    "print(a)\n",
    "print(type(a))\n",
    "b=str(a)   # conversion of integer to string.\n",
    "print(b)\n",
    "print(type(b))\n",
    "b"
   ]
  },
  {
   "cell_type": "markdown",
   "metadata": {},
   "source": [
    "Conversion of float to integer or str\n"
   ]
  },
  {
   "cell_type": "code",
   "execution_count": 17,
   "metadata": {},
   "outputs": [
    {
     "name": "stdout",
     "output_type": "stream",
     "text": [
      "20.25 <class 'float'>\n",
      "20 <class 'int'>\n",
      "20.25 <class 'str'>\n"
     ]
    },
    {
     "data": {
      "text/plain": [
       "'20.25'"
      ]
     },
     "execution_count": 17,
     "metadata": {},
     "output_type": "execute_result"
    }
   ],
   "source": [
    "a=20.25\n",
    "print(a,type(a))\n",
    "b=int(a)         #conversion of float to integer.\n",
    "print(b, type(b))\n",
    "c=str(a)         #conversion of float to string.\n",
    "print(c, type(c))\n",
    "c"
   ]
  },
  {
   "cell_type": "markdown",
   "metadata": {},
   "source": [
    "Conversion of string to integer or float\n"
   ]
  },
  {
   "cell_type": "code",
   "execution_count": 22,
   "metadata": {},
   "outputs": [
    {
     "name": "stdout",
     "output_type": "stream",
     "text": [
      "100 <class 'str'>\n",
      "100 <class 'int'>\n",
      "100.0 <class 'float'>\n"
     ]
    }
   ],
   "source": [
    "a=\"100\"\n",
    "print(a,type(a))\n",
    "b=int(a)\n",
    "print(b,type(b))\n",
    "c=float(a)\n",
    "print(c,type(c))"
   ]
  },
  {
   "cell_type": "code",
   "execution_count": 29,
   "metadata": {},
   "outputs": [
    {
     "name": "stdout",
     "output_type": "stream",
     "text": [
      "12.23 <class 'str'>\n",
      "12.23 <class 'float'>\n",
      "12 <class 'int'>\n"
     ]
    }
   ],
   "source": [
    "j=\"12.23\"\n",
    "print(j,type(j))\n",
    "i=float(j)   # first of all you can do conversion of string to float.\n",
    "print(i,type(i))\n",
    "k=int(i)     # and than conversion of flaot to integer.\n",
    "print(k,type(k))"
   ]
  },
  {
   "cell_type": "code",
   "execution_count": 32,
   "metadata": {},
   "outputs": [
    {
     "name": "stdout",
     "output_type": "stream",
     "text": [
      "12.23 <class 'str'>\n",
      "12 <class 'int'>\n"
     ]
    }
   ],
   "source": [
    "#easy way to conversion of string to integer.\n",
    "a=\"12.23\"\n",
    "print(a,type(a))\n",
    "b=int(float(a))\n",
    "print(b,type(b))"
   ]
  },
  {
   "cell_type": "markdown",
   "metadata": {},
   "source": [
    " eval() : eval() function is use for conversion fo string to float and int (both)"
   ]
  },
  {
   "cell_type": "code",
   "execution_count": 33,
   "metadata": {},
   "outputs": [
    {
     "name": "stdout",
     "output_type": "stream",
     "text": [
      "23.24 <class 'float'>\n"
     ]
    }
   ],
   "source": [
    "z=\"23.24\"\n",
    "n=eval(z)\n",
    "print(n,type(n))"
   ]
  },
  {
   "cell_type": "code",
   "execution_count": 36,
   "metadata": {},
   "outputs": [
    {
     "name": "stdout",
     "output_type": "stream",
     "text": [
      "123 <class 'int'>\n"
     ]
    }
   ],
   "source": [
    "y=\"123\"\n",
    "n=eval(y)\n",
    "print(n,type(n))"
   ]
  },
  {
   "cell_type": "code",
   "execution_count": 19,
   "metadata": {},
   "outputs": [
    {
     "name": "stdout",
     "output_type": "stream",
     "text": [
      "krishna  -  2984656792304\n",
      "KRISHNA  -  2984662148592\n"
     ]
    }
   ],
   "source": [
    "a=\"krishna\"\n",
    "print(a,\" - \",id(a))\n",
    "b=a.upper()\n",
    "print(b,\" - \",id(b))\n",
    "#It is immutable.\n"
   ]
  },
  {
   "cell_type": "code",
   "execution_count": 1,
   "metadata": {},
   "outputs": [
    {
     "name": "stdout",
     "output_type": "stream",
     "text": [
      "{}\n"
     ]
    }
   ],
   "source": [
    "a=dict()\n",
    "print(a)"
   ]
  },
  {
   "cell_type": "code",
   "execution_count": 2,
   "metadata": {},
   "outputs": [
    {
     "name": "stdout",
     "output_type": "stream",
     "text": [
      "{}\n"
     ]
    }
   ],
   "source": [
    "a={}\n",
    "print(a)"
   ]
  },
  {
   "cell_type": "code",
   "execution_count": 7,
   "metadata": {},
   "outputs": [
    {
     "name": "stdout",
     "output_type": "stream",
     "text": [
      "{'a': 1, 'b': 3, 'd': 4}\n"
     ]
    }
   ],
   "source": [
    "dict1 = {'a': 1, 'b': 2}\n",
    "dict2 = {'b': 3, 'd': 4}\n",
    "dict1.update(dict2)\n",
    "print(dict1)"
   ]
  },
  {
   "cell_type": "markdown",
   "metadata": {},
   "source": [
    "# Operator in Python"
   ]
  },
  {
   "cell_type": "markdown",
   "metadata": {},
   "source": [
    "* Identity Operator"
   ]
  },
  {
   "cell_type": "code",
   "execution_count": 7,
   "metadata": {},
   "outputs": [
    {
     "name": "stderr",
     "output_type": "stream",
     "text": [
      "<>:1: SyntaxWarning: \"is\" with a literal. Did you mean \"==\"?\n",
      "<>:1: SyntaxWarning: \"is\" with a literal. Did you mean \"==\"?\n",
      "C:\\Users\\hp\\AppData\\Local\\Temp\\ipykernel_11140\\3157939510.py:1: SyntaxWarning: \"is\" with a literal. Did you mean \"==\"?\n",
      "  'python' is 'python'\n"
     ]
    },
    {
     "data": {
      "text/plain": [
       "True"
      ]
     },
     "execution_count": 7,
     "metadata": {},
     "output_type": "execute_result"
    }
   ],
   "source": [
    "'python' is 'python'\n"
   ]
  },
  {
   "cell_type": "code",
   "execution_count": 16,
   "metadata": {},
   "outputs": [
    {
     "name": "stdout",
     "output_type": "stream",
     "text": [
      "True\n"
     ]
    }
   ],
   "source": [
    "print('python'=='python')"
   ]
  },
  {
   "cell_type": "code",
   "execution_count": 10,
   "metadata": {},
   "outputs": [
    {
     "name": "stderr",
     "output_type": "stream",
     "text": [
      "<>:1: SyntaxWarning: \"is not\" with a literal. Did you mean \"!=\"?\n",
      "<>:1: SyntaxWarning: \"is not\" with a literal. Did you mean \"!=\"?\n",
      "C:\\Users\\hp\\AppData\\Local\\Temp\\ipykernel_11140\\4009678808.py:1: SyntaxWarning: \"is not\" with a literal. Did you mean \"!=\"?\n",
      "  10 is not 10\n"
     ]
    },
    {
     "data": {
      "text/plain": [
       "False"
      ]
     },
     "execution_count": 10,
     "metadata": {},
     "output_type": "execute_result"
    }
   ],
   "source": [
    "10 is not 10\n"
   ]
  },
  {
   "cell_type": "code",
   "execution_count": 15,
   "metadata": {},
   "outputs": [
    {
     "name": "stdout",
     "output_type": "stream",
     "text": [
      "True\n",
      "False\n"
     ]
    }
   ],
   "source": [
    "print('python'!='java')\n",
    "print('python'!='python')"
   ]
  },
  {
   "cell_type": "markdown",
   "metadata": {},
   "source": [
    "* Membership Operator ( in , not in)"
   ]
  },
  {
   "cell_type": "code",
   "execution_count": 18,
   "metadata": {},
   "outputs": [
    {
     "data": {
      "text/plain": [
       "True"
      ]
     },
     "execution_count": 18,
     "metadata": {},
     "output_type": "execute_result"
    }
   ],
   "source": [
    "'python' in 'python is funny language.'"
   ]
  },
  {
   "cell_type": "code",
   "execution_count": 20,
   "metadata": {},
   "outputs": [
    {
     "data": {
      "text/plain": [
       "False"
      ]
     },
     "execution_count": 20,
     "metadata": {},
     "output_type": "execute_result"
    }
   ],
   "source": [
    "'python' in 'Python is funny language.'"
   ]
  },
  {
   "cell_type": "code",
   "execution_count": 21,
   "metadata": {},
   "outputs": [
    {
     "data": {
      "text/plain": [
       "True"
      ]
     },
     "execution_count": 21,
     "metadata": {},
     "output_type": "execute_result"
    }
   ],
   "source": [
    "'python' not in 'Python is funny language.'\n"
   ]
  },
  {
   "cell_type": "markdown",
   "metadata": {},
   "source": [
    "* Conditional Operator "
   ]
  },
  {
   "cell_type": "code",
   "execution_count": 6,
   "metadata": {},
   "outputs": [
    {
     "name": "stdout",
     "output_type": "stream",
     "text": [
      "24\n"
     ]
    }
   ],
   "source": [
    "num1=eval(input(\"Enter your first number\"))\n",
    "num2=eval(input(\"Enter your second number\"))\n",
    "option=input(\"Choose operator to perform operation.\")\n",
    "if option=='+':\n",
    "    print(num1+num2)\n",
    "elif option=='-':\n",
    "    print(num1-num2)\n",
    "elif option=='*':\n",
    "    print(num1*num2)\n",
    "elif option=='/':\n",
    "    print(num1/num2)\n",
    "else:\n",
    "    print(\"kindly choose operator.\")\n"
   ]
  },
  {
   "cell_type": "code",
   "execution_count": 20,
   "metadata": {},
   "outputs": [
    {
     "name": "stdout",
     "output_type": "stream",
     "text": [
      " a is postive number. \n"
     ]
    }
   ],
   "source": [
    "a=eval(input(\"Enter number: \"))\n",
    "if a>0:\n",
    "    print(\" a is postive number. \")\n",
    "else:\n",
    "    print(\"a is negative number\")"
   ]
  },
  {
   "cell_type": "code",
   "execution_count": 19,
   "metadata": {},
   "outputs": [
    {
     "name": "stdout",
     "output_type": "stream",
     "text": [
      "numbers is odd\n"
     ]
    }
   ],
   "source": [
    "num=int(input(\"Enter Your number: \"))\n",
    "if num%2==0:\n",
    "    print(\"numbers is odd\")\n",
    "else:\n",
    "    print(\"numbers is even\")"
   ]
  },
  {
   "cell_type": "code",
   "execution_count": 25,
   "metadata": {},
   "outputs": [
    {
     "name": "stdout",
     "output_type": "stream",
     "text": [
      "number is negative\n"
     ]
    }
   ],
   "source": [
    "a=int(input(\"Enter your num.\"))\n",
    "if a>=0:\n",
    "    print(\"number is positve.\")\n",
    "    if a%2==0:\n",
    "        print(\"number is odd.\")\n",
    "    else:\n",
    "        print(\"numbers is even\")\n",
    "else:\n",
    "    print(\"number is negative\")"
   ]
  },
  {
   "cell_type": "code",
   "execution_count": 8,
   "metadata": {},
   "outputs": [
    {
     "name": "stdout",
     "output_type": "stream",
     "text": [
      "simple calculator using python.\n",
      "Enter First Number :  2\n",
      "Enter Second Number :  23\n",
      "Please Choose a Correct operator to Calculate..\n"
     ]
    }
   ],
   "source": [
    "print(\"simple calculator using python.\")\n",
    "a=eval(input(\"Enter First Number\"))\n",
    "b=eval(input(\"Enter Second Number\"))\n",
    "print(\"Enter First Number : \",a)\n",
    "print(\"Enter Second Number : \",b)\n",
    "option=input(\"Choose Operator :- (+,-,*,/,//,%,**)\")\n",
    "if option=='+':\n",
    "    print(\"Calculate = \",a+b)\n",
    "elif option=='-':\n",
    "    print(\"Calculate = \",a-b)\n",
    "elif option=='*':\n",
    "    print(\"Calculate = \",a*b)\n",
    "elif option=='/':\n",
    "    print(\"Calculate = \",a/b)\n",
    "elif option=='%':\n",
    "    print(\"Calculate = \",a%b)\n",
    "elif option=='//':\n",
    "    print(\"Calculate = \",a//b)\n",
    "elif option=='**':\n",
    "    print(\"Calculate = \",a**b)\n",
    "else:\n",
    "    print(\"Please Choose a Correct operator to Calculate..\")"
   ]
  },
  {
   "cell_type": "code",
   "execution_count": 9,
   "metadata": {},
   "outputs": [
    {
     "name": "stdout",
     "output_type": "stream",
     "text": [
      "[1, 2, 3, 4, [2, 3, 4, [54, 76, 56, 65], 5, 32, 2], 43, 4, 65, 3, 53]\n"
     ]
    }
   ],
   "source": [
    "#list\n",
    "list=[1,2,3,4,[2,3,4,[54,76,56,65],5,32,2],43,4,65,3,53] #list support nested list\n",
    "print(list)"
   ]
  },
  {
   "cell_type": "code",
   "execution_count": 10,
   "metadata": {},
   "outputs": [
    {
     "name": "stdout",
     "output_type": "stream",
     "text": [
      "(1, 2, 3, 4, (2, 3, 4, (54, 76, 56, 65), 5, 32, 2), 43, 4, 65, 3, 53)\n"
     ]
    }
   ],
   "source": [
    "#tuple\n",
    "tuple=(1,2,3,4,(2,3,4,(54,76,56,65),5,32,2),43,4,65,3,53) #ltuple support nested tuple\n",
    "print(tuple)"
   ]
  },
  {
   "cell_type": "code",
   "execution_count": 11,
   "metadata": {},
   "outputs": [
    {
     "ename": "TypeError",
     "evalue": "unhashable type: 'set'",
     "output_type": "error",
     "traceback": [
      "\u001b[1;31m---------------------------------------------------------------------------\u001b[0m",
      "\u001b[1;31mTypeError\u001b[0m                                 Traceback (most recent call last)",
      "Cell \u001b[1;32mIn[11], line 2\u001b[0m\n\u001b[0;32m      1\u001b[0m \u001b[39m#set\u001b[39;00m\n\u001b[1;32m----> 2\u001b[0m \u001b[39mset\u001b[39m\u001b[39m=\u001b[39m{\u001b[39m1\u001b[39m,\u001b[39m2\u001b[39m,\u001b[39m3\u001b[39m,\u001b[39m4\u001b[39m,{\u001b[39m2\u001b[39m,\u001b[39m3\u001b[39m,\u001b[39m4\u001b[39m,{\u001b[39m54\u001b[39m,\u001b[39m76\u001b[39m,\u001b[39m56\u001b[39m,\u001b[39m65\u001b[39m},\u001b[39m5\u001b[39m,\u001b[39m32\u001b[39m,\u001b[39m2\u001b[39m},\u001b[39m43\u001b[39m,\u001b[39m4\u001b[39m,\u001b[39m65\u001b[39m,\u001b[39m3\u001b[39m,\u001b[39m53\u001b[39m}\n\u001b[0;32m      3\u001b[0m \u001b[39mprint\u001b[39m(\u001b[39mset\u001b[39m)\n",
      "\u001b[1;31mTypeError\u001b[0m: unhashable type: 'set'"
     ]
    }
   ],
   "source": [
    "#set\n",
    "set={1,2,3,4,{2,3,4,{54,76,56,65},5,32,2},43,4,65,3,53} # set does not support nesting.\n",
    "print(set)"
   ]
  },
  {
   "cell_type": "code",
   "execution_count": 13,
   "metadata": {},
   "outputs": [
    {
     "ename": "TypeError",
     "evalue": "unhashable type: 'set'",
     "output_type": "error",
     "traceback": [
      "\u001b[1;31m---------------------------------------------------------------------------\u001b[0m",
      "\u001b[1;31mTypeError\u001b[0m                                 Traceback (most recent call last)",
      "Cell \u001b[1;32mIn[13], line 2\u001b[0m\n\u001b[0;32m      1\u001b[0m \u001b[39m#frozenset\u001b[39;00m\n\u001b[1;32m----> 2\u001b[0m \u001b[39mfrozenset\u001b[39m\u001b[39m=\u001b[39m({\u001b[39m1\u001b[39m,\u001b[39m2\u001b[39m,\u001b[39m3\u001b[39m,\u001b[39m4\u001b[39m,{\u001b[39m2\u001b[39m,\u001b[39m3\u001b[39m,\u001b[39m4\u001b[39m,{\u001b[39m54\u001b[39m,\u001b[39m76\u001b[39m,\u001b[39m56\u001b[39m,\u001b[39m65\u001b[39m},\u001b[39m5\u001b[39m,\u001b[39m32\u001b[39m,\u001b[39m2\u001b[39m},\u001b[39m43\u001b[39m,\u001b[39m4\u001b[39m,\u001b[39m65\u001b[39m,\u001b[39m3\u001b[39m,\u001b[39m53\u001b[39m})\n\u001b[0;32m      3\u001b[0m \u001b[39mprint\u001b[39m(\u001b[39mfrozenset\u001b[39m)\n",
      "\u001b[1;31mTypeError\u001b[0m: unhashable type: 'set'"
     ]
    }
   ],
   "source": [
    "#frozenset\n",
    "frozenset=({1,2,3,4,{2,3,4,{54,76,56,65},5,32,2},43,4,65,3,53}) #frozenset does not support nesting.\n",
    "print(frozenset)"
   ]
  },
  {
   "cell_type": "markdown",
   "metadata": {},
   "source": [
    "* pratice condtiontios (if, if else, if elif, if elif else, nested if else, nested if elif else)"
   ]
  },
  {
   "cell_type": "code",
   "execution_count": 5,
   "metadata": {},
   "outputs": [
    {
     "name": "stdout",
     "output_type": "stream",
     "text": [
      "Thi2343242s i$@#$@#s Shi243432va&$%m\n",
      "This is Shivam\n"
     ]
    }
   ],
   "source": [
    "a=\"Thi2343242s i$@#$@#s Shi243432va&$%m\"\n",
    "print(a)\n",
    "import re\n",
    "print(re.sub(\"[^A-z ]\",\"\",a))"
   ]
  },
  {
   "cell_type": "code",
   "execution_count": 19,
   "metadata": {},
   "outputs": [
    {
     "name": "stdout",
     "output_type": "stream",
     "text": [
      "432 is greater.\n"
     ]
    }
   ],
   "source": [
    "a=int(input(\"Enter First num.\"))\n",
    "b=int(input(\"Enter second num.\"))\n",
    "c=int(input(\"Enter third num.\"))\n",
    "if a>b:\n",
    "    if a>c:\n",
    "        print(f\"{a} is greater.\")\n",
    "    else:\n",
    "        print(f\"{c} is greater.\")\n",
    "elif b>c:\n",
    "    print(f\"{b} is greater.\")\n",
    "else:\n",
    "    print(f\"{c} is greater.\")"
   ]
  }
 ],
 "metadata": {
  "kernelspec": {
   "display_name": "Python 3",
   "language": "python",
   "name": "python3"
  },
  "language_info": {
   "codemirror_mode": {
    "name": "ipython",
    "version": 3
   },
   "file_extension": ".py",
   "mimetype": "text/x-python",
   "name": "python",
   "nbconvert_exporter": "python",
   "pygments_lexer": "ipython3",
   "version": "3.11.4"
  },
  "orig_nbformat": 4
 },
 "nbformat": 4,
 "nbformat_minor": 2
}
