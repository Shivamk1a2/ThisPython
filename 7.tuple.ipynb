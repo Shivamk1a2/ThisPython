{
 "cells": [
  {
   "cell_type": "markdown",
   "metadata": {},
   "source": [
    "# Tuple Datatype.\n",
    "> Tuples are used to store multiple items in a single variable. A tuple is a collection which is ordered and unchangeable. Tuples are written with round brackets.\n",
    "1. tuple constructor is tuple().\n",
    "2. tuple literal is ( ).\n",
    "3. tuple is unmmutable (unchangeble).\n",
    "4. tuple is a set of sequenece of elements.\n",
    "5. tuple support indexing.\n",
    "6. tuple support slicing.\n",
    "7. tuple support nested tuple.\n",
    "8. tuple is faster then list.\n",
    "9. tuple has two methods index() and count().\n",
    "\n"
   ]
  },
  {
   "cell_type": "markdown",
   "metadata": {},
   "source": [
    "* tuples are created using brackets ( )"
   ]
  },
  {
   "cell_type": "code",
   "execution_count": 1,
   "metadata": {},
   "outputs": [
    {
     "name": "stdout",
     "output_type": "stream",
     "text": [
      "(12, 'krishna', 12.32, [33, 'rav', 44], (4, 6, 8, 9))\n",
      "<class 'tuple'>\n"
     ]
    }
   ],
   "source": [
    "tup=(12,'krishna',12.32,[33,'rav',44],(4,6,8,9))\n",
    "print(tup)\n",
    "print(type(tup))"
   ]
  },
  {
   "cell_type": "markdown",
   "metadata": {},
   "source": [
    "* How to create empty tuple datatype?\n",
    "1. Using constructor is tuple().\n",
    "2. Using literal is ( ).\n"
   ]
  },
  {
   "cell_type": "code",
   "execution_count": 2,
   "metadata": {},
   "outputs": [
    {
     "name": "stdout",
     "output_type": "stream",
     "text": [
      "()\n",
      "<class 'tuple'>\n"
     ]
    }
   ],
   "source": [
    "# Using Constructior, I created a empty tuple datatype.\n",
    "a=tuple()\n",
    "print(a)\n",
    "print(type(a))"
   ]
  },
  {
   "cell_type": "code",
   "execution_count": 3,
   "metadata": {},
   "outputs": [
    {
     "name": "stdout",
     "output_type": "stream",
     "text": [
      "()\n",
      "<class 'tuple'>\n"
     ]
    }
   ],
   "source": [
    "# Using Literal, I created a empty tuple datatype.\n",
    "b=()\n",
    "print(b)\n",
    "print(tuple)"
   ]
  },
  {
   "cell_type": "markdown",
   "metadata": {},
   "source": [
    "* tuple is a set of sequence of elements."
   ]
  },
  {
   "cell_type": "code",
   "execution_count": 5,
   "metadata": {},
   "outputs": [],
   "source": [
    "tupple=(12,45.4,\"String\",[\"list\",12,2.5],('list',6,9))\n",
    "#Sequene :- (int,float,str,list,tup)"
   ]
  },
  {
   "cell_type": "markdown",
   "metadata": {},
   "source": [
    "* tuple support indexing.\n"
   ]
  },
  {
   "cell_type": "code",
   "execution_count": 12,
   "metadata": {},
   "outputs": [
    {
     "name": "stdout",
     "output_type": "stream",
     "text": [
      "(1, 2, 3, 4, 5, [6, 7, 8], (9, 10))\n",
      "1\n",
      "2\n",
      "3\n",
      "4\n",
      "5\n",
      "[6, 7, 8]\n",
      "(9, 10)\n",
      "1\n",
      "[6, 7, 8]\n",
      "3\n",
      "4\n",
      "5\n",
      "2\n",
      "(9, 10)\n"
     ]
    }
   ],
   "source": [
    "a=(1,2,3,4,5,[6,7,8],(9,10))\n",
    "print(a)\n",
    "# negative indexing.\n",
    "print(a[0])\n",
    "print(a[1])\n",
    "print(a[2])\n",
    "print(a[3])\n",
    "print(a[4])\n",
    "print(a[5])\n",
    "print(a[6])\n",
    "# positive indexing.\n",
    "print(a[-7])\n",
    "print(a[-2])\n",
    "print(a[-5])\n",
    "print(a[-4])\n",
    "print(a[-3])\n",
    "print(a[-6])\n",
    "print(a[-1])\n"
   ]
  },
  {
   "cell_type": "markdown",
   "metadata": {},
   "source": [
    "* tuple support slicing with (nested tuple)."
   ]
  },
  {
   "cell_type": "code",
   "execution_count": 25,
   "metadata": {},
   "outputs": [
    {
     "name": "stdout",
     "output_type": "stream",
     "text": [
      "(1, 2, 4, (5, 43, 6, 23, [12, 98, (33, 108, 7, 27), 78, 64], 45, 34, 21), 8, 76, 45)\n",
      "tuple slicing:-\n",
      "(4, (5, 43, 6, 23, [12, 98, (33, 108, 7, 27), 78, 64], 45, 34, 21), 8)\n",
      "(2, 4, (5, 43, 6, 23, [12, 98, (33, 108, 7, 27), 78, 64], 45, 34, 21), 8, 76)\n",
      "(2, 4, (5, 43, 6, 23, [12, 98, (33, 108, 7, 27), 78, 64], 45, 34, 21), 8)\n",
      "6\n",
      "78\n",
      "108\n"
     ]
    }
   ],
   "source": [
    "Tup=(1,2,4,(5,43,6,23,[12,98,(33,108,7,27),78,64],45,34,21),8,76,45)\n",
    "print(Tup)\n",
    "print(\"tuple slicing:-\")\n",
    "print(Tup[2:5:1])\n",
    "print(Tup[-6:-1:1])\n",
    "print(Tup[-6:-2:1])\n",
    "print(Tup[3][2])\n",
    "print(Tup[3][4][3])\n",
    "print(Tup[3][4][2][1])"
   ]
  },
  {
   "cell_type": "markdown",
   "metadata": {},
   "source": [
    "* tuple has two methods index() and count()."
   ]
  },
  {
   "cell_type": "code",
   "execution_count": 28,
   "metadata": {},
   "outputs": [
    {
     "data": {
      "text/plain": [
       "5"
      ]
     },
     "execution_count": 28,
     "metadata": {},
     "output_type": "execute_result"
    }
   ],
   "source": [
    "# tuple index() methods\n",
    "tup=(23,4,3,34,5,96,7,89)\n",
    "tup.index(96) # return index"
   ]
  },
  {
   "cell_type": "code",
   "execution_count": 32,
   "metadata": {},
   "outputs": [
    {
     "data": {
      "text/plain": [
       "5"
      ]
     },
     "execution_count": 32,
     "metadata": {},
     "output_type": "execute_result"
    }
   ],
   "source": [
    "# tuple count() methods\n",
    "tup=(1,2,4,5,4,3,7,4,8,4,10,4)\n",
    "tup.count(4)"
   ]
  },
  {
   "cell_type": "markdown",
   "metadata": {},
   "source": [
    "* Note :- usecases in tuple\n",
    "1. Packing.\n",
    "2. Unpacking.\n"
   ]
  },
  {
   "cell_type": "code",
   "execution_count": 35,
   "metadata": {},
   "outputs": [
    {
     "name": "stdout",
     "output_type": "stream",
     "text": [
      "(1, 2, 3, 4, 5)\n"
     ]
    }
   ],
   "source": [
    "# by default converting into tuple.\n",
    "a=1,2,3,4,5\n",
    "print(a)"
   ]
  },
  {
   "cell_type": "code",
   "execution_count": 40,
   "metadata": {},
   "outputs": [
    {
     "name": "stdout",
     "output_type": "stream",
     "text": [
      "9\n",
      "8\n",
      "7\n",
      "6\n",
      "5\n"
     ]
    }
   ],
   "source": [
    "# Upacking :-\n",
    "# When we create a tuple, we normally assign values to it. This is called \"packing\" a tuple:\n",
    "b=(9,8,7,6,5)\n",
    "j,k,l,m,n=b\n",
    "print(j)\n",
    "print(k)\n",
    "print(l)\n",
    "print(m)\n",
    "print(n)"
   ]
  },
  {
   "cell_type": "code",
   "execution_count": 1,
   "metadata": {},
   "outputs": [
    {
     "name": "stdout",
     "output_type": "stream",
     "text": [
      "1\n",
      "2\n",
      "3\n",
      "4\n",
      "[5, 6, 7, 8]\n"
     ]
    }
   ],
   "source": [
    "# If the number of variables is less than the number of values, you can add an * to the variable name and the values will be assigned to the variable as a list:\n",
    "a,b,c,d,*e,=(1,2,3,4,5,6,7,8)\n",
    "print(a)\n",
    "print(b)\n",
    "print(c)\n",
    "print(d)\n",
    "print(e) # but retrun list.(using astrick.)\n"
   ]
  },
  {
   "cell_type": "code",
   "execution_count": 51,
   "metadata": {},
   "outputs": [
    {
     "name": "stdout",
     "output_type": "stream",
     "text": [
      "21\n",
      "32\n",
      "[53, 64, 75, 34]\n",
      "64\n",
      "55\n"
     ]
    }
   ],
   "source": [
    "j,k,*l,m,n=(21,32,53,64,75,34,64,55)\n",
    "print(j)\n",
    "print(k)\n",
    "print(l)  # but return list.\n",
    "print(m)\n",
    "print(n)"
   ]
  }
 ],
 "metadata": {
  "kernelspec": {
   "display_name": "Python 3",
   "language": "python",
   "name": "python3"
  },
  "language_info": {
   "codemirror_mode": {
    "name": "ipython",
    "version": 3
   },
   "file_extension": ".py",
   "mimetype": "text/x-python",
   "name": "python",
   "nbconvert_exporter": "python",
   "pygments_lexer": "ipython3",
   "version": "3.11.4"
  },
  "orig_nbformat": 4
 },
 "nbformat": 4,
 "nbformat_minor": 2
}
