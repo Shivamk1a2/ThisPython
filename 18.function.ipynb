{
 "cells": [
  {
   "cell_type": "markdown",
   "metadata": {},
   "source": [
    "# Fucntion in python\n",
    "> A function is a block of code which only runs when it is called.\n",
    "> you can pass data , known as parameter , into a functions. a functions can returns data as a result."
   ]
  },
  {
   "cell_type": "markdown",
   "metadata": {},
   "source": [
    "# Function\n",
    "1. Def Function (def) :-\n",
    "      \n",
    "      1. Local variable\n",
    "      \n",
    "      2. Global variable\n",
    "      \n",
    "      3. Return Function\n",
    "      \n",
    "      4. Arguments :-\n",
    "            1. Positional Argument\n",
    "            2. Default Argument (keyvalue arguments)\n",
    "            3. Keyword Argument\n",
    "            4. Arbitrary Positional Arguments\n",
    "            5. Arbitrary Keyword Arguments\n",
    ">\n",
    "2. Lambda ( anonymous function, (<=)Fat arrow function )\n",
    "\n",
    "3. Decoder (nested function)\n",
    "\n",
    "4. Generator\n"
   ]
  },
  {
   "cell_type": "markdown",
   "metadata": {},
   "source": [
    "> *  In python function is defined using the \" def \" keyword\n",
    "> * Return :- A return statement consists of the return keyword followed by an optional return value"
   ]
  },
  {
   "cell_type": "markdown",
   "metadata": {},
   "source": [
    "* Local variables :-\n",
    " >> >> >> Those variables which are given inside the function. those are called local variables."
   ]
  },
  {
   "cell_type": "code",
   "execution_count": 101,
   "metadata": {},
   "outputs": [
    {
     "name": "stdout",
     "output_type": "stream",
     "text": [
      "30\n"
     ]
    },
    {
     "ename": "NameError",
     "evalue": "name 'x' is not defined",
     "output_type": "error",
     "traceback": [
      "\u001b[1;31m---------------------------------------------------------------------------\u001b[0m",
      "\u001b[1;31mNameError\u001b[0m                                 Traceback (most recent call last)",
      "Cell \u001b[1;32mIn[101], line 7\u001b[0m\n\u001b[0;32m      4\u001b[0m     \u001b[39mprint\u001b[39m(x\u001b[39m+\u001b[39my)\n\u001b[0;32m      5\u001b[0m local()\n\u001b[1;32m----> 7\u001b[0m \u001b[39mprint\u001b[39m(x)\n",
      "\u001b[1;31mNameError\u001b[0m: name 'x' is not defined"
     ]
    }
   ],
   "source": [
    "def local():\n",
    "    x=10\n",
    "    y=20\n",
    "    print(x+y)\n",
    "local()\n",
    "\n",
    "print(x)  # It is local variable becouse this variable inside the function."
   ]
  },
  {
   "cell_type": "markdown",
   "metadata": {},
   "source": [
    "* Global variable :- \n",
    " >> >> >> Those variables which are given outside the function. those are called globel variable."
   ]
  },
  {
   "cell_type": "code",
   "execution_count": 106,
   "metadata": {},
   "outputs": [
    {
     "name": "stdout",
     "output_type": "stream",
     "text": [
      "60\n",
      "Global variable a : 25\n",
      "Global variable b : 35\n"
     ]
    }
   ],
   "source": [
    "a=25\n",
    "b=35\n",
    "def add():\n",
    "    print(a+b)\n",
    "\n",
    "add()\n",
    "print(\"Global variable a :\",a)\n",
    "print(\"Global variable b :\",b)"
   ]
  },
  {
   "cell_type": "markdown",
   "metadata": {},
   "source": [
    "* If you want to create global variable inside the function then you can use global keyword inside the local variable function."
   ]
  },
  {
   "cell_type": "code",
   "execution_count": 112,
   "metadata": {},
   "outputs": [
    {
     "name": "stdout",
     "output_type": "stream",
     "text": [
      "Shivam Kashyap\n",
      "Global variable inside the function : Shivam \n"
     ]
    }
   ],
   "source": [
    "def name():\n",
    "    global first_name\n",
    "    first_name='Shivam '\n",
    "    last_name='Kashyap'\n",
    "    print(first_name+last_name)\n",
    "    \n",
    "name()\n",
    "print(\"Global variable inside the function :\",first_name)"
   ]
  },
  {
   "cell_type": "markdown",
   "metadata": {},
   "source": [
    "* Return Function :-\n",
    ">> >> >> A return statement is used to end the execution of the function call and “returns” the result to the caller. "
   ]
  },
  {
   "cell_type": "code",
   "execution_count": 118,
   "metadata": {},
   "outputs": [
    {
     "name": "stdout",
     "output_type": "stream",
     "text": [
      "Python is a populor programming language.\n"
     ]
    }
   ],
   "source": [
    "def retrn():\n",
    "    return \"Python is a populor programming language.\"\n",
    "\n",
    "a=retrn()\n",
    "print(a)"
   ]
  },
  {
   "cell_type": "code",
   "execution_count": 120,
   "metadata": {},
   "outputs": [
    {
     "name": "stdout",
     "output_type": "stream",
     "text": [
      "30\n"
     ]
    }
   ],
   "source": [
    "def add(a,b):\n",
    "    return a+b\n",
    "\n",
    "sum=add(10,20)\n",
    "print(sum)"
   ]
  },
  {
   "cell_type": "markdown",
   "metadata": {},
   "source": [
    "* Arguments :-\n",
    ">> >> >> An argument is the value that are sent to the function when it is called.\n",
    "1. Positional Arguments :"
   ]
  },
  {
   "cell_type": "code",
   "execution_count": 126,
   "metadata": {},
   "outputs": [
    {
     "name": "stdout",
     "output_type": "stream",
     "text": [
      "I am Shivam and I am from Delhi.\n"
     ]
    }
   ],
   "source": [
    "# Positional Arguments with print function.\n",
    "def myfun(name,city):\n",
    "    print(f\"I am {name} and I am from {city}.\")\n",
    "\n",
    "myfun('Shivam','Delhi')"
   ]
  },
  {
   "cell_type": "code",
   "execution_count": 137,
   "metadata": {},
   "outputs": [
    {
     "name": "stdout",
     "output_type": "stream",
     "text": [
      "I am Shivam and I am from Delhi and I am doing Bsc Hons IT from Kurukshetra University.\n"
     ]
    }
   ],
   "source": [
    "# Positional Arguments with return function.\n",
    "def myfun1(name,city,course,uni):\n",
    "    return \"I am {} and I am from {} and I am doing {} from {}\".format(name,city,course,uni)\n",
    "\n",
    "text=myfun1('Shivam','Delhi','Bsc Hons IT','Kurukshetra University.')\n",
    "print(text)"
   ]
  },
  {
   "cell_type": "markdown",
   "metadata": {},
   "source": [
    "* Default (keyvalue) Arguments :"
   ]
  },
  {
   "cell_type": "code",
   "execution_count": 133,
   "metadata": {},
   "outputs": [
    {
     "name": "stdout",
     "output_type": "stream",
     "text": [
      "30\n"
     ]
    }
   ],
   "source": [
    "# Default argument with print function.\n",
    "def add(a=10,b=20):\n",
    "    print(a+b)\n",
    "\n",
    "add()"
   ]
  },
  {
   "cell_type": "code",
   "execution_count": 136,
   "metadata": {},
   "outputs": [
    {
     "name": "stdout",
     "output_type": "stream",
     "text": [
      "The sum of value :  40\n"
     ]
    }
   ],
   "source": [
    "# Default argument with print function.\n",
    "def add1(a=10,b=30):\n",
    "    return a+b\n",
    "\n",
    "sum=add1()\n",
    "print('The sum of value : ',sum)"
   ]
  },
  {
   "cell_type": "code",
   "execution_count": 147,
   "metadata": {},
   "outputs": [
    {
     "name": "stdout",
     "output_type": "stream",
     "text": [
      "*\n",
      "**\n",
      "***\n",
      "****\n",
      "*****\n"
     ]
    }
   ],
   "source": [
    "# Default Arguments\n",
    "def pattern(a=1,n=5,b=1):\n",
    "    for i in range(a,n+1,b):\n",
    "        print(\"*\"*i)\n",
    "\n",
    "pattern()"
   ]
  },
  {
   "cell_type": "markdown",
   "metadata": {},
   "source": [
    "* Keyword Arguments :"
   ]
  },
  {
   "cell_type": "code",
   "execution_count": 154,
   "metadata": {},
   "outputs": [
    {
     "name": "stdout",
     "output_type": "stream",
     "text": [
      "I am Shivam Kashyap\n"
     ]
    }
   ],
   "source": [
    "# Keyword Arguments with print function.\n",
    "def fullname(firstName,lastName):\n",
    "    print(f'I am {firstName}{lastName}')\n",
    "    \n",
    "fullname(firstName='Shivam ',lastName='Kashyap')"
   ]
  },
  {
   "cell_type": "code",
   "execution_count": 157,
   "metadata": {},
   "outputs": [
    {
     "name": "stdout",
     "output_type": "stream",
     "text": [
      "The sum of values are :  80\n"
     ]
    }
   ],
   "source": [
    "# Keyword Arguments with return function.\n",
    "def addition(a,b,c,d):\n",
    "    return a+b+c+d\n",
    "\n",
    "sum=addition(a=10,b=20,c=30,d=20)\n",
    "print(\"The sum of values are : \",sum)"
   ]
  },
  {
   "cell_type": "markdown",
   "metadata": {},
   "source": [
    "* Arbitrary Positional Arguments :"
   ]
  },
  {
   "cell_type": "code",
   "execution_count": 178,
   "metadata": {},
   "outputs": [
    {
     "name": "stdout",
     "output_type": "stream",
     "text": [
      "15\n"
     ]
    }
   ],
   "source": [
    "# Arbitrary positional arguments with print function.\n",
    "def sum(*n):\n",
    "    b=0\n",
    "    for i in n:\n",
    "        b=b+i\n",
    "    print(b)\n",
    "\n",
    "sum(1,2,3,4,5)"
   ]
  },
  {
   "cell_type": "code",
   "execution_count": 176,
   "metadata": {},
   "outputs": [
    {
     "name": "stdout",
     "output_type": "stream",
     "text": [
      "120\n"
     ]
    }
   ],
   "source": [
    "# Arbitrary positional arguments with return function.\n",
    "def multiply(*n):\n",
    "    m=1\n",
    "    for i in n:\n",
    "        m=m*i\n",
    "    return m\n",
    " \n",
    "a=multiply(1,2,3,4,5)\n",
    "print(a)"
   ]
  },
  {
   "cell_type": "markdown",
   "metadata": {},
   "source": [
    "* Arbitrary Keyword Arguments :"
   ]
  },
  {
   "cell_type": "code",
   "execution_count": 186,
   "metadata": {},
   "outputs": [
    {
     "name": "stdout",
     "output_type": "stream",
     "text": [
      "{'name': 'Shivam', 'age': 23, 'weight': 55}\n"
     ]
    }
   ],
   "source": [
    "# Arbitrary Keyword Arguments with print function.\n",
    "def items(**n):\n",
    "    print(n)\n",
    "\n",
    "items(name='Shivam',age= 23,weight=55)"
   ]
  },
  {
   "cell_type": "code",
   "execution_count": 187,
   "metadata": {},
   "outputs": [
    {
     "data": {
      "text/plain": [
       "{'name': 'Parmendar', 'age': 30, 'weight': 80}"
      ]
     },
     "execution_count": 187,
     "metadata": {},
     "output_type": "execute_result"
    }
   ],
   "source": [
    "# Arbitrary Keyword Arguments with print function.\n",
    "def items1(**n):\n",
    "    return n\n",
    "items1(name='Parmendar',age=30,weight=80)"
   ]
  },
  {
   "cell_type": "code",
   "execution_count": 193,
   "metadata": {},
   "outputs": [
    {
     "name": "stdout",
     "output_type": "stream",
     "text": [
      "Vishal\n",
      "25\n",
      "56\n"
     ]
    }
   ],
   "source": [
    "# Arbitrary Keyword Arguments.\n",
    "def main(**n):\n",
    "    for i in n.values():\n",
    "        print(i)\n",
    "\n",
    "main(name='Vishal',age=25,weight=56)"
   ]
  },
  {
   "cell_type": "code",
   "execution_count": 195,
   "metadata": {},
   "outputs": [
    {
     "name": "stdout",
     "output_type": "stream",
     "text": [
      "name\n",
      "age\n",
      "weight\n"
     ]
    }
   ],
   "source": [
    "# Arbitrary Keyword Arguments.\n",
    "def main1(**n):\n",
    "    for i in n.keys():\n",
    "        print(i)\n",
    "\n",
    "main1(name='Rahul',age=25,weight=58)"
   ]
  },
  {
   "cell_type": "code",
   "execution_count": 196,
   "metadata": {},
   "outputs": [
    {
     "name": "stdout",
     "output_type": "stream",
     "text": [
      "('name', 'Rahul')\n",
      "('age', 25)\n",
      "('weight', 58)\n"
     ]
    }
   ],
   "source": [
    "# Arbitrary Keyword Arguments.\n",
    "def main1(**n):\n",
    "    for i in n.items():\n",
    "        print(i)\n",
    "\n",
    "main1(name='Rahul',age=25,weight=58)"
   ]
  }
 ],
 "metadata": {
  "kernelspec": {
   "display_name": "Python 3",
   "language": "python",
   "name": "python3"
  },
  "language_info": {
   "codemirror_mode": {
    "name": "ipython",
    "version": 3
   },
   "file_extension": ".py",
   "mimetype": "text/x-python",
   "name": "python",
   "nbconvert_exporter": "python",
   "pygments_lexer": "ipython3",
   "version": "3.11.4"
  },
  "orig_nbformat": 4
 },
 "nbformat": 4,
 "nbformat_minor": 2
}
