{
 "cells": [
  {
   "cell_type": "markdown",
   "metadata": {},
   "source": [
    "# Frozenset datatype\n",
    "> Frozenset is an immutable datatype. It is similar to set. but once created its element cannot be changed, added, or removed.\n",
    "Frozenset are written with curly brackets.\n"
   ]
  },
  {
   "cell_type": "markdown",
   "metadata": {},
   "source": [
    "1. Frozenset constructor is frozenset()\n",
    "2. Frozenset iterable is also not available.\n",
    "3. Frozenset is unordered set of sequence of elements.\n",
    "4. Frozenset does not allowed dublicate value.\n",
    "5. Frozenset does not allowed mutables datatype.\n",
    "6. Frozenset is a immutable datatype.\n",
    "7. Frozenset have various methods.\n"
   ]
  },
  {
   "cell_type": "markdown",
   "metadata": {},
   "source": [
    "* How to create frozenset?\n",
    "> The frozenset( ) is an inbuilt function in python that takes an iterable objects as an arguments and makes them immutable.\n"
   ]
  },
  {
   "cell_type": "code",
   "execution_count": 2,
   "metadata": {},
   "outputs": [
    {
     "name": "stdout",
     "output_type": "stream",
     "text": [
      "frozenset({1, 2, 3, 4, 5, 6, 7, 8, 'python'})\n"
     ]
    }
   ],
   "source": [
    "# Arguments(list,set,tuple)\n",
    "a=frozenset([1,2,3,4,'python',5,6,7,8])\n",
    "print(a)"
   ]
  },
  {
   "cell_type": "markdown",
   "metadata": {},
   "source": [
    "* Create empty frozenset "
   ]
  },
  {
   "cell_type": "code",
   "execution_count": 3,
   "metadata": {},
   "outputs": [
    {
     "name": "stdout",
     "output_type": "stream",
     "text": [
      "frozenset()\n"
     ]
    }
   ],
   "source": [
    "b=frozenset() # empty frozenset using constructor.\n",
    "print(b)"
   ]
  },
  {
   "cell_type": "markdown",
   "metadata": {},
   "source": [
    "> frozenset literal is also not available."
   ]
  },
  {
   "cell_type": "markdown",
   "metadata": {},
   "source": [
    "* frozenset is unordered set of sequence of element.\n"
   ]
  },
  {
   "cell_type": "code",
   "execution_count": 5,
   "metadata": {},
   "outputs": [
    {
     "name": "stdout",
     "output_type": "stream",
     "text": [
      "frozenset({1, 2, 3, 4, 5, 6, 'unordered'})\n"
     ]
    }
   ],
   "source": [
    "c=frozenset({1,2,3,4,'unordered',5,6})\n",
    "print(c)"
   ]
  },
  {
   "cell_type": "markdown",
   "metadata": {},
   "source": [
    "* frozenset does not allowed dublicate value.\n"
   ]
  },
  {
   "cell_type": "code",
   "execution_count": 7,
   "metadata": {},
   "outputs": [
    {
     "name": "stdout",
     "output_type": "stream",
     "text": [
      "frozenset({1, 2, 3, 4, 5, 6, 7, 8, 9})\n"
     ]
    }
   ],
   "source": [
    "a=frozenset((1,1,1,2,2,3,3,4,4,5,5,6,7,8,9)) # remove dublicate value.\n",
    "print(a)"
   ]
  },
  {
   "cell_type": "markdown",
   "metadata": {},
   "source": [
    "* frozenset does not allowed mutable datatype.( like : List , set )\n"
   ]
  },
  {
   "cell_type": "code",
   "execution_count": 9,
   "metadata": {},
   "outputs": [
    {
     "ename": "TypeError",
     "evalue": "unhashable type: 'set'",
     "output_type": "error",
     "traceback": [
      "\u001b[1;31m---------------------------------------------------------------------------\u001b[0m",
      "\u001b[1;31mTypeError\u001b[0m                                 Traceback (most recent call last)",
      "Cell \u001b[1;32mIn[9], line 1\u001b[0m\n\u001b[1;32m----> 1\u001b[0m m\u001b[39m=\u001b[39m\u001b[39mfrozenset\u001b[39m({\u001b[39m1\u001b[39m,\u001b[39m23\u001b[39m,\u001b[39m23\u001b[39m,\u001b[39m4\u001b[39m,\u001b[39m5\u001b[39m,{\u001b[39m6\u001b[39m,\u001b[39m7\u001b[39m,\u001b[39m8\u001b[39m,\u001b[39m9\u001b[39m},\u001b[39m21\u001b[39m,\u001b[39m56\u001b[39m,\u001b[39m7\u001b[39m,\u001b[39m34\u001b[39m})\n\u001b[0;32m      2\u001b[0m \u001b[39mprint\u001b[39m(m)\n",
      "\u001b[1;31mTypeError\u001b[0m: unhashable type: 'set'"
     ]
    }
   ],
   "source": [
    "m=frozenset({1,23,23,4,5,{6,7,8,9},21,56,7,34})\n",
    "print(m) # bcz does not support mutable."
   ]
  },
  {
   "cell_type": "code",
   "execution_count": 12,
   "metadata": {},
   "outputs": [
    {
     "ename": "TypeError",
     "evalue": "unhashable type: 'list'",
     "output_type": "error",
     "traceback": [
      "\u001b[1;31m---------------------------------------------------------------------------\u001b[0m",
      "\u001b[1;31mTypeError\u001b[0m                                 Traceback (most recent call last)",
      "Cell \u001b[1;32mIn[12], line 1\u001b[0m\n\u001b[1;32m----> 1\u001b[0m n\u001b[39m=\u001b[39m\u001b[39mfrozenset\u001b[39;49m([\u001b[39m1\u001b[39;49m,\u001b[39m23\u001b[39;49m,\u001b[39m23\u001b[39;49m,\u001b[39m4\u001b[39;49m,\u001b[39m5\u001b[39;49m,[\u001b[39m6\u001b[39;49m,\u001b[39m7\u001b[39;49m,\u001b[39m8\u001b[39;49m,\u001b[39m9\u001b[39;49m],\u001b[39m21\u001b[39;49m,\u001b[39m56\u001b[39;49m,\u001b[39m7\u001b[39;49m,\u001b[39m34\u001b[39;49m])\n\u001b[0;32m      2\u001b[0m \u001b[39mprint\u001b[39m(n)  \u001b[39m# bcz does not support mutable.\u001b[39;00m\n",
      "\u001b[1;31mTypeError\u001b[0m: unhashable type: 'list'"
     ]
    }
   ],
   "source": [
    "n=frozenset([1,23,23,4,5,[6,7,8,9],21,56,7,34])\n",
    "print(n)  # bcz does not support mutable."
   ]
  },
  {
   "cell_type": "markdown",
   "metadata": {},
   "source": [
    "* Frozenset Methods."
   ]
  },
  {
   "cell_type": "code",
   "execution_count": 17,
   "metadata": {},
   "outputs": [
    {
     "name": "stdout",
     "output_type": "stream",
     "text": [
      "a :  frozenset({1, 2, 3, 4, 5})\n",
      "b :  frozenset({4, 5, 6, 7, 8})\n",
      "c :  frozenset({1, 2, 3})  - difference method\n"
     ]
    }
   ],
   "source": [
    "# differene() methods\n",
    "a=frozenset([1,2,3,4,5])\n",
    "b=frozenset({4,5,6,7,8})\n",
    "c=a.difference(b)\n",
    "print(\"a : \",a)\n",
    "print(\"b : \",b)\n",
    "print(\"c : \",c,\" - difference method\")"
   ]
  },
  {
   "cell_type": "code",
   "execution_count": 19,
   "metadata": {},
   "outputs": [
    {
     "name": "stdout",
     "output_type": "stream",
     "text": [
      "a :  frozenset({1, 2, 3, 4, 5})\n",
      "b :  frozenset({3, 4, 5, 7, 8})\n",
      "c :  frozenset({1, 2, 7, 8})  - symmetric_difference method\n"
     ]
    }
   ],
   "source": [
    "# symmetric_difference() methods\n",
    "a=frozenset([1,2,3,4,5])\n",
    "b=frozenset({4,5,3,7,8})\n",
    "c=a.symmetric_difference(b)\n",
    "print(\"a : \",a)\n",
    "print(\"b : \",b)\n",
    "print(\"c : \",c,\" - symmetric_difference method\")"
   ]
  },
  {
   "cell_type": "code",
   "execution_count": 21,
   "metadata": {},
   "outputs": [
    {
     "name": "stdout",
     "output_type": "stream",
     "text": [
      "a :  frozenset({1, 2, 3, 4, 5})\n",
      "b :  frozenset({3, 4, 5, 7, 8})\n",
      "c :  frozenset({3, 4, 5})  - intersection method\n"
     ]
    }
   ],
   "source": [
    "# intersections() methods\n",
    "a=frozenset([1,2,3,4,5])\n",
    "b=frozenset({4,5,3,7,8})\n",
    "c=a.intersection(b)\n",
    "print(\"a : \",a)\n",
    "print(\"b : \",b)\n",
    "print(\"c : \",c,\" - intersection method\")"
   ]
  },
  {
   "cell_type": "code",
   "execution_count": 22,
   "metadata": {},
   "outputs": [
    {
     "name": "stdout",
     "output_type": "stream",
     "text": [
      "a :  frozenset({1, 2, 3, 4, 5})\n",
      "b :  frozenset({4, 5, 6, 7, 8})\n",
      "c :  frozenset({1, 2, 3, 4, 5, 6, 7, 8})  - union method\n"
     ]
    }
   ],
   "source": [
    "# union() methods\n",
    "a=frozenset([1,2,3,4,5])\n",
    "b=frozenset({4,5,6,7,8})\n",
    "c=a.union(b)\n",
    "print(\"a : \",a)\n",
    "print(\"b : \",b)\n",
    "print(\"c : \",c,\" - union method\")"
   ]
  },
  {
   "cell_type": "code",
   "execution_count": 23,
   "metadata": {},
   "outputs": [
    {
     "name": "stdout",
     "output_type": "stream",
     "text": [
      "a :  frozenset({1, 2, 3, 4, 5})\n",
      "b :  frozenset({4, 5, 6, 7, 8})\n",
      "c :  False  - isdisjoint method\n"
     ]
    }
   ],
   "source": [
    "# isdisjoint() methods\n",
    "a=frozenset([1,2,3,4,5])\n",
    "b=frozenset({4,5,6,7,8})\n",
    "c=a.isdisjoint(b)\n",
    "print(\"a : \",a)\n",
    "print(\"b : \",b)\n",
    "print(\"c : \",c,\" - isdisjoint method\")"
   ]
  },
  {
   "cell_type": "code",
   "execution_count": 14,
   "metadata": {},
   "outputs": [
    {
     "name": "stdout",
     "output_type": "stream",
     "text": [
      "a :  frozenset({'Anurag', 'Ravi'})\n",
      "b :  frozenset({'Vishal', 'Anurag', 'Ravi', 'Neha'})\n",
      "c :  True  -  issubset method\n",
      "-------------------------------------------------------\n",
      "a :  frozenset({'Anurag', 'Ravi', 'Shivam'})\n",
      "b :  frozenset({'Vishal', 'Anurag', 'Ravi', 'Neha'})\n",
      "c :  False  -  issubset method\n"
     ]
    }
   ],
   "source": [
    "# issubset()\n",
    "a=frozenset(['Ravi','Anurag'])\n",
    "b=frozenset({'Ravi','Anurag','Neha','Vishal'})\n",
    "c=a.issubset(b)\n",
    "print(\"a : \",a)\n",
    "print(\"b : \",b)\n",
    "print(\"c : \",c,\" -  issubset method\")\n",
    "\n",
    "print(\"-------------------------------------------------------\")\n",
    "\n",
    "a=frozenset(['Ravi','Anurag','Shivam'])\n",
    "b=frozenset({'Ravi','Anurag','Neha','Vishal'})\n",
    "c=a.issubset(b)\n",
    "print(\"a : \",a)\n",
    "print(\"b : \",b)\n",
    "print(\"c : \",c,\" -  issubset method\")"
   ]
  },
  {
   "cell_type": "code",
   "execution_count": 19,
   "metadata": {},
   "outputs": [
    {
     "name": "stdout",
     "output_type": "stream",
     "text": [
      "a :  frozenset({'Rahul', 'Anurag', 'Ravi'})\n",
      "b :  frozenset({'Anurag', 'Ravi'})\n",
      "c :  True  -  issubset method\n",
      "---------------------------------------------\n",
      "a :  frozenset({'Rahul', 'Anurag', 'Ravi'})\n",
      "b :  frozenset({'Vishal', 'Anurag', 'Ravi'})\n",
      "c :  False  -  issubset method\n"
     ]
    }
   ],
   "source": [
    "# issuperset()\n",
    "a=frozenset(['Ravi','Anurag','Rahul'])\n",
    "b=frozenset({'Ravi','Anurag'})\n",
    "c=a.issuperset(b)\n",
    "print(\"a : \",a)\n",
    "print(\"b : \",b)\n",
    "print(\"c : \",c,\" -  issubset method\")\n",
    "\n",
    "print(\"---------------------------------------------\")\n",
    "\n",
    "a=frozenset(['Ravi','Anurag','Rahul'])\n",
    "b=frozenset({'Ravi','Anurag','Vishal'})\n",
    "c=a.issuperset(b)\n",
    "print(\"a : \",a)\n",
    "print(\"b : \",b)\n",
    "print(\"c : \",c,\" -  issubset method\")"
   ]
  }
 ],
 "metadata": {
  "kernelspec": {
   "display_name": "Python 3",
   "language": "python",
   "name": "python3"
  },
  "language_info": {
   "codemirror_mode": {
    "name": "ipython",
    "version": 3
   },
   "file_extension": ".py",
   "mimetype": "text/x-python",
   "name": "python",
   "nbconvert_exporter": "python",
   "pygments_lexer": "ipython3",
   "version": "3.11.4"
  },
  "orig_nbformat": 4
 },
 "nbformat": 4,
 "nbformat_minor": 2
}
