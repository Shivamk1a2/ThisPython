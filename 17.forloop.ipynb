{
 "cells": [
  {
   "cell_type": "markdown",
   "metadata": {},
   "source": [
    "# For loops in python :\n",
    "> A for loop is used for iterating over sequence like list , tuple , dictionary , set or string."
   ]
  },
  {
   "cell_type": "markdown",
   "metadata": {},
   "source": [
    "* Range() function in for loop\n",
    "> It is used to generate a squence of numbers. we can also specify the start ,stop and step-size as follows\n",
    "> range(start,stop,steping)"
   ]
  },
  {
   "cell_type": "markdown",
   "metadata": {},
   "source": [
    "* For Loops\n",
    "> 1. Single for loops\n",
    "> 2. Nested for loops\n",
    "> 3. Pattern using single for loop\n",
    "> 4. Pattern using nested for loop\n",
    "> 5. Range(start,stop,steping)\n",
    "> 6. Continue\n",
    "> 7. Break\n",
    "> 8. Pass\n",
    "> 9. Program using for loops\n",
    "> 10. Comprehension\n"
   ]
  },
  {
   "cell_type": "markdown",
   "metadata": {},
   "source": [
    "1. List Comprehension\n",
    "2. Set Comprehension\n",
    "3. Frozenset Comprehension\n",
    "4. Dictionary Comprehension\n",
    "5. Tuple Comprehension( Generator object : to get the value of genrator object we use next() , __next__(). )"
   ]
  },
  {
   "cell_type": "markdown",
   "metadata": {},
   "source": [
    "* single for loop"
   ]
  },
  {
   "cell_type": "code",
   "execution_count": null,
   "metadata": {},
   "outputs": [],
   "source": []
  },
  {
   "cell_type": "code",
   "execution_count": 98,
   "metadata": {},
   "outputs": [
    {
     "name": "stdout",
     "output_type": "stream",
     "text": [
      "Shivam Kashyap"
     ]
    }
   ],
   "source": [
    "# for loop using strings\n",
    "a='Shivam Kashyap'\n",
    "for i in a:\n",
    "    print(i,end=\"\")"
   ]
  },
  {
   "cell_type": "code",
   "execution_count": 99,
   "metadata": {},
   "outputs": [
    {
     "name": "stdout",
     "output_type": "stream",
     "text": [
      "1\n",
      "2\n",
      "3\n",
      "4\n",
      "5\n"
     ]
    }
   ],
   "source": [
    "# for loop using list\n",
    "a=[1,2,3,4,5]\n",
    "for i in a:\n",
    "    print(i)"
   ]
  },
  {
   "cell_type": "code",
   "execution_count": 100,
   "metadata": {},
   "outputs": [
    {
     "name": "stdout",
     "output_type": "stream",
     "text": [
      "1\n",
      "2\n",
      "3\n",
      "4\n",
      "5\n"
     ]
    }
   ],
   "source": [
    "# for loop using set\n",
    "s={1,2,3,4,5}\n",
    "for i in s:\n",
    "    print(i)"
   ]
  },
  {
   "cell_type": "code",
   "execution_count": 101,
   "metadata": {},
   "outputs": [
    {
     "name": "stdout",
     "output_type": "stream",
     "text": [
      "1\n",
      "2\n",
      "3\n",
      "4\n",
      "5\n"
     ]
    }
   ],
   "source": [
    "#for loop using frozenset\n",
    "fs=frozenset({1,2,3,4,5})\n",
    "for i in fs:\n",
    "    print(i)"
   ]
  },
  {
   "cell_type": "code",
   "execution_count": 102,
   "metadata": {},
   "outputs": [
    {
     "name": "stdout",
     "output_type": "stream",
     "text": [
      "1\n",
      "2\n",
      "3\n",
      "4\n",
      "5\n"
     ]
    }
   ],
   "source": [
    "# for loop using tuple\n",
    "t=(1,2,3,4,5)\n",
    "for i in t:\n",
    "    print(i)"
   ]
  },
  {
   "cell_type": "code",
   "execution_count": 103,
   "metadata": {},
   "outputs": [
    {
     "name": "stdout",
     "output_type": "stream",
     "text": [
      "1 : shivam\n",
      "2 : krishna\n",
      "3 : anurag\n",
      "4 : rajeev\n"
     ]
    }
   ],
   "source": [
    "# for loop using dictionary\n",
    "dict={1:'shivam',2:'krishna',3:'anurag',4:'rajeev'}\n",
    "for i in dict:\n",
    "    print(i,\":\",dict[i])"
   ]
  },
  {
   "cell_type": "code",
   "execution_count": 104,
   "metadata": {},
   "outputs": [
    {
     "name": "stdout",
     "output_type": "stream",
     "text": [
      "1\n",
      "2\n",
      "3\n",
      "4\n",
      "5\n",
      "6\n",
      "7\n",
      "8\n",
      "9\n",
      "10\n"
     ]
    }
   ],
   "source": [
    "# range(star,stop,step)\n",
    "r=range(1,11,1)\n",
    "for i in r:\n",
    "    print(i)"
   ]
  },
  {
   "cell_type": "code",
   "execution_count": 105,
   "metadata": {},
   "outputs": [
    {
     "name": "stdout",
     "output_type": "stream",
     "text": [
      "2\n",
      "4\n",
      "6\n",
      "8\n",
      "10\n"
     ]
    }
   ],
   "source": [
    "r=range(1,11,1)\n",
    "for i in r:\n",
    "    if i==1 or i==3 or i==5 or i==7 or i==9:\n",
    "        continue\n",
    "    print(i)"
   ]
  },
  {
   "cell_type": "code",
   "execution_count": 106,
   "metadata": {},
   "outputs": [
    {
     "name": "stdout",
     "output_type": "stream",
     "text": [
      "1\n",
      "3\n",
      "5\n",
      "7\n",
      "9\n"
     ]
    }
   ],
   "source": [
    "r=range(1,11,1)\n",
    "for i in r:\n",
    "    if i in [2,4,6,8,10]:\n",
    "        continue\n",
    "    print(i)"
   ]
  },
  {
   "cell_type": "code",
   "execution_count": 107,
   "metadata": {},
   "outputs": [
    {
     "name": "stdout",
     "output_type": "stream",
     "text": [
      "1\n",
      "2\n",
      "3\n",
      "4\n",
      "5\n"
     ]
    }
   ],
   "source": [
    "r=range(1,11,1)\n",
    "for i in r:\n",
    "    if i==6:\n",
    "        break\n",
    "    print(i)"
   ]
  },
  {
   "cell_type": "code",
   "execution_count": 108,
   "metadata": {},
   "outputs": [
    {
     "name": "stdout",
     "output_type": "stream",
     "text": [
      "1\n",
      "2\n",
      "3\n",
      "4\n",
      "5\n",
      "6\n"
     ]
    }
   ],
   "source": [
    "r=range(1,11,1)\n",
    "for i in r:\n",
    "    print(i)\n",
    "    if i==6:\n",
    "        break\n",
    "    "
   ]
  },
  {
   "cell_type": "code",
   "execution_count": 109,
   "metadata": {},
   "outputs": [
    {
     "ename": "IndentationError",
     "evalue": "expected an indented block after 'if' statement on line 3 (3783157577.py, line 5)",
     "output_type": "error",
     "traceback": [
      "\u001b[1;36m  Cell \u001b[1;32mIn[109], line 5\u001b[1;36m\u001b[0m\n\u001b[1;33m    else:\u001b[0m\n\u001b[1;37m    ^\u001b[0m\n\u001b[1;31mIndentationError\u001b[0m\u001b[1;31m:\u001b[0m expected an indented block after 'if' statement on line 3\n"
     ]
    }
   ],
   "source": [
    "r=range(1,11,1)\n",
    "for i in r:\n",
    "    if i==6:\n",
    "               # if you don't want to choose any statement then they will be give error.\n",
    "    else:\n",
    "        print(\"Hello\")"
   ]
  },
  {
   "cell_type": "code",
   "execution_count": null,
   "metadata": {},
   "outputs": [
    {
     "name": "stdout",
     "output_type": "stream",
     "text": [
      "1\n",
      "2\n",
      "3\n",
      "4\n",
      "5\n",
      "6\n",
      "7\n",
      "8\n",
      "9\n",
      "10\n"
     ]
    }
   ],
   "source": [
    "r=range(1,11,1)\n",
    "for i in r:\n",
    "    if i==6:\n",
    "        pass  # for this you will use pass function.(by default)\n",
    "    print(i)"
   ]
  },
  {
   "cell_type": "markdown",
   "metadata": {},
   "source": [
    "* Pattern using single for loop"
   ]
  },
  {
   "cell_type": "code",
   "execution_count": null,
   "metadata": {},
   "outputs": [
    {
     "name": "stdout",
     "output_type": "stream",
     "text": [
      "*\n",
      "**\n",
      "***\n",
      "****\n",
      "*****\n"
     ]
    }
   ],
   "source": [
    "for i in range(1,6):\n",
    "    print(\"*\"*i)"
   ]
  },
  {
   "cell_type": "code",
   "execution_count": null,
   "metadata": {},
   "outputs": [
    {
     "name": "stdout",
     "output_type": "stream",
     "text": [
      "*****\n",
      "****\n",
      "***\n",
      "**\n",
      "*\n"
     ]
    }
   ],
   "source": [
    "a=range(1,6)\n",
    "for i in a:\n",
    "    print(\"*\"*(6-i))"
   ]
  },
  {
   "cell_type": "code",
   "execution_count": null,
   "metadata": {},
   "outputs": [
    {
     "name": "stdout",
     "output_type": "stream",
     "text": [
      "     *\n",
      "    **\n",
      "   ***\n",
      "  ****\n",
      " *****\n"
     ]
    }
   ],
   "source": [
    "a=range(1,6)\n",
    "for i in a:\n",
    "    print(\" \"*(6-i)+\"*\"*i)"
   ]
  },
  {
   "cell_type": "code",
   "execution_count": null,
   "metadata": {},
   "outputs": [
    {
     "name": "stdout",
     "output_type": "stream",
     "text": [
      "     *\n",
      "    ***\n",
      "   *****\n",
      "  *******\n",
      " *********\n"
     ]
    }
   ],
   "source": [
    "a=range(1,6)\n",
    "for i in a:\n",
    "    print(\" \"*(6-i)+\"*\"*(2*i-1))"
   ]
  },
  {
   "cell_type": "code",
   "execution_count": null,
   "metadata": {},
   "outputs": [
    {
     "name": "stdout",
     "output_type": "stream",
     "text": [
      " *********\n",
      "  *******\n",
      "   *****\n",
      "    ***\n",
      "     *\n"
     ]
    }
   ],
   "source": [
    "a=range(1,6)\n",
    "for i in a:\n",
    "    print(\" \"*i+\"*\"*(2*(6-i)-1))"
   ]
  },
  {
   "cell_type": "code",
   "execution_count": null,
   "metadata": {},
   "outputs": [
    {
     "name": "stdout",
     "output_type": "stream",
     "text": [
      "     *\n",
      "    ***\n",
      "   *****\n",
      "  *******\n",
      " *********\n",
      "  *******\n",
      "   *****\n",
      "    ***\n",
      "     *\n"
     ]
    }
   ],
   "source": [
    "a=range(1,10)\n",
    "for i in a:\n",
    "    if i<6:\n",
    "        print(\" \"*(6-i)+\"*\"*(2*i-1))\n",
    "    else:\n",
    "        print(\" \"*(i-4)+\"*\"*(2*(10-i)-1))"
   ]
  },
  {
   "cell_type": "code",
   "execution_count": null,
   "metadata": {},
   "outputs": [
    {
     "name": "stdout",
     "output_type": "stream",
     "text": [
      " *********\n",
      "  *******\n",
      "   *****\n",
      "    ***\n",
      "     *\n",
      "    ***\n",
      "   *****\n",
      "  *******\n",
      " *********\n"
     ]
    }
   ],
   "source": [
    "a=range(1,10)\n",
    "for i in a:\n",
    "    if i<6:\n",
    "        print(\" \"*i+\"*\"*(2*(6-i)-1))\n",
    "    else:\n",
    "        print(\" \"*(10-i)+\"*\"*(2*i-9))"
   ]
  },
  {
   "cell_type": "code",
   "execution_count": null,
   "metadata": {},
   "outputs": [
    {
     "name": "stdout",
     "output_type": "stream",
     "text": [
      "*\n",
      "**\n",
      "***\n",
      "**\n",
      "*\n"
     ]
    }
   ],
   "source": [
    "a=range(1,6)\n",
    "for i in a:\n",
    "    if i<4:\n",
    "        print(\"*\"*i)\n",
    "    else:\n",
    "        print(\"*\"*((9-i)-3))"
   ]
  },
  {
   "cell_type": "markdown",
   "metadata": {},
   "source": [
    "* Nested for loop"
   ]
  },
  {
   "cell_type": "code",
   "execution_count": null,
   "metadata": {},
   "outputs": [
    {
     "name": "stdout",
     "output_type": "stream",
     "text": [
      "*\n",
      "**\n",
      "***\n",
      "****\n",
      "*****\n"
     ]
    }
   ],
   "source": [
    "for i in range(1,6):\n",
    "    for j in range(i):\n",
    "        print(\"*\",end=\"\")\n",
    "    print()"
   ]
  },
  {
   "cell_type": "code",
   "execution_count": null,
   "metadata": {},
   "outputs": [
    {
     "name": "stdout",
     "output_type": "stream",
     "text": [
      "*****\n",
      "****\n",
      "***\n",
      "**\n",
      "*\n"
     ]
    }
   ],
   "source": [
    "for i in range(6,1,-1):\n",
    "    for j in range(1,i):\n",
    "        print(\"*\",end=\"\")\n",
    "    print()"
   ]
  },
  {
   "cell_type": "code",
   "execution_count": null,
   "metadata": {},
   "outputs": [
    {
     "name": "stdout",
     "output_type": "stream",
     "text": [
      "*****\n",
      "****\n",
      "***\n",
      "**\n",
      "*\n"
     ]
    }
   ],
   "source": [
    "for i in range(5,0,-1):\n",
    "    for j in range(i):\n",
    "        print(\"*\",end=\"\")\n",
    "    print()"
   ]
  },
  {
   "cell_type": "markdown",
   "metadata": {},
   "source": [
    "Some Program Using For loops"
   ]
  },
  {
   "cell_type": "code",
   "execution_count": null,
   "metadata": {},
   "outputs": [
    {
     "name": "stdout",
     "output_type": "stream",
     "text": [
      "The sum of num 3 is : 6\n"
     ]
    }
   ],
   "source": [
    "n=int(input(\"Enter No.\"))\n",
    "sum=0\n",
    "for i in range(n):\n",
    "    sum=sum+(i+1)\n",
    "print(f\"The sum of num {n} is : {sum}\")"
   ]
  },
  {
   "cell_type": "code",
   "execution_count": null,
   "metadata": {},
   "outputs": [
    {
     "name": "stdout",
     "output_type": "stream",
     "text": [
      "The sum of digit is : 15\n"
     ]
    }
   ],
   "source": [
    "n=int(input(\"Enter no.\"))\n",
    "rem=0\n",
    "sum=0\n",
    "for i in range(n):\n",
    "    rem=n%10\n",
    "    sum=sum+rem\n",
    "    n=int(n/10)\n",
    "print(f\"The sum of digit is : {sum}\")\n"
   ]
  },
  {
   "cell_type": "code",
   "execution_count": null,
   "metadata": {},
   "outputs": [
    {
     "name": "stdout",
     "output_type": "stream",
     "text": [
      "The factorial of 6 is : 720\n"
     ]
    }
   ],
   "source": [
    "n=int(input(\"Enter no.\"))\n",
    "fact=1\n",
    "for i in range(n,1,-1):\n",
    "    fact=fact*i\n",
    "print(F\"The factorial of {n} is : {fact}\")\n"
   ]
  },
  {
   "cell_type": "markdown",
   "metadata": {},
   "source": [
    "# Comprehension\n",
    ">> When a loop is run inside a datatype and that loop is a for loop, then it is called Comprehension."
   ]
  },
  {
   "cell_type": "markdown",
   "metadata": {},
   "source": [
    "* List Comprehension\n",
    "> when a loop is run inside a list datatype and that loop is a for loop, then it is called list comprehension."
   ]
  },
  {
   "cell_type": "code",
   "execution_count": 41,
   "metadata": {},
   "outputs": [
    {
     "name": "stdout",
     "output_type": "stream",
     "text": [
      "list constructor :  []\n",
      "<class 'list'>\n",
      "list literal :  []\n",
      "<class 'list'>\n"
     ]
    }
   ],
   "source": [
    "l=list()\n",
    "print(\"list constructor : \",l)\n",
    "print(type(s))\n",
    "l1=[]\n",
    "print(\"list literal : \",l1) # set does not support literal \n",
    "print(type(l))"
   ]
  },
  {
   "cell_type": "code",
   "execution_count": null,
   "metadata": {},
   "outputs": [
    {
     "name": "stdout",
     "output_type": "stream",
     "text": [
      "[1, 2, 3, 4, 5, 6, 7, 8, 9, 10, 11, 12, 13, 14]\n"
     ]
    }
   ],
   "source": [
    "# using constructor\n",
    "newlist=list()\n",
    "a=range(1,15,1)\n",
    "for i in a:\n",
    "    newlist.append(i)\n",
    "print(newlist)"
   ]
  },
  {
   "cell_type": "code",
   "execution_count": null,
   "metadata": {},
   "outputs": [
    {
     "name": "stdout",
     "output_type": "stream",
     "text": [
      "[1, 2, 3, 4, 5, 6, 7, 8, 9, 10, 11, 12, 13, 14]\n"
     ]
    }
   ],
   "source": [
    "# Comprehension using list constructor\n",
    "b=list([i for i in a]) \n",
    "print(b)"
   ]
  },
  {
   "cell_type": "code",
   "execution_count": null,
   "metadata": {},
   "outputs": [
    {
     "name": "stdout",
     "output_type": "stream",
     "text": [
      "[1, 2, 3, 4, 5, 6, 7, 8, 9, 10, 11, 12, 13, 14]\n"
     ]
    }
   ],
   "source": [
    "print(list([i for i in b]))"
   ]
  },
  {
   "cell_type": "code",
   "execution_count": 136,
   "metadata": {},
   "outputs": [
    {
     "name": "stdout",
     "output_type": "stream",
     "text": [
      "[1, 2, 3, 4, 5, 6, 7, 8, 9, 10]\n"
     ]
    }
   ],
   "source": [
    "# using literal\n",
    "b=[]\n",
    "a=range(1,11,1)\n",
    "for i in a:\n",
    "    b.append(i)\n",
    "print(b)"
   ]
  },
  {
   "cell_type": "code",
   "execution_count": 134,
   "metadata": {},
   "outputs": [
    {
     "name": "stdout",
     "output_type": "stream",
     "text": [
      "[1, 2, 3, 4, 5, 6, 7, 8, 9, 10, 11, 12, 13, 14, 15]\n"
     ]
    }
   ],
   "source": [
    "# Comprehension using literal short methods\n",
    "b=[i for i in a]\n",
    "print(b)"
   ]
  },
  {
   "cell_type": "code",
   "execution_count": 129,
   "metadata": {},
   "outputs": [
    {
     "name": "stdout",
     "output_type": "stream",
     "text": [
      "[1, 2, 3, 4, 5, 6, 7, 8, 9, 10]\n"
     ]
    }
   ],
   "source": [
    "# Comprehension using literal  very short methods\n",
    "print([i for i in a])"
   ]
  },
  {
   "cell_type": "code",
   "execution_count": 8,
   "metadata": {},
   "outputs": [
    {
     "name": "stdout",
     "output_type": "stream",
     "text": [
      "['black', 'orange', 'tan']\n"
     ]
    }
   ],
   "source": [
    "color=[]\n",
    "a=['red','blue','yellow','black','purple','orange','tan']\n",
    "for i in a:\n",
    "    if 'a' in i:\n",
    "        color.append(i)\n",
    "print(color)"
   ]
  },
  {
   "cell_type": "code",
   "execution_count": 10,
   "metadata": {},
   "outputs": [
    {
     "name": "stdout",
     "output_type": "stream",
     "text": [
      "['black', 'orange', 'tan']\n"
     ]
    }
   ],
   "source": [
    "color=[i for i in a if 'a' in i] # short comprehension methods\n",
    "print(color)"
   ]
  },
  {
   "cell_type": "code",
   "execution_count": 15,
   "metadata": {},
   "outputs": [
    {
     "name": "stdout",
     "output_type": "stream",
     "text": [
      "['black', 'orange', 'tan']\n"
     ]
    }
   ],
   "source": [
    "print([i for i in a if 'a' in i]) # comprehension in single line methods"
   ]
  },
  {
   "cell_type": "markdown",
   "metadata": {},
   "source": [
    "* Set Comprehension\n",
    "> When a loop is run inside a set datatype and that loop is for loop, then it is called set comprehension."
   ]
  },
  {
   "cell_type": "code",
   "execution_count": 53,
   "metadata": {},
   "outputs": [
    {
     "name": "stdout",
     "output_type": "stream",
     "text": [
      "set constructor :  set()\n",
      "If the Curlybrackets are empty, then it is a dictionary, if it contains only one element, then it is called a set.\n",
      "set does not support literal :  {}\n",
      "<class 'dict'>\n",
      "<class 'set'>\n"
     ]
    }
   ],
   "source": [
    "b=set()\n",
    "print(\"set constructor : \",b)\n",
    "a={}\n",
    "a1={1,}\n",
    "print(\"If the Curlybrackets are empty, then it is a dictionary, if it contains only one element, then it is called a set.\")\n",
    "print(\"set does not support literal : \",a)\n",
    "print(type(a))\n",
    "print(type(a1))"
   ]
  },
  {
   "cell_type": "code",
   "execution_count": 61,
   "metadata": {},
   "outputs": [
    {
     "name": "stdout",
     "output_type": "stream",
     "text": [
      "{1, 2, 3, 4, 5, 6, 7, 8, 9, 10}\n"
     ]
    }
   ],
   "source": [
    "# comprehension using set constructor \n",
    "n=set()\n",
    "a=range(1,11,1)\n",
    "for i in a:\n",
    "    n.add(i)\n",
    "print(n)"
   ]
  },
  {
   "cell_type": "code",
   "execution_count": 63,
   "metadata": {},
   "outputs": [
    {
     "name": "stdout",
     "output_type": "stream",
     "text": [
      "{1, 2, 3, 4, 5, 6, 7, 8, 9, 10}\n"
     ]
    }
   ],
   "source": [
    "n=set({i for i in a}) # short comprehension\n",
    "print(n)"
   ]
  },
  {
   "cell_type": "code",
   "execution_count": 65,
   "metadata": {},
   "outputs": [
    {
     "name": "stdout",
     "output_type": "stream",
     "text": [
      "{1, 2, 3, 4, 5, 6, 7, 8, 9, 10}\n"
     ]
    }
   ],
   "source": [
    "print(set({i for i in a})) # comprehension in single line"
   ]
  },
  {
   "cell_type": "code",
   "execution_count": 70,
   "metadata": {},
   "outputs": [
    {
     "name": "stdout",
     "output_type": "stream",
     "text": [
      "{1, 3, 5, 7, 9, 11, 13, 15}\n"
     ]
    }
   ],
   "source": [
    "n1=set()\n",
    "a={1,2,3,4,5,6,7,8,9,10,11,12,13,14,15}\n",
    "for i in a:\n",
    "    if i%2==1:\n",
    "        n1.add(i)\n",
    "print(n1)"
   ]
  },
  {
   "cell_type": "code",
   "execution_count": 76,
   "metadata": {},
   "outputs": [
    {
     "name": "stdout",
     "output_type": "stream",
     "text": [
      "{1, 3, 5, 7, 9, 11, 13, 15}\n"
     ]
    }
   ],
   "source": [
    "n1=set({i for i in a if i%2==1})\n",
    "print(n1)"
   ]
  },
  {
   "cell_type": "code",
   "execution_count": 78,
   "metadata": {},
   "outputs": [
    {
     "name": "stdout",
     "output_type": "stream",
     "text": [
      "{1, 3, 5, 7, 9, 11, 13, 15}\n"
     ]
    }
   ],
   "source": [
    "print({i for i in a if i%2==1})"
   ]
  },
  {
   "cell_type": "markdown",
   "metadata": {},
   "source": [
    "* Dictionary Comprehension\n",
    "> When a loop is run inside a Dictionary datatype and that loop is for loop, then it is called Dictionary comprehension."
   ]
  },
  {
   "cell_type": "code",
   "execution_count": 83,
   "metadata": {},
   "outputs": [
    {
     "name": "stdout",
     "output_type": "stream",
     "text": [
      "dict constructor\n",
      "{}\n",
      "dict literal\n",
      "{}\n"
     ]
    }
   ],
   "source": [
    "d=dict() # dict constructor\n",
    "print(\"dict constructor\")\n",
    "print(d)\n",
    "print(\"dict literal\")\n",
    "d1={}\n",
    "print(d1)\n"
   ]
  },
  {
   "cell_type": "code",
   "execution_count": 14,
   "metadata": {},
   "outputs": [
    {
     "name": "stdout",
     "output_type": "stream",
     "text": [
      "{1: 'Shivam', 2: 'Aakash', 3: 'Anurag', 4: 'Anuj', 5: 'Siraj'}\n"
     ]
    }
   ],
   "source": [
    "# Comprehension using constructor\n",
    "newd=dict()\n",
    "a=[1,2,3,4,5]\n",
    "b=['Shivam','Aakash','Anurag','Anuj','Siraj']\n",
    "for i,j in zip(a,b):\n",
    "    newd.update({i:j})\n",
    "print(newd)"
   ]
  },
  {
   "cell_type": "code",
   "execution_count": 17,
   "metadata": {},
   "outputs": [
    {
     "name": "stdout",
     "output_type": "stream",
     "text": [
      "{1: 'Shivam', 2: 'Aakash', 'Anurag': 3, 'Anuj': 4, 'Siraj': 5}\n"
     ]
    }
   ],
   "source": [
    "# Comprehension \n",
    "newd=dict({i,j} for i,j in zip(a,b)) # Short methods\n",
    "print(newd)"
   ]
  },
  {
   "cell_type": "code",
   "execution_count": 19,
   "metadata": {},
   "outputs": [
    {
     "name": "stdout",
     "output_type": "stream",
     "text": [
      "{1: 'Shivam', 2: 'Aakash', 'Anurag': 3, 'Anuj': 4, 'Siraj': 5}\n"
     ]
    }
   ],
   "source": [
    "print(dict({i,j} for i,j in zip(a,b))) # Very Short methods"
   ]
  },
  {
   "cell_type": "code",
   "execution_count": 34,
   "metadata": {},
   "outputs": [
    {
     "name": "stdout",
     "output_type": "stream",
     "text": [
      "{1: 'Delhi', 2: 'Ghaziabad', 3: 'Noida', 4: 'Grugram', 5: 'Banglore'}\n"
     ]
    }
   ],
   "source": [
    "# Using constructor\n",
    "newdict1={}\n",
    "dict1={1:'Delhi',2:'Ghaziabad',3:'Noida',4:'Grugram',5:'Banglore'}\n",
    "for i in dict1:\n",
    "    newdict1.update({i:dict1[i]})\n",
    "print(newdict1)\n"
   ]
  },
  {
   "cell_type": "code",
   "execution_count": 38,
   "metadata": {},
   "outputs": [
    {
     "name": "stdout",
     "output_type": "stream",
     "text": [
      "{1: 'Delhi', 2: 'Ghaziabad', 3: 'Noida', 4: 'Grugram', 5: 'Banglore'}\n"
     ]
    }
   ],
   "source": [
    "# Constructor \n",
    "newdict1={i:dict1[i] for i in dict1} # Short\n",
    "print(newdict1)"
   ]
  },
  {
   "cell_type": "code",
   "execution_count": 39,
   "metadata": {},
   "outputs": [
    {
     "name": "stdout",
     "output_type": "stream",
     "text": [
      "{1: 'Delhi', 2: 'Ghaziabad', 3: 'Noida', 4: 'Grugram', 5: 'Banglore'}\n"
     ]
    }
   ],
   "source": [
    "print({i:dict1[i] for i in dict1})"
   ]
  },
  {
   "cell_type": "markdown",
   "metadata": {},
   "source": [
    "* Frozenset Comprehension\n",
    "> When a loop is run inside a Frozenset datatype and that loop is for loop, then it is called Frozenset comprehension."
   ]
  },
  {
   "cell_type": "code",
   "execution_count": 57,
   "metadata": {},
   "outputs": [
    {
     "name": "stdout",
     "output_type": "stream",
     "text": [
      "frozenset()\n",
      "<class 'frozenset'>\n",
      "{}\n"
     ]
    }
   ],
   "source": [
    "f=frozenset() # Constructor\n",
    "print(f)\n",
    "print(type(f))\n",
    "f1={}         # Frozenset does not support literal\n",
    "print(f1)\n"
   ]
  },
  {
   "cell_type": "code",
   "execution_count": 65,
   "metadata": {},
   "outputs": [
    {
     "name": "stdout",
     "output_type": "stream",
     "text": [
      "frozenset({1, 2, 3, 4, 5, 6, 7, 8, 9, 10})\n"
     ]
    }
   ],
   "source": [
    "b=frozenset()\n",
    "a=frozenset([1,2,3,4,5,6,7,8,9,10])\n",
    "for i in a:\n",
    "    b=b.union({i})\n",
    "print(b)"
   ]
  },
  {
   "cell_type": "code",
   "execution_count": 69,
   "metadata": {},
   "outputs": [
    {
     "name": "stdout",
     "output_type": "stream",
     "text": [
      "frozenset({1, 2, 3, 4, 5, 6, 7, 8, 9, 10})\n"
     ]
    }
   ],
   "source": [
    "# Comprehension\n",
    "b=frozenset(i for i in a) # Short\n",
    "print(b)"
   ]
  },
  {
   "cell_type": "code",
   "execution_count": 68,
   "metadata": {},
   "outputs": [
    {
     "name": "stdout",
     "output_type": "stream",
     "text": [
      "frozenset({1, 2, 3, 4, 5, 6, 7, 8, 9, 10})\n"
     ]
    }
   ],
   "source": [
    "print(frozenset(i for i in a))  # very short"
   ]
  },
  {
   "cell_type": "markdown",
   "metadata": {},
   "source": [
    "* Tuple Comprehension\n",
    "> When a loop is run inside a tuple datatype that loop is for loop, then it is called Tuple Comprehension"
   ]
  },
  {
   "cell_type": "code",
   "execution_count": 72,
   "metadata": {},
   "outputs": [
    {
     "name": "stdout",
     "output_type": "stream",
     "text": [
      "()\n",
      "<class 'tuple'>\n",
      "()\n",
      "<class 'tuple'>\n"
     ]
    }
   ],
   "source": [
    "# Constructor\n",
    "t=tuple()\n",
    "print(t)\n",
    "print(type(t))\n",
    "# Literal\n",
    "t=()\n",
    "print(t)\n",
    "print(type(t))"
   ]
  },
  {
   "cell_type": "code",
   "execution_count": 86,
   "metadata": {},
   "outputs": [
    {
     "name": "stdout",
     "output_type": "stream",
     "text": [
      "(1, 2, 3, 4, 5, 6, 7, 8, 9, 10)\n"
     ]
    }
   ],
   "source": [
    "# Comprehension using constructor\n",
    "t1=tuple()\n",
    "t=range(1,11,1)\n",
    "for i in t:\n",
    "    t1=t1+(i,)\n",
    "print(t1)"
   ]
  },
  {
   "cell_type": "code",
   "execution_count": 88,
   "metadata": {},
   "outputs": [
    {
     "name": "stdout",
     "output_type": "stream",
     "text": [
      "(1, 2, 3, 4, 5, 6, 7, 8, 9, 10)\n"
     ]
    }
   ],
   "source": [
    "# Constructor\n",
    "t2=tuple(i for i in t) # short\n",
    "print(t2)"
   ]
  },
  {
   "cell_type": "code",
   "execution_count": 89,
   "metadata": {},
   "outputs": [
    {
     "name": "stdout",
     "output_type": "stream",
     "text": [
      "(1, 2, 3, 4, 5, 6, 7, 8, 9, 10)\n"
     ]
    }
   ],
   "source": [
    "print(tuple(i for i in t))"
   ]
  },
  {
   "cell_type": "code",
   "execution_count": 93,
   "metadata": {},
   "outputs": [
    {
     "name": "stdout",
     "output_type": "stream",
     "text": [
      "(2, 4, 6, 8, 10, 12, 14, 16, 18, 20)\n"
     ]
    }
   ],
   "source": [
    "# using literal\n",
    "newt=()\n",
    "tup=(1,2,3,4,5,6,7,8,9,10,11,12,13,14,15,16,17,18,19,20)\n",
    "for i in tup:\n",
    "    if i%2==0:\n",
    "      newt=newt+(i,)\n",
    "print(newt)"
   ]
  },
  {
   "cell_type": "code",
   "execution_count": 98,
   "metadata": {},
   "outputs": [
    {
     "name": "stdout",
     "output_type": "stream",
     "text": [
      "<generator object <genexpr> at 0x0000020ED30A3920>\n",
      "Generator object : to get the value of genrator object we use next() , __next__().\n"
     ]
    }
   ],
   "source": [
    "# Comprehension using literal\n",
    "newt=(i for i in tup if i%2==0) \n",
    "print(newt)\n",
    "        # Generator object : to get the value of genrator object we use next() , __next__().\n",
    "print(\"Generator object : to get the value of genrator object we use next() , __next__().\") "
   ]
  },
  {
   "cell_type": "code",
   "execution_count": 111,
   "metadata": {},
   "outputs": [
    {
     "ename": "StopIteration",
     "evalue": "",
     "output_type": "error",
     "traceback": [
      "\u001b[1;31m---------------------------------------------------------------------------\u001b[0m",
      "\u001b[1;31mStopIteration\u001b[0m                             Traceback (most recent call last)",
      "Cell \u001b[1;32mIn[111], line 1\u001b[0m\n\u001b[1;32m----> 1\u001b[0m \u001b[39mnext\u001b[39;49m(newt)\n",
      "\u001b[1;31mStopIteration\u001b[0m: "
     ]
    }
   ],
   "source": [
    "next(newt) # genrator (start and end)"
   ]
  }
 ],
 "metadata": {
  "kernelspec": {
   "display_name": "Python 3",
   "language": "python",
   "name": "python3"
  },
  "language_info": {
   "codemirror_mode": {
    "name": "ipython",
    "version": 3
   },
   "file_extension": ".py",
   "mimetype": "text/x-python",
   "name": "python",
   "nbconvert_exporter": "python",
   "pygments_lexer": "ipython3",
   "version": "3.11.4"
  },
  "orig_nbformat": 4
 },
 "nbformat": 4,
 "nbformat_minor": 2
}
