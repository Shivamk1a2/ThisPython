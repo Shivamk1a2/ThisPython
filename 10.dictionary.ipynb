{
 "cells": [
  {
   "cell_type": "markdown",
   "metadata": {},
   "source": [
    "# Dictionary Datatype \n",
    "> Dictionary are used to store data value in key : value pairs.\n",
    "  A dictionary is a collection which is ordered , changeble , don't allow duplicate."
   ]
  },
  {
   "cell_type": "markdown",
   "metadata": {},
   "source": [
    "1. Dictionary Constructor is dict().\n",
    "2. Dictionary Literal is { }.\n",
    "3. Dictionary is a combination of key and value.\n",
    "4. Dictionary key act as a index values.\n",
    "5. Dictionary key must be immutable datatype.\n",
    "6. Dictionary is a unordered and mutable datatype.\n",
    "7. Dictionary does not support indexing.\n",
    "8. Dictionary hava various methods.\n",
    "9. Dictionary does't support concatination. but using update() method you can concate.\n",
    "10. Keys are unique.\n"
   ]
  },
  {
   "cell_type": "markdown",
   "metadata": {},
   "source": [
    "* Dictionary is a combination of key and value.\n",
    "(dictionary are written with Curly Brackets { })\n",
    "\n"
   ]
  },
  {
   "cell_type": "code",
   "execution_count": 8,
   "metadata": {},
   "outputs": [
    {
     "name": "stdout",
     "output_type": "stream",
     "text": [
      "Roll_no  :  1\n",
      "Name  :  Krishna\n",
      "Course  :  Phd.\n",
      "City  :  Delhi\n"
     ]
    }
   ],
   "source": [
    "dictionary={\n",
    "              'Roll_no' : 1,\n",
    "              'Name'  : 'Krishna',\n",
    "              'Course' : 'Phd.',\n",
    "              'City' : 'Delhi'\n",
    "\n",
    "}\n",
    "# print(dictionary)\n",
    "for key in dictionary:\n",
    "    print(key ,\" : \", dictionary[key])"
   ]
  },
  {
   "cell_type": "markdown",
   "metadata": {},
   "source": [
    "* Create empty dictionary datatype.\n",
    "1. using constructor, I created a empty dictionary datatype.\n",
    "2. using literal, I created a empty dictionary datatype."
   ]
  },
  {
   "cell_type": "code",
   "execution_count": 10,
   "metadata": {},
   "outputs": [
    {
     "name": "stdout",
     "output_type": "stream",
     "text": [
      "{}\n",
      "<class 'dict'>\n"
     ]
    }
   ],
   "source": [
    "# Using Constructor.\n",
    "d=dict()\n",
    "print(d)\n",
    "print(type(d))"
   ]
  },
  {
   "cell_type": "code",
   "execution_count": 12,
   "metadata": {},
   "outputs": [
    {
     "name": "stdout",
     "output_type": "stream",
     "text": [
      "{}\n",
      "<class 'dict'>\n"
     ]
    }
   ],
   "source": [
    "# Using Literals.\n",
    "d={}\n",
    "print(d)\n",
    "print(type(d))"
   ]
  },
  {
   "cell_type": "markdown",
   "metadata": {},
   "source": [
    "* Dictionary key act as a index values."
   ]
  },
  {
   "cell_type": "code",
   "execution_count": 20,
   "metadata": {},
   "outputs": [
    {
     "name": "stdout",
     "output_type": "stream",
     "text": [
      "Shivam\n",
      "Krishna\n",
      "Rahul\n",
      "Vishal\n",
      "Priyanshi\n"
     ]
    }
   ],
   "source": [
    "a={\n",
    "    1: 'Shivam',\n",
    "    2: 'Krishna',\n",
    "    3: 'Rahul',\n",
    "    4: 'Vishal',\n",
    "    5: 'Priyanshi'\n",
    "}\n",
    "print(a[1])\n",
    "print(a[2])\n",
    "print(a[3])\n",
    "print(a[4])\n",
    "print(a[5])\n"
   ]
  },
  {
   "cell_type": "markdown",
   "metadata": {},
   "source": [
    "* Dictionary key must be immutable datatype.\n",
    "> Keys are immutabe (which cannot be changed) datatype that can be either String and Numbers.(however, key can not be a mutable datatype.)"
   ]
  },
  {
   "cell_type": "code",
   "execution_count": 84,
   "metadata": {},
   "outputs": [
    {
     "name": "stdout",
     "output_type": "stream",
     "text": [
      "{1: 'Python', 2: 'Django', 3: 'Java', 4: 'C#', 5: 'Javascript'}\n"
     ]
    }
   ],
   "source": [
    "# using numbers.\n",
    "a={ \n",
    "    1:'Python',\n",
    "    2:'Django',\n",
    "    3:'Java',\n",
    "    4:'C#',\n",
    "    5:'Javascript'\n",
    "  }\n",
    "print(a)"
   ]
  },
  {
   "cell_type": "code",
   "execution_count": 85,
   "metadata": {},
   "outputs": [
    {
     "name": "stdout",
     "output_type": "stream",
     "text": [
      "{'F_name': 'Krishna', 'L_name': 'Sharama', 'Age': 27, 'City': 'Delhi'}\n"
     ]
    }
   ],
   "source": [
    "# using string.\n",
    "b={\n",
    "    'F_name' : 'Krishna',\n",
    "    'L_name' : 'Sharama',\n",
    "    'Age'    :  27,\n",
    "    'City'   : 'Delhi'\n",
    "}\n",
    "print(b)"
   ]
  },
  {
   "cell_type": "markdown",
   "metadata": {},
   "source": [
    "* Dictionary Methods :\n"
   ]
  },
  {
   "cell_type": "code",
   "execution_count": 86,
   "metadata": {},
   "outputs": [
    {
     "name": "stdout",
     "output_type": "stream",
     "text": [
      "{1: 'Rahul', 2: 'Vishal', 3: 'Neha', 4: 'Pooja', 5: 'Vivek'}\n",
      "2420222267328\n"
     ]
    }
   ],
   "source": [
    "# dictionary\n",
    "d={1:'Rahul',2:'Vishal',3:'Neha',4:'Pooja',5:'Vivek'}\n",
    "print(d)\n",
    "print(id(d))"
   ]
  },
  {
   "cell_type": "code",
   "execution_count": 87,
   "metadata": {},
   "outputs": [
    {
     "name": "stdout",
     "output_type": "stream",
     "text": [
      "{1: 'Rahul', 2: 'Vishal', 3: 'Neha', 4: 'Pooja'}\n",
      "2420222267328\n"
     ]
    }
   ],
   "source": [
    "# pop() method.\n",
    "d.pop(5)    # Removes the element with the specified key\n",
    "print(d)\n",
    "print(id(d)) "
   ]
  },
  {
   "cell_type": "code",
   "execution_count": 88,
   "metadata": {},
   "outputs": [
    {
     "name": "stdout",
     "output_type": "stream",
     "text": [
      "(4, 'Pooja')\n",
      "2420222247360\n"
     ]
    }
   ],
   "source": [
    "# popitem() methods\n",
    "a=d.popitem()\n",
    "print(a)\n",
    "print(id(a))"
   ]
  },
  {
   "cell_type": "code",
   "execution_count": 89,
   "metadata": {},
   "outputs": [
    {
     "name": "stdout",
     "output_type": "stream",
     "text": [
      "{1: 'Rahul', 2: 'Vishal', 3: 'Neha', 5: 'Vivek Sharma', 6: 'Shubham'}\n",
      "2420222267328\n"
     ]
    }
   ],
   "source": [
    "# update() method.\n",
    "d.update({5: 'Vivek Sharma',6 : 'Shubham'})   # Updates the dictionary with the specified key-value pairs\n",
    "print(d)\n",
    "print(id(d))"
   ]
  },
  {
   "cell_type": "code",
   "execution_count": 90,
   "metadata": {},
   "outputs": [
    {
     "name": "stdout",
     "output_type": "stream",
     "text": [
      "{}\n",
      "2420222267328\n"
     ]
    }
   ],
   "source": [
    "# clear() methods.\n",
    "d.clear() # Removes all the elements from the dictionary\n",
    "print(d)\n",
    "print(id(d))"
   ]
  },
  {
   "cell_type": "code",
   "execution_count": 91,
   "metadata": {},
   "outputs": [
    {
     "name": "stdout",
     "output_type": "stream",
     "text": [
      "{1: 'Rahul', 2: 'Vishal', 3: 'Neha', 4: 'Pooja', 5: 'Vivek Sharma', 6: 'Shubham'}\n",
      "2420222267328\n"
     ]
    }
   ],
   "source": [
    "d.update({1: 'Rahul', 2: 'Vishal', 3: 'Neha', 4: 'Pooja', 5: 'Vivek Sharma', 6: 'Shubham'})\n",
    "print(d)\n",
    "print(id(d))"
   ]
  },
  {
   "cell_type": "code",
   "execution_count": 92,
   "metadata": {},
   "outputs": [
    {
     "name": "stdout",
     "output_type": "stream",
     "text": [
      "{1: 'Rahul', 2: 'Vishal', 3: 'Neha', 4: 'Pooja', 5: 'Vivek Sharma', 6: 'Shubham'}\n",
      "2420222267328\n"
     ]
    }
   ],
   "source": [
    "# using c=b\n",
    "c=d # from this method. we can see, Id will be same.\n",
    "print(c)\n",
    "print(id(c))"
   ]
  },
  {
   "cell_type": "code",
   "execution_count": 93,
   "metadata": {},
   "outputs": [
    {
     "name": "stdout",
     "output_type": "stream",
     "text": [
      "{1: 'Rahul', 2: 'Vishal', 3: 'Neha', 4: 'Pooja', 5: 'Vivek Sharma', 6: 'Shubham'}\n",
      "2420221964800\n"
     ]
    }
   ],
   "source": [
    "# copy() methods.\n",
    "c=d.copy()\n",
    "print(c)\n",
    "print(id(c))"
   ]
  },
  {
   "cell_type": "code",
   "execution_count": 94,
   "metadata": {},
   "outputs": [
    {
     "name": "stdout",
     "output_type": "stream",
     "text": [
      "{1: 'Rahul', 2: 'Vishal', 3: 'Neha', 4: 'Pooja', 5: 'Vivek Sharma', 6: 'Shubham', 7: 'N/A'}\n",
      "2420222267328\n",
      "-------------------------------------------------------------------------\n",
      "{1: 'Rahul', 2: 'Vishal', 3: 'Neha', 4: 'Pooja', 5: 'Vivek Sharma', 6: 'Shubham', 7: 'N/A', 8: 'N/A'}\n",
      "2420222267328\n"
     ]
    }
   ],
   "source": [
    "# setdefault()\n",
    "d.setdefault(7,'N/A')\n",
    "print(d)\n",
    "print(id(d))\n",
    "print(\"-------------------------------------------------------------------------\")\n",
    "d.setdefault(8,'N/A')\n",
    "print(d)\n",
    "print(id(d))"
   ]
  },
  {
   "cell_type": "code",
   "execution_count": 95,
   "metadata": {},
   "outputs": [
    {
     "name": "stdout",
     "output_type": "stream",
     "text": [
      "{1: 'Rahul', 2: 'Vishal', 3: 'Neha', 4: 'Pooja', 5: 'Vivek Sharma', 6: 'Shubham', 7: 'Anjali', 8: 'N/A'}\n",
      "2420222267328\n"
     ]
    }
   ],
   "source": [
    "# we can update N/a value from using index and update. ( we can see )\n",
    "#using index :-\n",
    "d[7]='Anjali'\n",
    "print(d)\n",
    "print(id(d))"
   ]
  },
  {
   "cell_type": "code",
   "execution_count": 96,
   "metadata": {},
   "outputs": [
    {
     "name": "stdout",
     "output_type": "stream",
     "text": [
      "{1: 'Rahul', 2: 'Vishal', 3: 'Neha', 4: 'Pooja', 5: 'Vivek Sharma', 6: 'Shubham', 7: 'Anjali', 8: 'Rajeev kumar'}\n",
      "2420222267328\n"
     ]
    }
   ],
   "source": [
    "# using update() methods ( update only with cruly brackets means dict)\n",
    "d.update({8 :'Rajeev kumar'})\n",
    "print(d)\n",
    "print(id(d))"
   ]
  },
  {
   "cell_type": "code",
   "execution_count": 98,
   "metadata": {},
   "outputs": [
    {
     "name": "stdout",
     "output_type": "stream",
     "text": [
      "Vivek Sharma\n",
      "2420221187184\n"
     ]
    }
   ],
   "source": [
    "# get() methods\n",
    "e=d.get(5) # Returns the value of the specified key\n",
    "print(e)\n",
    "print(id(e))"
   ]
  },
  {
   "cell_type": "code",
   "execution_count": 64,
   "metadata": {},
   "outputs": [
    {
     "name": "stdout",
     "output_type": "stream",
     "text": [
      "dict_items([(1, 'Rahul'), (2, 'Vishal'), (3, 'Neha'), (4, 'Pooja'), (5, 'Vivek Sharma'), (6, 'Shubham'), (7, 'Anjali'), (8, 'Rajeev kumar')])\n"
     ]
    }
   ],
   "source": [
    "# item() methods\n",
    "f=d.items() # Returns a list containing a tuple for each key value pair\n",
    "print(f)"
   ]
  },
  {
   "cell_type": "code",
   "execution_count": 99,
   "metadata": {},
   "outputs": [
    {
     "name": "stdout",
     "output_type": "stream",
     "text": [
      "dict_keys([1, 2, 3, 4, 5, 6, 7, 8])\n",
      "2420216926304\n"
     ]
    }
   ],
   "source": [
    "# keys() methods\n",
    "g=d.keys() # Returns a list containing the dictionary's keys\n",
    "print(g)\n",
    "print(id(g))"
   ]
  },
  {
   "cell_type": "code",
   "execution_count": 102,
   "metadata": {},
   "outputs": [
    {
     "name": "stdout",
     "output_type": "stream",
     "text": [
      "dict_values(['Rahul', 'Vishal', 'Neha', 'Pooja', 'Vivek Sharma', 'Shubham', 'Anjali', 'Rajeev kumar'])\n"
     ]
    }
   ],
   "source": [
    "# values() methods\n",
    "b=d.values() # Returns a list of all the values in the dictionary\n",
    "print(b)\n"
   ]
  },
  {
   "cell_type": "code",
   "execution_count": 104,
   "metadata": {},
   "outputs": [
    {
     "name": "stdout",
     "output_type": "stream",
     "text": [
      "{1: 'N/A', 2: 'N/A', 3: 'N/A', 4: 'N/A', 5: 'N/A', 6: 'N/A', 7: 'N/A', 8: 'N/A', 9: 'N/A', 10: 'N/A'}\n"
     ]
    }
   ],
   "source": [
    "# formkey() methods\n",
    "h=d.fromkeys([1,2,3,4,5,6,7,8,9,10],'N/A') # Returns a dictionary with the specified keys and value\n",
    "print(h)\n"
   ]
  }
 ],
 "metadata": {
  "kernelspec": {
   "display_name": "Python 3",
   "language": "python",
   "name": "python3"
  },
  "language_info": {
   "codemirror_mode": {
    "name": "ipython",
    "version": 3
   },
   "file_extension": ".py",
   "mimetype": "text/x-python",
   "name": "python",
   "nbconvert_exporter": "python",
   "pygments_lexer": "ipython3",
   "version": "3.11.4"
  },
  "orig_nbformat": 4
 },
 "nbformat": 4,
 "nbformat_minor": 2
}
