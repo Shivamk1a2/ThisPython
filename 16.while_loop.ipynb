{
 "cells": [
  {
   "cell_type": "markdown",
   "metadata": {},
   "source": [
    "# Loops in Python :\n",
    "> Sometimes we want to repeat a set of students in our program for instance: print 1 to 100.\n",
    " Loops make it easy for a programmer to tell the computer, which set of instructure to repeat and how!\n",
    " * There are two main types of loops in python : \n",
    "  1. while loops\n",
    "  2. for loops"
   ]
  },
  {
   "cell_type": "markdown",
   "metadata": {},
   "source": [
    "* While Loops :-\n",
    "1. single while loop\n",
    "2. nested while loop\n",
    "3. pattern using single while loop\n",
    "4. pattern using nested while loop\n",
    "5. countinue\n",
    "6. break\n",
    "7. pass\n",
    "8. while loop does not support comprehension"
   ]
  },
  {
   "cell_type": "markdown",
   "metadata": {},
   "source": [
    "* While loops\n",
    "> In while loops, the condition is checked first. If it evaluates to true, the body of loop is executed otherwise not!"
   ]
  },
  {
   "cell_type": "markdown",
   "metadata": {},
   "source": [
    "Syntax of while loop :\n",
    "1. i=1           - initialization\n",
    "2. while i<=10   - while condition\n",
    "3. print(i)      - statements\n",
    "4. i+=1          - increament/decreament"
   ]
  },
  {
   "cell_type": "markdown",
   "metadata": {},
   "source": [
    "* Program using while loop"
   ]
  },
  {
   "cell_type": "code",
   "execution_count": 2,
   "metadata": {},
   "outputs": [
    {
     "name": "stdout",
     "output_type": "stream",
     "text": [
      "1\n",
      "2\n",
      "3\n",
      "4\n",
      "5\n",
      "6\n",
      "7\n",
      "8\n",
      "9\n",
      "10\n"
     ]
    }
   ],
   "source": [
    "i=1            # initialization\n",
    "while i<=10:   # while condition\n",
    "    print(i)   # statements\n",
    "    i+=1;      # increment/decrement"
   ]
  },
  {
   "cell_type": "code",
   "execution_count": 11,
   "metadata": {},
   "outputs": [
    {
     "name": "stdout",
     "output_type": "stream",
     "text": [
      "1 - Hello World\n",
      "2 - Hello World\n",
      "3 - Hello World\n",
      "4 - Hello World\n",
      "5 - Hello World\n",
      "6 - Hello World\n",
      "7 - Hello World\n",
      "8 - Hello World\n",
      "9 - Hello World\n",
      "10 - Hello World\n"
     ]
    }
   ],
   "source": [
    "i=1\n",
    "while i<=10:\n",
    "    print(i,\"- Hello World\")\n",
    "    i+=1"
   ]
  },
  {
   "cell_type": "markdown",
   "metadata": {},
   "source": [
    "* while loop with if else"
   ]
  },
  {
   "cell_type": "markdown",
   "metadata": {},
   "source": [
    "1. The Continue statements :\n",
    "> Continue statements is used to stop the current iteration of the loop and continue with the next one It instructs the program to skip this itration"
   ]
  },
  {
   "cell_type": "code",
   "execution_count": 21,
   "metadata": {},
   "outputs": [
    {
     "name": "stdout",
     "output_type": "stream",
     "text": [
      "1\n",
      "2\n",
      "4\n",
      "5\n"
     ]
    }
   ],
   "source": [
    "# example 1.\n",
    "i=1\n",
    "while i<=5:\n",
    "    if i==3:\n",
    "        i+=1\n",
    "        continue\n",
    "    print(i)\n",
    "    i+=1\n",
    "    "
   ]
  },
  {
   "cell_type": "code",
   "execution_count": 22,
   "metadata": {},
   "outputs": [
    {
     "name": "stdout",
     "output_type": "stream",
     "text": [
      "1\n",
      "2\n",
      "4\n",
      "6\n",
      "8\n",
      "10\n",
      "12\n",
      "14\n",
      "15\n"
     ]
    }
   ],
   "source": [
    "#example 2.\n",
    "i=1\n",
    "while i<=15:\n",
    "    if i==3 or i==5 or i==7 or i==9 or i==11 or i==13:\n",
    "        i+=1\n",
    "        continue\n",
    "    print(i)\n",
    "    i+=1;"
   ]
  },
  {
   "cell_type": "code",
   "execution_count": 24,
   "metadata": {},
   "outputs": [
    {
     "name": "stdout",
     "output_type": "stream",
     "text": [
      "2\n",
      "4\n",
      "6\n",
      "8\n",
      "10\n",
      "12\n",
      "14\n",
      "16\n",
      "18\n",
      "20\n"
     ]
    }
   ],
   "source": [
    "# example 3.\n",
    "i=1\n",
    "while i<=20:\n",
    "    if i in [1,3,5,7,9,11,13,15,17,19]:\n",
    "        i+=1\n",
    "        continue\n",
    "    print(i)\n",
    "    i+=1"
   ]
  },
  {
   "cell_type": "markdown",
   "metadata": {},
   "source": [
    "2. The Break Statements :\n",
    ">  The Break statement is used to break out a for loop or out a while loop."
   ]
  },
  {
   "cell_type": "code",
   "execution_count": 29,
   "metadata": {},
   "outputs": [
    {
     "name": "stdout",
     "output_type": "stream",
     "text": [
      "1\n",
      "2\n",
      "3\n",
      "4\n"
     ]
    }
   ],
   "source": [
    "i=1\n",
    "while i<=10:\n",
    "    if i==5:\n",
    "        break\n",
    "    print(i)\n",
    "    i+=1"
   ]
  },
  {
   "cell_type": "markdown",
   "metadata": {},
   "source": [
    "3. The Pass statement :\n",
    "> Pass is a null statement in python."
   ]
  },
  {
   "cell_type": "code",
   "execution_count": 35,
   "metadata": {},
   "outputs": [
    {
     "name": "stdout",
     "output_type": "stream",
     "text": [
      "1\n",
      "2\n",
      "3\n",
      "4\n",
      "5\n"
     ]
    }
   ],
   "source": [
    "i=1\n",
    "while i<=5:\n",
    "    if i==3:\n",
    "       pass\n",
    "    print(i)\n",
    "    i+=1"
   ]
  },
  {
   "cell_type": "markdown",
   "metadata": {},
   "source": [
    "* Program using while loop"
   ]
  },
  {
   "cell_type": "markdown",
   "metadata": {},
   "source": [
    "1. Write a program in python sum of n- numbers."
   ]
  },
  {
   "cell_type": "code",
   "execution_count": 51,
   "metadata": {},
   "outputs": [
    {
     "name": "stdout",
     "output_type": "stream",
     "text": [
      "Sum of 5 numbers =  15\n"
     ]
    }
   ],
   "source": [
    "n=int(input(\"Enter num : \"))\n",
    "sum=0\n",
    "i=1\n",
    "while i<=n:\n",
    "    sum=sum+i\n",
    "    i+=1\n",
    "print(f\"Sum of {n} numbers = \",sum)\n",
    "    "
   ]
  },
  {
   "cell_type": "markdown",
   "metadata": {},
   "source": [
    "2. Write a program in python sum of digits"
   ]
  },
  {
   "cell_type": "code",
   "execution_count": 62,
   "metadata": {},
   "outputs": [
    {
     "name": "stdout",
     "output_type": "stream",
     "text": [
      "Sum of digits :  9\n"
     ]
    }
   ],
   "source": [
    "n=int(input(\"Enter num : \"))\n",
    "rem=0\n",
    "sum=0\n",
    "i=1\n",
    "while i<=n:\n",
    "    rem=n%10\n",
    "    sum=sum+rem\n",
    "    n=int(n/10)\n",
    "print(\"Sum of digits : \",sum)"
   ]
  },
  {
   "cell_type": "markdown",
   "metadata": {},
   "source": [
    "3. Write a program in python print tables"
   ]
  },
  {
   "cell_type": "code",
   "execution_count": 76,
   "metadata": {},
   "outputs": [
    {
     "name": "stdout",
     "output_type": "stream",
     "text": [
      "85 * 1 = 85\n",
      "85 * 2 = 170\n",
      "85 * 3 = 255\n",
      "85 * 4 = 340\n",
      "85 * 5 = 425\n",
      "85 * 6 = 510\n",
      "85 * 7 = 595\n",
      "85 * 8 = 680\n",
      "85 * 9 = 765\n",
      "85 * 10 = 850\n"
     ]
    }
   ],
   "source": [
    "n=int(input(\"Enter no : \"))\n",
    "i=1\n",
    "while i<=10:\n",
    "    print(n,\"*\",i,\"=\",n*i)\n",
    "    i+=1"
   ]
  },
  {
   "cell_type": "markdown",
   "metadata": {},
   "source": [
    "3.1 Write a program in python print tables"
   ]
  },
  {
   "cell_type": "code",
   "execution_count": 77,
   "metadata": {},
   "outputs": [
    {
     "name": "stdout",
     "output_type": "stream",
     "text": [
      "Tables print between 1 to 40\n"
     ]
    }
   ],
   "source": [
    "n=int(input(\"Enter no : \"))\n",
    "i=1\n",
    "if n>=1 and n<=40:\n",
    "    while i<=10:\n",
    "        print(n,\"*\",i,\"=\",n*i)\n",
    "        i+=1\n",
    "else:\n",
    "    print(\"Tables print between 1 to 40\")"
   ]
  },
  {
   "cell_type": "markdown",
   "metadata": {},
   "source": [
    "4. Write a program in python find factorial of a numbers"
   ]
  },
  {
   "cell_type": "code",
   "execution_count": 84,
   "metadata": {},
   "outputs": [
    {
     "name": "stdout",
     "output_type": "stream",
     "text": [
      "The factorial of no is :  720\n"
     ]
    }
   ],
   "source": [
    "n=int(input(\"Enter numbers\"))\n",
    "fact=1\n",
    "i=1\n",
    "while i<=n:\n",
    "    fact=fact*n\n",
    "    n-=1\n",
    "print(f\"The factorial of no is : \",fact)"
   ]
  },
  {
   "cell_type": "markdown",
   "metadata": {},
   "source": [
    "> * PATTERN PROGRAM IN PYTHON USING SINGLE WHILE LOOP"
   ]
  },
  {
   "cell_type": "code",
   "execution_count": 85,
   "metadata": {},
   "outputs": [
    {
     "name": "stdout",
     "output_type": "stream",
     "text": [
      "*\n",
      "**\n",
      "***\n",
      "****\n",
      "*****\n"
     ]
    }
   ],
   "source": [
    "i=1\n",
    "while i<=5:\n",
    "    print(\"*\"*i)\n",
    "    i+=1"
   ]
  },
  {
   "cell_type": "code",
   "execution_count": 90,
   "metadata": {},
   "outputs": [
    {
     "name": "stdout",
     "output_type": "stream",
     "text": [
      "    *\n",
      "   **\n",
      "  ***\n",
      " ****\n",
      "*****\n"
     ]
    }
   ],
   "source": [
    "i=1\n",
    "while i<=5:\n",
    "    print(\" \"*(5-i)+\"*\"*i)\n",
    "    i+=1"
   ]
  },
  {
   "cell_type": "code",
   "execution_count": 94,
   "metadata": {},
   "outputs": [
    {
     "name": "stdout",
     "output_type": "stream",
     "text": [
      "    * \n",
      "   * * \n",
      "  * * * \n",
      " * * * * \n",
      "* * * * * \n"
     ]
    }
   ],
   "source": [
    "i=1\n",
    "while i<=5:\n",
    "    print(\" \"*(5-i)+\"* \"*i)\n",
    "    i+=1"
   ]
  },
  {
   "cell_type": "code",
   "execution_count": 97,
   "metadata": {},
   "outputs": [
    {
     "name": "stdout",
     "output_type": "stream",
     "text": [
      "    *\n",
      "   ***\n",
      "  *****\n",
      " *******\n",
      "*********\n"
     ]
    }
   ],
   "source": [
    "i=1\n",
    "while i<=5:\n",
    "    print(\" \"*(5-i)+\"*\"*(2*i-1))\n",
    "    i+=1"
   ]
  },
  {
   "cell_type": "code",
   "execution_count": 4,
   "metadata": {},
   "outputs": [
    {
     "name": "stdout",
     "output_type": "stream",
     "text": [
      "*****\n",
      "****\n",
      "***\n",
      "**\n",
      "*\n"
     ]
    }
   ],
   "source": [
    "i=1\n",
    "while i<=5:\n",
    "    print(\"*\"*(6-i))\n",
    "    i+=1"
   ]
  },
  {
   "cell_type": "code",
   "execution_count": 18,
   "metadata": {},
   "outputs": [
    {
     "name": "stdout",
     "output_type": "stream",
     "text": [
      "  * * * * *\n",
      "   * * * *\n",
      "    * * *\n",
      "     * *\n",
      "      *\n"
     ]
    }
   ],
   "source": [
    "i=1\n",
    "while i<=5:\n",
    "    print(\" \"*i+\" *\"*(6-i))\n",
    "    i+=1;"
   ]
  },
  {
   "cell_type": "code",
   "execution_count": 15,
   "metadata": {},
   "outputs": [
    {
     "name": "stdout",
     "output_type": "stream",
     "text": [
      " *********\n",
      "  *******\n",
      "   *****\n",
      "    ***\n",
      "     *\n"
     ]
    }
   ],
   "source": [
    "i=1\n",
    "while i<=5:\n",
    "    print(\" \"*i+\"*\"*(2*(6-i)-1))\n",
    "    i+=1;"
   ]
  },
  {
   "cell_type": "code",
   "execution_count": 23,
   "metadata": {},
   "outputs": [
    {
     "name": "stdout",
     "output_type": "stream",
     "text": [
      " *********\n",
      "  *******\n",
      "   *****\n",
      "    ***\n",
      "     *\n",
      "    ***\n",
      "   *****\n",
      "  *******\n",
      " *********\n"
     ]
    }
   ],
   "source": [
    "i=1\n",
    "while i<=5:\n",
    "    print(\" \"*i+\"*\"*(2*(6-i)-1))\n",
    "    i+=1;\n",
    "\n",
    "i=2\n",
    "while i<=5:\n",
    "    print(\" \"*(5-i)+\" \"+\"*\"*(2*i-1))\n",
    "    i+=1"
   ]
  },
  {
   "cell_type": "code",
   "execution_count": 66,
   "metadata": {},
   "outputs": [
    {
     "name": "stdout",
     "output_type": "stream",
     "text": [
      " *********\n",
      "  *******\n",
      "   *****\n",
      "    ***\n",
      "     *\n",
      "    ***\n",
      "   *****\n",
      "  *******\n",
      " *********\n"
     ]
    }
   ],
   "source": [
    "i=1\n",
    "while i<10:\n",
    "    if i<=5:\n",
    "        print(\" \"*i+\"*\"*(2*(6-i)-1))\n",
    "    else:\n",
    "        print(\" \"*(10-i)+\"*\"*(2*i-9))\n",
    "    i+=1"
   ]
  },
  {
   "cell_type": "code",
   "execution_count": 127,
   "metadata": {},
   "outputs": [
    {
     "name": "stdout",
     "output_type": "stream",
     "text": [
      "     *\n",
      "    ***\n",
      "   *****\n",
      "  *******\n",
      " *********\n",
      "  *******\n",
      "   *****\n",
      "    ***\n",
      "     *\n"
     ]
    }
   ],
   "source": [
    "i=1\n",
    "while i<10:\n",
    "    if i<=5:\n",
    "        print(\" \"*(6-i)+\"*\"*(2*i-1))\n",
    "    else:\n",
    "        print(\" \"*(i-4)+\"*\"*(2*(10-i)-1))\n",
    "    i+=1"
   ]
  },
  {
   "cell_type": "code",
   "execution_count": 140,
   "metadata": {},
   "outputs": [
    {
     "name": "stdout",
     "output_type": "stream",
     "text": [
      "*\n",
      "**\n",
      "***\n",
      "****\n",
      "*****\n",
      "****\n",
      "***\n",
      "**\n",
      "*\n"
     ]
    }
   ],
   "source": [
    "i=1\n",
    "while i<10:\n",
    "    if i<=5:\n",
    "        print(\"*\"*i)\n",
    "    else:\n",
    "        print(\"*\"*(10-i))\n",
    "    i+=1"
   ]
  },
  {
   "cell_type": "code",
   "execution_count": 216,
   "metadata": {},
   "outputs": [
    {
     "name": "stdout",
     "output_type": "stream",
     "text": [
      "    *\n",
      "   **\n",
      "  ***\n",
      " ****\n",
      "*****\n",
      " ****\n",
      "  ***\n",
      "   **\n",
      "    *\n"
     ]
    }
   ],
   "source": [
    "i=1\n",
    "while i<10:\n",
    "    if i<=5:\n",
    "        print(\" \"*(5-i)+\"*\"*i)\n",
    "    else:\n",
    "        print(\" \"*(i-5)+\"*\"*(10-i))\n",
    "    i+=1"
   ]
  },
  {
   "cell_type": "code",
   "execution_count": 164,
   "metadata": {},
   "outputs": [
    {
     "name": "stdout",
     "output_type": "stream",
     "text": [
      "**********\n",
      "*********\n",
      "********\n",
      "*******\n",
      "******\n",
      "*****\n",
      "****\n",
      "***\n",
      "**\n",
      "*\n",
      "**\n",
      "***\n",
      "****\n",
      "*****\n",
      "******\n",
      "*******\n",
      "********\n",
      "*********\n",
      "**********\n"
     ]
    }
   ],
   "source": [
    "i=1\n",
    "while i<20:\n",
    "    if i<=10:\n",
    "        print(\"*\"*(11-i))\n",
    "    else:\n",
    "        print(\"*\"*(i-9))\n",
    "    i+=1"
   ]
  },
  {
   "cell_type": "code",
   "execution_count": 169,
   "metadata": {},
   "outputs": [
    {
     "name": "stdout",
     "output_type": "stream",
     "text": [
      "*****\n",
      "****\n",
      "***\n",
      "**\n",
      "*\n",
      "**\n",
      "***\n",
      "****\n",
      "*****\n"
     ]
    }
   ],
   "source": [
    "i=1\n",
    "while i<10:\n",
    "    if i<=5:\n",
    "        print(\"*\"*(6-i))\n",
    "    else:\n",
    "        print(\"*\"*(i-4))\n",
    "    i+=1"
   ]
  },
  {
   "cell_type": "markdown",
   "metadata": {},
   "source": [
    "* Program using Nested While loops"
   ]
  },
  {
   "cell_type": "code",
   "execution_count": 220,
   "metadata": {},
   "outputs": [
    {
     "name": "stdout",
     "output_type": "stream",
     "text": [
      "*\n",
      "**\n",
      "***\n",
      "****\n",
      "*****\n"
     ]
    }
   ],
   "source": [
    "i=1\n",
    "while i<=5:\n",
    "    j=1\n",
    "    while j<=i:\n",
    "        print(\"*\",end=\"\")\n",
    "        j+=1\n",
    "    print()\n",
    "    i+=1"
   ]
  },
  {
   "cell_type": "code",
   "execution_count": 181,
   "metadata": {},
   "outputs": [
    {
     "name": "stdout",
     "output_type": "stream",
     "text": [
      "*****\n",
      "****\n",
      "***\n",
      "**\n",
      "*\n"
     ]
    }
   ],
   "source": [
    "i=1\n",
    "while i<=5:\n",
    "    j=5\n",
    "    while j>=i:\n",
    "        print(\"*\",end=\"\")\n",
    "        j-=1\n",
    "    print()\n",
    "    i+=1"
   ]
  },
  {
   "cell_type": "code",
   "execution_count": 185,
   "metadata": {},
   "outputs": [
    {
     "name": "stdout",
     "output_type": "stream",
     "text": [
      "*\n",
      "**\n",
      "***\n",
      "****\n",
      "*****\n",
      "****\n",
      "***\n",
      "**\n",
      "*\n"
     ]
    }
   ],
   "source": [
    "i=1\n",
    "while i<=5:\n",
    "    print(\"*\"*i)\n",
    "    i+=1\n",
    "i=1\n",
    "while i<=4:\n",
    "    print(\"*\"*(5-i))\n",
    "    i+=1"
   ]
  }
 ],
 "metadata": {
  "kernelspec": {
   "display_name": "Python 3",
   "language": "python",
   "name": "python3"
  },
  "language_info": {
   "codemirror_mode": {
    "name": "ipython",
    "version": 3
   },
   "file_extension": ".py",
   "mimetype": "text/x-python",
   "name": "python",
   "nbconvert_exporter": "python",
   "pygments_lexer": "ipython3",
   "version": "3.11.4"
  },
  "orig_nbformat": 4
 },
 "nbformat": 4,
 "nbformat_minor": 2
}
